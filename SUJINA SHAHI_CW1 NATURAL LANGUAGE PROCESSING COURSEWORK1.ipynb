{
 "cells": [
  {
   "cell_type": "code",
   "execution_count": 44,
   "metadata": {
    "executionInfo": {
     "elapsed": 1596,
     "status": "ok",
     "timestamp": 1699018363726,
     "user": {
      "displayName": "sujina shahi",
      "userId": "07203097800516006223"
     },
     "user_tz": 0
    },
    "id": "5A6oouqI7ZtH"
   },
   "outputs": [],
   "source": [
    "\n",
    "import pandas as pd\n",
    "train= pd.read_csv(\"train.csv\")"
   ]
  },
  {
   "cell_type": "code",
   "execution_count": 45,
   "metadata": {
    "id": "v-ByxuLf7qt4"
   },
   "outputs": [
    {
     "data": {
      "text/html": [
       "<div>\n",
       "<style scoped>\n",
       "    .dataframe tbody tr th:only-of-type {\n",
       "        vertical-align: middle;\n",
       "    }\n",
       "\n",
       "    .dataframe tbody tr th {\n",
       "        vertical-align: top;\n",
       "    }\n",
       "\n",
       "    .dataframe thead th {\n",
       "        text-align: right;\n",
       "    }\n",
       "</style>\n",
       "<table border=\"1\" class=\"dataframe\">\n",
       "  <thead>\n",
       "    <tr style=\"text-align: right;\">\n",
       "      <th></th>\n",
       "      <th>id</th>\n",
       "      <th>comment_text</th>\n",
       "      <th>toxic</th>\n",
       "      <th>severe_toxic</th>\n",
       "      <th>obscene</th>\n",
       "      <th>threat</th>\n",
       "      <th>insult</th>\n",
       "      <th>identity_hate</th>\n",
       "    </tr>\n",
       "  </thead>\n",
       "  <tbody>\n",
       "    <tr>\n",
       "      <th>0</th>\n",
       "      <td>0000997932d777bf</td>\n",
       "      <td>Explanation\\nWhy the edits made under my usern...</td>\n",
       "      <td>0</td>\n",
       "      <td>0</td>\n",
       "      <td>0</td>\n",
       "      <td>0</td>\n",
       "      <td>0</td>\n",
       "      <td>0</td>\n",
       "    </tr>\n",
       "    <tr>\n",
       "      <th>1</th>\n",
       "      <td>000103f0d9cfb60f</td>\n",
       "      <td>D'aww! He matches this background colour I'm s...</td>\n",
       "      <td>0</td>\n",
       "      <td>0</td>\n",
       "      <td>0</td>\n",
       "      <td>0</td>\n",
       "      <td>0</td>\n",
       "      <td>0</td>\n",
       "    </tr>\n",
       "    <tr>\n",
       "      <th>2</th>\n",
       "      <td>000113f07ec002fd</td>\n",
       "      <td>Hey man, I'm really not trying to edit war. It...</td>\n",
       "      <td>0</td>\n",
       "      <td>0</td>\n",
       "      <td>0</td>\n",
       "      <td>0</td>\n",
       "      <td>0</td>\n",
       "      <td>0</td>\n",
       "    </tr>\n",
       "    <tr>\n",
       "      <th>3</th>\n",
       "      <td>0001b41b1c6bb37e</td>\n",
       "      <td>\"\\nMore\\nI can't make any real suggestions on ...</td>\n",
       "      <td>0</td>\n",
       "      <td>0</td>\n",
       "      <td>0</td>\n",
       "      <td>0</td>\n",
       "      <td>0</td>\n",
       "      <td>0</td>\n",
       "    </tr>\n",
       "    <tr>\n",
       "      <th>4</th>\n",
       "      <td>0001d958c54c6e35</td>\n",
       "      <td>You, sir, are my hero. Any chance you remember...</td>\n",
       "      <td>0</td>\n",
       "      <td>0</td>\n",
       "      <td>0</td>\n",
       "      <td>0</td>\n",
       "      <td>0</td>\n",
       "      <td>0</td>\n",
       "    </tr>\n",
       "    <tr>\n",
       "      <th>...</th>\n",
       "      <td>...</td>\n",
       "      <td>...</td>\n",
       "      <td>...</td>\n",
       "      <td>...</td>\n",
       "      <td>...</td>\n",
       "      <td>...</td>\n",
       "      <td>...</td>\n",
       "      <td>...</td>\n",
       "    </tr>\n",
       "    <tr>\n",
       "      <th>159566</th>\n",
       "      <td>ffe987279560d7ff</td>\n",
       "      <td>\":::::And for the second time of asking, when ...</td>\n",
       "      <td>0</td>\n",
       "      <td>0</td>\n",
       "      <td>0</td>\n",
       "      <td>0</td>\n",
       "      <td>0</td>\n",
       "      <td>0</td>\n",
       "    </tr>\n",
       "    <tr>\n",
       "      <th>159567</th>\n",
       "      <td>ffea4adeee384e90</td>\n",
       "      <td>You should be ashamed of yourself \\n\\nThat is ...</td>\n",
       "      <td>0</td>\n",
       "      <td>0</td>\n",
       "      <td>0</td>\n",
       "      <td>0</td>\n",
       "      <td>0</td>\n",
       "      <td>0</td>\n",
       "    </tr>\n",
       "    <tr>\n",
       "      <th>159568</th>\n",
       "      <td>ffee36eab5c267c9</td>\n",
       "      <td>Spitzer \\n\\nUmm, theres no actual article for ...</td>\n",
       "      <td>0</td>\n",
       "      <td>0</td>\n",
       "      <td>0</td>\n",
       "      <td>0</td>\n",
       "      <td>0</td>\n",
       "      <td>0</td>\n",
       "    </tr>\n",
       "    <tr>\n",
       "      <th>159569</th>\n",
       "      <td>fff125370e4aaaf3</td>\n",
       "      <td>And it looks like it was actually you who put ...</td>\n",
       "      <td>0</td>\n",
       "      <td>0</td>\n",
       "      <td>0</td>\n",
       "      <td>0</td>\n",
       "      <td>0</td>\n",
       "      <td>0</td>\n",
       "    </tr>\n",
       "    <tr>\n",
       "      <th>159570</th>\n",
       "      <td>fff46fc426af1f9a</td>\n",
       "      <td>\"\\nAnd ... I really don't think you understand...</td>\n",
       "      <td>0</td>\n",
       "      <td>0</td>\n",
       "      <td>0</td>\n",
       "      <td>0</td>\n",
       "      <td>0</td>\n",
       "      <td>0</td>\n",
       "    </tr>\n",
       "  </tbody>\n",
       "</table>\n",
       "<p>159571 rows × 8 columns</p>\n",
       "</div>"
      ],
      "text/plain": [
       "                      id                                       comment_text  \\\n",
       "0       0000997932d777bf  Explanation\\nWhy the edits made under my usern...   \n",
       "1       000103f0d9cfb60f  D'aww! He matches this background colour I'm s...   \n",
       "2       000113f07ec002fd  Hey man, I'm really not trying to edit war. It...   \n",
       "3       0001b41b1c6bb37e  \"\\nMore\\nI can't make any real suggestions on ...   \n",
       "4       0001d958c54c6e35  You, sir, are my hero. Any chance you remember...   \n",
       "...                  ...                                                ...   \n",
       "159566  ffe987279560d7ff  \":::::And for the second time of asking, when ...   \n",
       "159567  ffea4adeee384e90  You should be ashamed of yourself \\n\\nThat is ...   \n",
       "159568  ffee36eab5c267c9  Spitzer \\n\\nUmm, theres no actual article for ...   \n",
       "159569  fff125370e4aaaf3  And it looks like it was actually you who put ...   \n",
       "159570  fff46fc426af1f9a  \"\\nAnd ... I really don't think you understand...   \n",
       "\n",
       "        toxic  severe_toxic  obscene  threat  insult  identity_hate  \n",
       "0           0             0        0       0       0              0  \n",
       "1           0             0        0       0       0              0  \n",
       "2           0             0        0       0       0              0  \n",
       "3           0             0        0       0       0              0  \n",
       "4           0             0        0       0       0              0  \n",
       "...       ...           ...      ...     ...     ...            ...  \n",
       "159566      0             0        0       0       0              0  \n",
       "159567      0             0        0       0       0              0  \n",
       "159568      0             0        0       0       0              0  \n",
       "159569      0             0        0       0       0              0  \n",
       "159570      0             0        0       0       0              0  \n",
       "\n",
       "[159571 rows x 8 columns]"
      ]
     },
     "execution_count": 45,
     "metadata": {},
     "output_type": "execute_result"
    }
   ],
   "source": [
    "train"
   ]
  },
  {
   "cell_type": "code",
   "execution_count": 46,
   "metadata": {
    "id": "uHa-ffketifU"
   },
   "outputs": [
    {
     "name": "stdout",
     "output_type": "stream",
     "text": [
      "<class 'pandas.core.frame.DataFrame'>\n",
      "RangeIndex: 159571 entries, 0 to 159570\n",
      "Data columns (total 8 columns):\n",
      " #   Column         Non-Null Count   Dtype \n",
      "---  ------         --------------   ----- \n",
      " 0   id             159571 non-null  object\n",
      " 1   comment_text   159571 non-null  object\n",
      " 2   toxic          159571 non-null  int64 \n",
      " 3   severe_toxic   159571 non-null  int64 \n",
      " 4   obscene        159571 non-null  int64 \n",
      " 5   threat         159571 non-null  int64 \n",
      " 6   insult         159571 non-null  int64 \n",
      " 7   identity_hate  159571 non-null  int64 \n",
      "dtypes: int64(6), object(2)\n",
      "memory usage: 9.7+ MB\n"
     ]
    }
   ],
   "source": [
    "train.info()"
   ]
  },
  {
   "cell_type": "markdown",
   "metadata": {
    "id": "3NCTZ_Ob8WY_"
   },
   "source": [
    "##**PREPROCESSING THE DATA**\n"
   ]
  },
  {
   "cell_type": "code",
   "execution_count": 47,
   "metadata": {
    "colab": {
     "base_uri": "https://localhost:8080/"
    },
    "executionInfo": {
     "elapsed": 380,
     "status": "ok",
     "timestamp": 1699018385621,
     "user": {
      "displayName": "sujina shahi",
      "userId": "07203097800516006223"
     },
     "user_tz": 0
    },
    "id": "exiEE69Yq9GR",
    "outputId": "fe6225a5-b9c0-440e-e10d-09e096b9cab1"
   },
   "outputs": [
    {
     "name": "stderr",
     "output_type": "stream",
     "text": [
      "[nltk_data] Downloading package punkt to /Users/manish/nltk_data...\n",
      "[nltk_data]   Package punkt is already up-to-date!\n",
      "[nltk_data] Downloading package stopwords to\n",
      "[nltk_data]     /Users/manish/nltk_data...\n",
      "[nltk_data]   Package stopwords is already up-to-date!\n"
     ]
    }
   ],
   "source": [
    "import sklearn\n",
    "import os\n",
    "import pandas as pd\n",
    "import numpy as np\n",
    "import re\n",
    "import string\n",
    "import nltk\n",
    "nltk.download('punkt')\n",
    "nltk.download('stopwords')\n",
    "from nltk.corpus import stopwords\n",
    "from nltk.tokenize import word_tokenize"
   ]
  },
  {
   "cell_type": "code",
   "execution_count": 48,
   "metadata": {
    "executionInfo": {
     "elapsed": 2,
     "status": "ok",
     "timestamp": 1699018386724,
     "user": {
      "displayName": "sujina shahi",
      "userId": "07203097800516006223"
     },
     "user_tz": 0
    },
    "id": "MJc-sSOcsBRt"
   },
   "outputs": [],
   "source": [
    "STOPWORDS = set(stopwords.words('english'))\n",
    "def preprocess(data):\n",
    "\n",
    "   #CREATING A SET OF STOPWORDS\n",
    "    stopwords_english = set(stopwords.words('english'))\n",
    "\n",
    "    cleaneddata = []\n",
    "    for text in data:\n",
    "\n",
    "        #LOWER CASE\n",
    "        text = text.lower()\n",
    "\n",
    "        #REMOVING LINKS\n",
    "        text = re.sub(r'https?://[^\\s\\n\\r]+', '', text)\n",
    "\n",
    "        #REMOVING PUNCTUATION\n",
    "        text = re.sub('[%s]' % re.escape(string.punctuation), '', text)\n",
    "\n",
    "        #REMOVING WORDS CONTAINING NUMBERS\n",
    "        text = re.sub(r'\\w*\\d\\w*', '', text)\n",
    "\n",
    "       #TOKENIZING AND REMOVING STOPWORDS\n",
    "        words = text.split()\n",
    "        words = [word for word in words if word not in stopwords_english]\n",
    "\n",
    "        cleaneddata.append(' '.join(words))\n",
    "    return cleaneddata"
   ]
  },
  {
   "cell_type": "code",
   "execution_count": 6,
   "metadata": {
    "executionInfo": {
     "elapsed": 19269,
     "status": "ok",
     "timestamp": 1699018408778,
     "user": {
      "displayName": "sujina shahi",
      "userId": "07203097800516006223"
     },
     "user_tz": 0
    },
    "id": "4R5eWh62sYej"
   },
   "outputs": [],
   "source": [
    "pptrain_comments = preprocess(train['comment_text'])"
   ]
  },
  {
   "cell_type": "code",
   "execution_count": 7,
   "metadata": {
    "id": "XrhRo7ETWwCl"
   },
   "outputs": [
    {
     "data": {
      "text/plain": [
       "['explanation edits made username hardcore metallica fan reverted werent vandalisms closure gas voted new york dolls fac please dont remove template talk page since im retired',\n",
       " 'daww matches background colour im seemingly stuck thanks talk january utc',\n",
       " 'hey man im really trying edit war guy constantly removing relevant information talking edits instead talk page seems care formatting actual info',\n",
       " 'cant make real suggestions improvement wondered section statistics later subsection types accidents think references may need tidying exact format ie date format etc later noone else first preferences formatting style references want please let know appears backlog articles review guess may delay reviewer turns listed relevant form eg wikipediagoodarticlenominationstransport',\n",
       " 'sir hero chance remember page thats',\n",
       " 'congratulations well use tools well · talk',\n",
       " 'cocksucker piss around work',\n",
       " 'vandalism matt shirvington article reverted please dont banned',\n",
       " 'sorry word nonsense offensive anyway im intending write anything articlewow would jump vandalism im merely requesting encyclopedic one use school reference selective breeding page almost stub points animal breeding short messy article gives info must someone around expertise eugenics',\n",
       " 'alignment subject contrary dulithgow',\n",
       " 'fair use rationale imagewonjujpg thanks uploading imagewonjujpg notice image page specifies image used fair use explanation rationale use wikipedia articles constitutes fair use addition boilerplate fair use template must also write image description page specific explanation rationale using image article consistent fair use please go image description page edit include fair use rationale uploaded fair use media consider checking specified fair use rationale pages find list image pages edited clicking contributions link located top wikipedia page logged selecting image dropdown box note fair use images uploaded may lacking explanation deleted one week uploaded described criteria speedy deletion questions please ask media copyright questions page thank talk • contribs • unspecified source imagewonjujpg thanks uploading imagewonjujpg noticed files description page currently doesnt specify created content copyright status unclear create file need specify owner copyright obtained website link website taken together restatement websites terms use content usually sufficient information however copyright holder different websites publisher copyright also acknowledged well adding source please add proper copyright licensing tag file doesnt one already createdtook picture audio video tag used release gfdl believe media meets criteria wikipediafair use use tag one tags listed wikipediaimage copyright tagsfair use see wikipediaimage copyright tags full list copyright tags use uploaded files consider checking specified source tagged find list files uploaded following link unsourced untagged images may deleted one week tagged described criteria speedy deletion image copyrighted nonfree license per wikipediafair use image deleted hours questions please ask media copyright questions page thank talk • contribs •',\n",
       " 'bbq man lets discuss itmaybe phone',\n",
       " 'hey talk exclusive group wp talibanswho good destroying selfappointed purist gang one asks questions abt antisocial destructive noncontribution wp ask sityush clean behavior issue nonsensical warnings',\n",
       " 'start throwing accusations warnings lets review edit itselfmaking ad hominem attacks isnt going strengthen argument merely make look like abusing power admin edit relevantthis probably single talked event int news late absence notable since living expresident attend thats certainly notable dedicating aircracft carrier intend revert edit hopes attracting attention admin willing look issue throw accusations around quite liberally perhaps achieve level civility rational discussion topic resolve matter peacefully',\n",
       " 'oh girl started arguments stuck nose doesnt belong believe argument yvesnimmo like said situation settled apologized thanks',\n",
       " 'juelz santanas age juelz santana years old came february makes juelz turn making songs diplomats third neff signed cams label roc fella years old coming singles santanas town yes born really could older lloyd banks could birthday passed homie neff years old juelz death god forbid thinking equals go caculator stop changing year birth god',\n",
       " 'bye dont look come think comming back tosser',\n",
       " 'redirect talkvoydan pop georgiev chernodrinski',\n",
       " 'mitsurugi point made sense argue include hindi ryo sakazakis page include information',\n",
       " 'dont mean bother see youre writing something regarding removing anything posted oh well acctually discuss even better id like ask take closer look premature wrestling deaths catagory men listed surely men belong together catagory anything think catagory besides delting',\n",
       " 'regarding recent edits please read wpfilmplot editing film articles edits simply good entirely many unnecessary details bad writing please stop damage',\n",
       " 'good know yeah im studying nowdeepu',\n",
       " 'snowflakes always symmetrical geometry stated snowflake always six symmetric arms assertion simply true according kenneth libbrecht rather unattractive irregular crystals far common variety someone really need take look site get facts still see decent number falsities page forgive im new dont want edit anything',\n",
       " 'signpost september read signpost full singlepage unsubscribe',\n",
       " 'reconsidering paragraph edit dont understand reasons recent edit article im sure data necessarily wrong rather im persuaded strategy introducing academic honors first paragraph unhelpful approach specific subject note articles sitting justices similarly enhanced also believe changes improvement support view edit reverted would invite anyone revisit articles written following pairs jurists benjamin cardozo learned hand john marshall harlan john marshall harlan ii question becomes would current version wikipedia article one either pair improved academic credentials introductory paragraph think perhaps helps repeat wry argument kathleen sullivan stanford law makes suggests harvard law faculty wonder antonin scalia avoided learning others managed grasp processes judging would hope anecdote gently illustrates point less humorous even stronger argument one clarence thomas makes mentions wanting return law degree yale minimum im questioning edit deserves reconsidered',\n",
       " 'radial symmetry several extinct lineages included echinodermata bilateral homostelea even asymmetrical cothurnocystis stylophora',\n",
       " 'theres need apologize wikipedia article made reconciling knowledge subject different sources youve done history studies archaeology studies guess could scan page email could ask someone translate page',\n",
       " 'yes mother child case michael jackson studied motives reasonings judged upon character harshly wacko jacko dont tell ignore incriminate going continue refuting bullshit jayjg keeps throwing jun utc',\n",
       " 'ok take bit work cant quite picture example base duck',\n",
       " 'barnstar real life barnstar lets us stars',\n",
       " 'could post block expires funny thing think im uncivil',\n",
       " 'sure heading fight freedom contain',\n",
       " 'praise looked article months ago much improved',\n",
       " 'able post list quickly already text file hard drive ive meaning get around updating sound list time far generating interest ive spent four years trying drum interest freely licensed full length classical music unfortunately attempts failed im still effectively one classical music wikiproject interested really given trying interest others sound list featured digg back got diggs imo impressive',\n",
       " 'well process things subpages rfa listed noseptembers page find look september think differences elc sure surprised see block left note tc',\n",
       " 'making straw man argument never claimed odonohue position rather practitioners researchers field ignored dsm position exactly quote says also something odonohue agrees combating notion absurd part claim pedophilia sexual orientation since many researchers hold position would unfair call absurd disorder part divided field argue disorder end day value judgment cantor pointed earlier thread scientific judgement choose make value judgment article stated clearly pretend scientific basis',\n",
       " 'mainland asia includes lower basin chinas yangtze river well korea specific fine found citation comprehensive dna study hammer rather generarizations speculation far citation yayoi culture brought japan migrants korea turn trace roots southeast asiasouth china dna study hammer describes yayoi migration korea based genes genes close lineage haplogroups reiterates entire haplogroup proposed southeast asian origin definition southeast asia includes southern china hypothesizes dispersals neolithic farmers southeast asia also brought haplogroup lineages korea eventually japan concluding paragraph states propose yayoi chromosomes descend prehistoric farmers origins southeastern asia perhaps going back origin agriculture region hammers dna study based global sample consisted males asian populations including six populations sampled across japanese archipelago',\n",
       " 'pretty much everyone warren countysurrounding regions born glens falls hospital included however im sure qualifies anyone glens falls native rachel ray believe actually town lake luzerne —the preceding unsigned comment added august utc',\n",
       " 'hi explicit block fenian editwarring giants causeway wp made several edits described terrorism',\n",
       " 'notability rurika kasuga tag placed rurika kasuga requesting speedily deleted wikipedia done article seems person group people band club company web content indicate subject notable article subject included wikipedia criteria speedy deletion articles assert notability may deleted time please see guidelines generally accepted notable indicate subject article notable may contest tagging add top page existing db tag leave note articles talk page explaining position please remove speedy deletion tag dont hesitate add information article would confirm subjects notability guidelines guidelines specific types articles may want check criteria biographies web sites bands companies feel free leave note talk page questions',\n",
       " 'sure lead must briefly summarize armenias history simply added found necessary anyone thinks sentence redundant lead welcome remove make edits talk',\n",
       " 'tfd think eced think responded without seeing others responses added something response dont know saw mine tcwpchicagowpfour',\n",
       " 'gay antisemmitian archangel white tiger meow greetingshhh uh two ways erased comment holocaust brutally slaying jews gaysgypsysslavsanyone antisemitian shave head bald go skinhead meetings doubt words bible homosexuality deadly sin make pentagram tatoo forehead go satanistic masses gay pals first last warning fucking gay wont appreciate nazi shwain would write page dont wish talk anymore beware dark side',\n",
       " 'fuck filthy mother ass dry',\n",
       " 'im sorry im sorry screwed around someones talk page bad know templates talk page helps assert dominance know bow almighty administrators im going go play outsidewith mom',\n",
       " 'dont believe lisak criticism present conforms npv rule lisak doesnt neutral point view begin offer polygraph even concerned review polygraph results shocks complainant thinking lies uncovered recantation still perfectly valid know telling truth argue machine investigator also part kanins research followup recanted story possible verify false recantations followups recanted version events matched accused said happened arguing lisak respected phd baseless kanin respected phd agree edit wasnt neutral possible though apologize still something must done',\n",
       " 'point ammended appropriate encyclopedic notabilitysignificance',\n",
       " 'words youre lazy actually point anything change approach tag goes',\n",
       " 'claims stalking absolute rubbish serves aggravate situation assumed good faith good intentions part never suggested seen reason suggest might ulterior motive massadding links one specific companys web page matter ever made suggestion administrative matter even mentioned role clearly party disagreement would rate would conflict interest would ask thus extend good faith toward rather making spurious unfounded accusations chatspy',\n",
       " 'jmabel regards predominant scholary consensus allegedly claims despite third way rhetoric fascism power functioned rather consistently rightwing force far im aware owning numerous books subject scholary consensus consensus developed respected scholars fascism write manner bias interest group roger griffin hamish mcdonald roger eatwell zeev sternhell recongise fascism third way references show dissenters im aware seem think fascism absoutely leftist connections merely radical right system street level socialists want put much distance movements possible course come educated people position write books example even foremost scholary expert fascism former member communist party socialist party italy renzo de felice doesnt try cover socialistic origins third way status man wrote definitive seven volume piece mussolini',\n",
       " 'bi said wanted talk bottom lead section written promoter speculated skyhook concept could cost competitive realistically thought achievable using space elevator skyhook competitive rotating tether concepts addition rotating skyhook fact deemed engineeringly feasible using presently available materials regarding addition rotating skyhook fact deemed engineeringly feasible using presently available materials statement appears come ref page full quote mass tether alone started exceed times mass payload indication particular scenario considered engineeringly feasible using presently available materials although application might become feasible near future better materials become available higher tensile strengths higher operational temperatures goes say shall see presently available commercial materials suffice make hastol tethers needed primary message want leave reader “we dont need magic materials like ‘buckminsterfullercarbonnanotubes’ make space tether facility hastol system existing materials do” would appear misread reference tether mass times mass payload mass upper limit problem systems tether mass less times payload mass built presently available commercial materials reinforce conclusion report states fundamental conclusion phase hastol study effort concept technically feasible evaluated number alternate system configurations allow hypersonic airbreathing vehicle technologies combined orbiting spinning space tether technologies provide method moving payloads surface earth earth orbit one hastol architecture concept developed design solution using existing nearterm technologies expect number hastol architecture concepts prove similarly technically feasible subjected detailed design studies systems completely reusable potential drastically reducing cost earthtoorbit space access regarding skyhook competitive rotating tether concepts boeing report possibillity combining skyhooks hypersonic planes concluded general nonspinning tether hyperskyhook concept look competitive spinning tether concepts full quote hyperskyhook zubrin proposed “hypersonic skyhook” solution mismatch attainable atmospheric speeds hypersonic airplane orbital speeds space tethers since orbital speed space tether decreases increasing altitu',\n",
       " 'get fucked get fuckeeed got drink cant put get fuck get fucked im fucked right',\n",
       " 'threatening disputing neutrality know country quite common bully way discussion push outcomes want russia',\n",
       " 'thanks undeletion id hoped im researching status texas government including local government copyright status slow going apparently works florida government usually public domain dont similar article texas guess ill research oldfashioned nonlazy actually reliable way ask copyright help desk like suggested meantime im using fair use rationale since valid image used article thanks',\n",
       " 'awesome ill simply disregard notice thanks',\n",
       " 'stupid peace shit stop deleting stuff asshole go die fall hole go hell',\n",
       " 'tony sidaway obviously fistfuckee loves arm ass',\n",
       " 'ga review ii im sorry say fail articles gan several major problems brought articles previous ga assessment issued said articles wplead longer history media attention academics student government demographics trivia additional information section deficient citiations also triva additional information integrated rest article please look wpwiaga fix problem renominate gaclass however reassessed article bclass meet bclass criteria regards',\n",
       " 'band pages deletion thought gone deleting comment posted talk page delete feelings hasty decision delete page sir still cocksucking douche fuck sit back second think life become done didnt take long nope certainly aware life shitstorm sitting front computer masturbating fictional creatures attempts get rid mediocre best constantly sucking dick failure dont want personal attack huh well bad fuckcock mcdickerson youve got one go ahead delete profile wikipedia ill make another one come right back syrthisss talk page insult dick could shatter dreams innocent eighteen year old college freshman trying make name band make happy fucking people youre overweight single old man deadend job spot perhaps someone else going follow dreams trying hold back somebody else could suffer like yes dont make empty threats wont saying anything along lines ill hurt ill eat children within sisters womb say asshole sonofabitch mother fucking cock sucker go eat food drown sorrows premature ejaculating bald headed fuck something nice maybe go grab couple horny goat weeds local convenience store jack little longer three minutes tonight sincerely asshole thats better every way',\n",
       " 'cant believe fat artie see recent appearence tonight show jay leno looks absolutely awful put money id say artie lange cant miss candidate dead pool kindly keep malicious fingers comment everytime remove repost',\n",
       " 'locking page would also violate wpnewbies whether like conservatives wikipedians',\n",
       " 'bisexual like homosexual heterosexual defined sexual activity much like year old boy attracted girl sexually never sex still straight person actually sexually attractedaroused sex well opposite sex bisexual',\n",
       " 'redirect talkfrank herbert mason',\n",
       " 'christian arabs hi could please stop enforcing category christian arabs non arabic christians living middle east wrong middleeastern christians though arabs gone arabization needs stop arabs ethnicity shouldnt forced called christian arabs christian european born middle east called christian arab reason alone please understand syriac christians ie assyrian ancestry speak aramaic though lot forgetting someone speaks aramaic respect fact appease muslims want call everyone arabs theyre middle east closely related arabs saudiarabia ethnicity please stop forcing upon us alien arab ethnicity thats oppression talk jun utc',\n",
       " 'dh dude abc officially says name episode know already episode name abc says everybodys says dont',\n",
       " 'edits good cunts like revert good edits youre stupid understand write well revert edits youve decided bear playground grudge problem maybe one day youll realise damage noble project',\n",
       " 'neilns bang arent harassed dont edit disruptively dont get reverted –talk',\n",
       " 'went around time certainly case time later stopped taking children young age',\n",
       " 'must chemical imbalance brains ok gibberish guys writing really makes feel sorry dont ever go law school would legal profession bad',\n",
       " 'trying scare thatso say comments thatso insulting thatso trying suggest original research wikipedia right',\n",
       " 'oppose – article stands properly reference wpreference guidelines issue resolved dont issues moved mainspace 「」¤ • ¢',\n",
       " 'would appreciate apology see unlikely please dont waste time longer attempts trying justify either plasma physics transgressions toward bother longer issue shall leave alone seek others deserve considerate attention',\n",
       " 'original research pointed episodes',\n",
       " 'ambiguous mabuska irish mean one thing qoute thanks — preceding unsigned comment added course word irish wasnt invented establishment irish free state talk quote want depends context term used whether applicable note said citizenship ethnicity never mentioned nationality real key meaning nationality meaning term predominantly used form wikipedia nationality terms refers republic ireland already know im sure talk nationality terms refers republic ireland country nationality terms refers ireland — preceding unsigned comment added oh wow ireland ireland state whose official description republic ireland whats point inane conversation talk ireland whose official name ireland — preceding unsigned comment added reading also see speak — preceding unsigned comment added',\n",
       " 'magazines masthead says time corporate name time inc easily look hand abn amro always corporate name look well',\n",
       " 'take belated piffling prevarications elsewhere late',\n",
       " 'thats im looking looks like around dick talk pages though nothing bad though looks like inability express properly thank concern also cheers',\n",
       " 'direction really necessary name us states recognize give number states american encyclopedia universal one dont see every single us states recognize named ix',\n",
       " 'december utc must play metal gear solid often gw arsenal gear ai went haywire solid snake uploaded emmas virus',\n",
       " 'hi back last warning stop undoing edits die',\n",
       " 'minimization textile effluent proposed deletion template added article minimization textile effluent suggesting deleted according proposed deletion process contributions appreciated article may satisfy wikipedias criteria inclusion deletion notice explain see also wikipedia wikipedias deletion policy may prevent proposed deletion removing notice please explain disagree proposed deletion edit summary talk page also please consider improving article address issues raised even though removing deletion notice prevent deletion proposed deletion process article may still deleted matches speedy deletion criteria sent articles deletion may deleted consensus delete reached agree deletion article person made substantial edits page please add top minimization textile effluent',\n",
       " 'scientific attribute event cause b cause b deliberate designed sort intelligent intent dont answer questions beyond well problem answering beyond example completely rigged several major fundamental problems first completely fail mention fact intelligence behind id quite literally earth natural science might look honeycomb see built bees find odd looking fossilized honeycomb theorize made odd looking bees fundamentally different saying made something earth id core notion something outside system observe cause science sense word mythology paul bunyan wrestling match babe blue ox kicked much dirt created great lakes evidence paul ox remain mean really second natural science takes approach knowledge nothing known scientific law unless irrefutable theories must heavy supporting empirical data back id turns head end run around knowledge plays games probabilities one say flagella bacteria could formed naturally hell id proponents come sort mathematically accurate probability flagella naturally forming bacteria dont understand cant statistics id jumps right hurdle takes anything doesnt complete detailed natural explanation jams statistics say well improbable happen someone must designed perversion science assign probabilities something dont understand id making numbers finally example ab b deliberate design thats well good rigged example except respect life earth b unknown ab example might qualify forensic science dead body b bullet heart see bunch dead bodies bullets heart next time see body bullet heart probably figure thats killed dont life earth one scenario cases observe test sense ab scientific youve never actually observed b btw b teh intelligent designer never observed sense isnt science',\n",
       " 'screwjob hey noticed comments montreal screwjob discussion page decided since nobody except someone account objected said would atleast change page little make fair wanted tell thought would like know changed words top first paragraph added something second one bothered thats fine thought since fighting nothing even said might aswell tell',\n",
       " 'april thank experimenting page andy griffith wikipedia test worked reverted removed please use sandbox tests want take look welcome page would like learn contributing encyclopedia',\n",
       " 'christ iq selected therefore every population iq never ceases amaze',\n",
       " 'prove isnt better knowledge english language would obvious',\n",
       " 'would shut dont run wikipedia especially stupid kid',\n",
       " 'oh vandalisingxd see greetings',\n",
       " 'website hey thinking getting website display pictures cheapest thing could find dont know others fir diliff guys websites think legit could provide better alternatives help guild member also appreciated thanks talk',\n",
       " 'thanks reading',\n",
       " 'personal attacks fruit brute vfd apologies im critical feel many comments made fruit brute vfd debate far reasonable diplomatic way disagree assertion initial sentence dont lie makes look even juvenile learn face youve goofed go long way life attacks age certainly border personal attack forty sixty eighty would included comment juvenile dont expect apologise anyone want make clear consider comments vfd debate inappropriate think many members community would agree talk feb utc',\n",
       " 'transliteration russian place names writing moscow metro malayalam wikipedia finding difficult correctly transliterate russian place names example pronounce park kultury paark kalttari paark kalchchari perhaps something completely different somebody please help transliterating list given putting list dont want clutter page thanks',\n",
       " 'almost got look see real talk',\n",
       " 'one defame someone thinks fort hood shooting justified gods law',\n",
       " 'lack balance article seriously balance would benefit greatly introduction additional information negative aspects record sort balance problem uncommon dependence works particular author example testing evaluation us army ordnance dept exposed serious problems tank type information included article bring back balance',\n",
       " 'thanks see violating clearly stated wikipedia policy problem people reviewed elsewhere finishing one wiki project todsy spending rest day important personal blog entry ill go find discussions james petras fascinating discussion use term jewish lobby dont put back deleted dissident voice article right away per talkjewishlobbywpvcomparingjewishvirtuallibraryanddissidentvoice carol moore talk',\n",
       " 'hi thanks kind words see around talk',\n",
       " 'collusion poker regarded heinous form cheating poker perhaps mention example warranted',\n",
       " 'thanks much however resolved today didnt write anything edit summary camera put ad edit summary talk',\n",
       " 'youre right get username youll able impact im saying seem familiar everything probably username get one takes seconds talk•contribs',\n",
       " 'however moonlite edit noted golden daph optus wake wikkis funny',\n",
       " 'check following websites',\n",
       " 'cant believe one already put page dilberts desktop games',\n",
       " 'well asked provide diffs within one hour next edit made edit talk page provide diffs requested within one hour edit sanctioned failing provide requested diffs timely manner week still done consequently request lift sanction denied',\n",
       " 'page shoudld important characters dont reoccur void black doom mephiles etc',\n",
       " 'pair jewhating weiner nazi schmucks',\n",
       " 'tend think list longer rest article theres problem either history characteristics expanded list culled personally like consensus reached tripel article othersmyself included decided country origin highlighted examples trappist abbey foreign foreign includes nonbelgium examples way article article encyclopedia list people find lists anywhere article reference also style statistics bad say style statistics sounds like prescription description encyclopedia follow latter former used citation followand youll find valid one style country origin',\n",
       " 'whats religiously politically motivated push issue please refrain talking page interested otherwise feel free talk relevant edits science deleet talk would prefer following users never post maunus ·ʍaunus·snunɐw weijibaikebianji guy published psychology researcher right perhaps doesnt know access libraries best sources point often doesnt come across mindbendingly condescending also suspect editor racist see wiki',\n",
       " 'im vandalizing im fun man sense humor think im vandalizing stuff lemonpartyorgthis site',\n",
       " 'welcome wikipedia bla discover ekopedia practical encyclopedia alternative life techniques bla discover ekopedia practical encyclopedia alternative life techniques',\n",
       " 'including appropriate mention solomon article without level support',\n",
       " 'comment could verify claim talk',\n",
       " 'czech republic central europe state article part reason people making confusions especially ridiculous would replace mention north caucasus favor north slope caucasus mountains isnt even geographical area denoting mountains region countries located within continents yet reason refuse allow article denoted continent single factor alone would made massive difference readers im tired arguing people essentially wikisquatters refusing nudge given article',\n",
       " 'thanks josette enjoyed meeting shocked decision begin reflect consensus one grand poobah make alone serves right stealing time pressing realworld duties indulge fun hobby ive learned lesson wont waste time like ill stick fixing little things run across read articles information',\n",
       " 'paleontologists agree organic remains must buried quickly preserved long enough come fossilized however term fossilized precise term several factors metamorphic mineral processes occur organic remains result typically called fossil one major factor concerns kind organisms fossilized vertebrate invertebrates radiolarians sponges plants pollen foot prints etc multiple processes may include permineralization recrystalization carbonization replacement dissolving diagenesis etc talking fossilization complex issue however quick burial questioned major question long take processes work organic reamins environment found experimental taphonomy resulted assortment remains becoming fossilized various processes lab course implies given right conditions vast ages issue metamorphic processes ongoing equilibrium met chemical enviroument burial site minerals organic remains flood catastrophic geologists expect organic remains buried flood completely fossilized within one year period flood rather years processes working much work needs done taphonomy organic remains yet one interprets even results depend upon world view choose believe',\n",
       " 'also think vegetable basket needs wikipedia page',\n",
       " 'bigfoot reference magazine better known engineering mining journal may difficult time finding depending live ran across article years ago researching something else made copy clearly derived press accounts treats incident joke whole point citing show incident whatever entirely created years fact leave email scan page email pdf',\n",
       " 'also see cant trust murkoth ramunni',\n",
       " 'chart performance single ladies put ring please take advice split paragraphs section fas generally short paragraphs hard boring ingest much information splitting paragraphs improve flow — · talk',\n",
       " 'hahahaha good one removed',\n",
       " 'said ive temporarily removed requests based cydes advice pending request consensus ive asked talk page urge anyone reading vote know community wants',\n",
       " 'conformity healthy may missed article seem address conformity healthy behaviour way conform grammar understood conform laws recognise need orderly society',\n",
       " 'hi new wikipedia read pandemics today impressed quality information knowledge easily available elsewhere easily accessible format thank creating content making accessible',\n",
       " 'say something views educationalist socialist political commentator link mentions bit stood election candidate respect',\n",
       " 'sandbox dont take template sandbox says dont remove reason jan utc',\n",
       " 'heh bit copy wikipediawikiproject professional wrestling thought look bit tidy better way',\n",
       " 'ahh hello witzeman symbols ¡ ¿ † ‡ ↔ ↑ ↓ • ¶ ½ ⅓ ⅔ ¼ ¾ ⅛ ⅜ ⅝ ⅞ ∞ ‘ “ ’ ” «» ¤ ₳ ฿ ₵ ¢ ₡ ₢ ₫ ₯ € ₠ ₣ ƒ ₴ ₭ ₤ ℳ ₥ ₦ № ₧ ₰ £ ៛ ₨ ₪ ৳ ₮ ₩ ¥ ♠ ♣ ♥ ♦ m² m³ characters á á ć ć é é í í ĺ ĺ ń ń ó ó ŕ ŕ ś ś ú ú ý ý ź ź à à è è ì ì ò ò ù ù â â ĉ ĉ ê ê ĝ ĝ ĥ ĥ î î ĵ ĵ ô ô ŝ ŝ û û ŵ ŵ ŷ ŷ ä ä ë ë ï ï ö ö ü ü ÿ ÿ ß ã ã ẽ ẽ ĩ ĩ ñ ñ õ õ ũ ũ ỹ ỹ ç ç ģ ģ ķ ķ ļ ļ ņ ņ ŗ ŗ ş ş ţ ţ đ đ ů ů ǎ ǎ č č ď ď ě ě ǐ ǐ ľ ľ ň ň ǒ ǒ ř ř š š ť ť ǔ ǔ ž ž ā ā ē ē ī ī ō ō ū ū ȳ ȳ ǣ ǣ ǖ ǘ ǚ ǜ ă ă ĕ ĕ ğ ğ ĭ ĭ ŏ ŏ ŭ ŭ ċ ċ ė ė ġ ġ i̇ ı ż ż ą ą ę ę į į ǫ ǫ ų ų ḍ ḍ ḥ ḥ ḷ ḷ ḹ ḹ ṃ ṃ ṇ ṇ ṛ ṛ ṝ ṝ ṣ ṣ ṭ ṭ ł ł ő ő ű ű ŀ ŀ ħ ħ ð ð þ þ œ œ æ æ ø ø å å ə ə greek ά ά έ έ ή ή ί ί ό ό ύ ύ ώ ώ α α β β γ γ δ δ ε ε ζ ζ η η θ θ ι ι κ κ λ λ μ μ ν ν ξ ξ ο ο π π ρ ρ σ σ ς τ τ υ υ φ φ χ χ ψ ψ ω ω cyrillic а а б б в в г г ґ ґ ѓ ѓ д д ђ ђ е е ё ё є є ж ж з з ѕ ѕ и и і і ї ї й й ј ј к к ќ ќ л л љ љ м м н н њ њ о о п п р р с с т т ћ ћ у у ў ў ф ф х х ц ц ч ч џ џ ш ш щ щ ъ ъ ы ы ь ь э э ю ю я я ipa t̪ d̪ ʈ ɖ ɟ ɡ ɢ ʡ ʔ ɸ ʃ ʒ ɕ ʑ ʂ ʐ ʝ ɣ ʁ ʕ ʜ ʢ ɦ ɱ ɳ ɲ ŋ ɴ ʋ ɹ ɻ ɰ ʙ ʀ ɾ ɽ ɫ ɬ ɮ ɺ ɭ ʎ ʟ ɥ ʍ ɧ ɓ ɗ ʄ ɠ ʛ ʘ ǀ ǃ ǂ ǁ ɨ ʉ ɯ ɪ ʏ ʊ ɘ ɵ ɤ ə ɚ ɛ ɜ ɝ ɞ ʌ ɔ ɐ ɶ ɑ ɒ ʰ ʷ ʲ ˠ ˤ ⁿ ˡ ˈ ˌ ː ˑ ̪ famous article witze happiness − wikipedia witzeman great honour passed generations many families regardless race age character knowledge outside world knows little elusive characters honour witzeman ever witzeman said great honour although qualities needed job never disclosed person may witzeman many years called former witzemans via dreams associates witzeman known certain babe cool much lesser known witzewoman present witzeman boy namely benjamin woods said become witzeman felt awesome radiance topright bumcheek told great number people testimony promised years come history present world come enlightned knowledge witzeman present years former witzemen public honour abide formality conservativism time term witzeman compound word adjective witze man witze century term person extreme humour radiant intelligence unfortuneatly witze also sometimes associated bad wind unspeakable reasons proper history early century witzemen considered outcasts young children encouraged poke sticks led witzeman rebellion current witzeman followers attempted coup take local council chess team rebellion disgraced witzeman followers embarassingly pronounced gaga government meeting year period early dark time witzemans history however good times come witzeman many normal people took part mass demonstrations protests witzeman building great moment historythe great rebellion several witzeman sprinted round visitors gallery house commons wearing clown masks otherwise completely naked thought act circambulation however many people witnessed shocking behaviour mentally spiritually emotionallly scarred life group people included many young children forced go asylums state mental instability suffering trauma time government finally took positive action witzeman bill rights witzeman signed stating witzemen allowed pleased although formal agreement many journalists viewed letter submission government witzeman behaviour witzeman followers became twisted',\n",
       " 'ok finished planned cleanup todo page entries removed copied investigated entries page record looked —— talk',\n",
       " 'dec nist scientist said collapse towers magnitude seismically significant see dr woods scientific method applied thermite hypothesis paper tripod site links',\n",
       " 'statement drawn watchtower literature honestly clandescently hypocrisy drawn watchtower literature via ray franzs arguments literature imposed wikipedia article much coincidence less follower ray franz going come reference wa literature exactly connection ray franz makes without first seen connection made ray franz literature natural nature',\n",
       " 'sorry checked come dulas bay somehow missed dulas disambiguation page completely apologies even getting particularly late night onset swine flu perhaps',\n",
       " 'tcm find evidence acupressure tcm rather derived tcm one objects ill place citation note article',\n",
       " 'well still needs expansion areas citations others images going get pic stanley cup banner tonight hitmen game forgot camera thorough reviewcopy edit someone better flair words work progresses lute',\n",
       " 'redirect somewhere couldnt hurt though still dont think candidates ideal passes notability threshold day basic material still work',\n",
       " 'meivazhi ive go restarting meivazhi article style thats standard wikipedia articles someone would probably deleted pretty quickly stayed form posted id grateful could help talkmeivazhi accuracy unfortunately remove links conflict interest guidelines advise editors linking sites also wikipedias attribution policy wpatt requires information come thirdparty published sources rather personal websites know good newspaperbook accounts meivazhi ps salaimanimudiindlistcom site personal site member',\n",
       " 'though certainly small article inconsequential warrant subsuming within flame trees article discography article stand alone may',\n",
       " 'yeah lets merge content sure devils canyon type codename',\n",
       " 'imageyourtransitadjpg think may able get better photo ad im able okay use replace current one want check first anything →™',\n",
       " 'cookie cookie',\n",
       " 'lmao go listen manele',\n",
       " 'december utc yep lol reformist party serbiareformist party another go last parliamentary election winning less votes notable actually mentioned way heres something little people figured new constitution serbia brought enable kosovo secession constitution barred possibility kumanovo militarytechnical agreement signed nato fry srs broke coalition sps government collapsed causing new elections unconstitutional act highest treason enough tried maximum sentence radicals demanded death trial serbia tried treason among reasons constitution releases authorities weight wont go prison recognize form loss sovereignty kosovo',\n",
       " 'new wikiproject novels initiative begun new initiative wikiproject novels improvement drive member listed notified please see wikipedia talkwikiproject improvement drive wikipediawikiproject novelscollaboration details also would like remind keep eye project talk page wikipedia talkwikiproject novels thanks',\n",
       " 'reply facetious would relayed message jza mrsc words stern theres would like evidence claims made talk glad provide also failed provide diffs message regards words youre claiming offesive perhaps wpassume good faith two users constantly harass follow articles making disruptive edits violation numerous wikipedia guidelines wpharass one example removal third party references articles dont suit pov without entering edit summary considered wikipedia guidelines bad faith violation wpblank violation wpneo adding derogatory neologisms articles organisations personally agree despite made aware policy despite reference said organisation described said neologislm despite community majority constantly removing derogatory term tag team practise shown used numerous editors edit articles british culture trad counties would like evidence ask would seem however looking messages talkpage especially lovely intertude uk mediation section jza messaged somebody seems familiar violation wpcanvas specifically section wikipediacanvascampaigning may interest youre going admin may suggest please make familiar policies guidelines referenced message rather accusing user cyberstalked personal attacks systematic bias acceptable youre make sure policies upheld chip sake friend thanks',\n",
       " 'ps polite talk people behind backs please remove comments mrphs talk page vaughan youre right went check previous edit found page marvel site spelled vaughn finding many spell correctly thanks edits ☎☓',\n",
       " 'block hi wondering confirmed darren jolly contestant block thanks',\n",
       " 'opinion please pt ii srq continues make personal remarks said wouldnt may assume help wprfcu also believe violated rule today edit warring one accurate word ridiculous edit warring general lets make stop may also ask wrong honest statement made talk page mean hasty refactoring appreciate assistance welcome questions btw pivotal accurate well referenced entries become peacock understanding refers unneceessary editorializing precise vital info sequence events thanks',\n",
       " 'azari azerbaijani azariiranianazerbaijaniturkic nation',\n",
       " 'userbox hello userbox using templateuser queerrights moved user space per wpgus new link leave questions may still talk page thank',\n",
       " 'actually take time little bit research bloodofox instead jumping perceive avenue pursue vendetta youd realised would colleague kiyoweap probability kelpiewater horseeach uisge different terms used different places entity challenged kiyoweap produce something decent uisge guarantee hell unable corbett',\n",
       " 'ive seen editors eric elephant room issue baitingpoking bearwhatever hell want call passiveaggressive baiting one wants touch one even though uncivil hell appears tactic choice whenever someone wants get rid someone get way thats part saddens darkness',\n",
       " 'socialistm two important features smiths concept invisible hand first smith advocating social policy people act self interest rather describing observed economic reality people act interest second smith claiming selfinterest beneficial effects community argue selfinterest always good merely argued view selfinterest necessarily bad worth noting upon death smith left much personal wealth charity good lets make sure put forth idea adam smith socialist thats wikipedia way',\n",
       " 'sorry puck one ever said dick number one clearly listed second batman master detective martial artist trained mentioned combat discplines need mention skillsabilities battles hes lost thats encylopia supposed also problem going low end showings high end showings hes proven match meta like slade pinned shiva one earliest appearences',\n",
       " 'alpha version multiplayer beta version',\n",
       " 'pd seen apart article coat arms sahrawi arab democratic republic also different article named coat arms western sahara shows clearly users politicallydriven intentions bad faith although claim neutral neutral logically would work coat arms western sahara article intead trying merge two articles messing',\n",
       " 'treating forum question arose appropriately answered end story',\n",
       " 'military history wikiproject newsletter issue ii april issue project newsletter may read issue change format future issues delivered following link thanks',\n",
       " 'unblock submission response less minutes proves administrator pay enough attention case',\n",
       " 'request unblocked granted following reasons allowing username change gianluigipalermo please put request wikipediachanging username soon possible avoid reblocking request handled unblocking administrator please check active autoblocks user accepting unblock request',\n",
       " 'responded milemoneys reasoning edit gave reasoning edit yes absolutely relevant page places discussion income inequality progressive tax article',\n",
       " 'unblock ill get lawyers blocking constitutional right free speech',\n",
       " 'attributing classifying personalities invitation input culture lithuania welcomed problems defining personalities attributing certain wellknown ideological systems may raise propose quite liberal variant definition may connected one certain word necessity however follow certain classifying remains initial ideas branch ones concerning period lithuanian national renaissance period artists writers cultural workers period often described modernists definition false concrete things added specifics lithuania distinguish leading ideas nat renaissance later modernism known us cultural aspirations later nat ren may defined modernism cultural context lithuania accented also expression lithuanian cultural heritage expression may seen something simply typically lithuanian mean authors čiurlionis seen modernist lithuanian context also even representative lithuanian culture european worldwide context parallel example may taken literature india poet tagore well known nobel price winner known us representative culture india making india understandable closer western people concerned main input western culture country seen modernist changing traditional cultural forms especially stagnated ones way also lithuanian cultural leaders n ren could seen modernists broadening cultural forms changing stagnated ones lithuanian context also seen modernists wider context acquainting western people lithuanian culture direct input western culture čiurlionis best example way later lithuanian modernists depended mostly later generation approximately decade century concerned part western modernistic movement main purpose looking generally introduce western european ideas lithuanian cultural life see table see two different movements two different world outlooks problem movements collaborated especially political wings interchange ideas well seen many researchers dont pay attention difference especially soviet period national ideas officially forbidden mixture description movements allowed e g philosopher ramūnas bytautas clearly depends first generation often described liberal may understood sense second generation idea liberalism period generation artists writers philosophers etc context lithuania european context national renaissance period younger generation approx – painter composer čiurlionis painter kazys šimonis poet philosopher vilius storastas vydūnas dramatist sofija kymantaitė čiurlionienė poets adomas jakštas motiejus gustaitis liudas gira composer stasys šimkus philosopher ramūnas bytautas reformers innovators lithuanian culture representatives lithuanian culture almost unknown period wwi wwii postwar years poets v mykolaitis putinas kazys binkis writer ignas šeinius – jurkūnas artists ars group philosopher juozas girnius modernists introducing new western ideas lithuanian cultural life central european modernism note lists personalities isnt complete made precisely prominence jul utc',\n",
       " 'actually direct quotes arent quotation marks arent attributed generally known plagiarism andor copyright infringement nyt material isnt issue well know material jewish action taskforce problem',\n",
       " 'katelyn faber could weigh bottom talk page katelyn faber regarding inclusion image templateuser totalbox thanks reverting esperanza newsletter issue classmainpagebg stylewidth solid reach outreach program aimed allowing users bring issues wikipedia listening sympathetic caring audience one know feel say cannot expect get understanding ask one dispute sometimes lifes issues much one person fair say sometimes wikipedias problems fall heading place bring bruises sometimes got project attention stress alertsthe stress alerts program aims identifying users stressed alerting community thier stress works tandem stressbusters trying identify causes stress eliminating note editorwelcome new format esperanza newsletter came last advisory council meeting hope like major changes month right council meeting sent include two featured programs sum meeting also signed advisory council members esperanzial end march everyone classmainpagebg stylewidth solid verticalaligntop styleverticalaligntop last ac meeting full log future meetings held monthly fortnightly bans access level changes apart autovoice irc channel reported new log irc channel going one bot time charter requires members edits weeks editing case clarified new code conduct drafted proposed esperanza community npa reform idea dropped officially charter ammendments discussed future voted advisory council going proposed expanded advisory council others want propose listen',\n",
       " 'fradulent claim certainly sockpuppet thechief please retract fradulent claim',\n",
       " 'quick limit discussion changing title considering previous discussions months valid reason move',\n",
       " 'july utc ps feel free leave message talk page need help anything simply wish say hello',\n",
       " 'course peiser social anthropologist hes one whose recent research focused primarily social aspects climate change thus least qualified comment state consensus historian regarding study hasnt published peerreviewed journal results appeared many reliable sources effect treated differently peiser scientist verbally relayed conclusions directly reporter literally tens thousands wiki articles contain references direct quotes scientists appear source medium reputable reporter',\n",
       " 'hi hi good day deepest apologies made change made change day day line straightest one straight line biggest brightest highest star sky head clock strikes exactly noon day date provided beautiful thing ever see know many thing need prove know saw day okay black white prove needed dont sincere apologies trouble cause south east asia im asia came traditional chinese family pleasant day',\n",
       " 'fired youre moronic wimp lazy research makes sick people like exist world',\n",
       " 'looks like violating wpnpa pretty minor ill point two content conflict try mediation cabal way generally easier sign typing stop irc channel want advice way talk',\n",
       " 'pat head kc one dedicated wikipedians know im madly love id give barnstar end youd chew bury instead let offer metaphorical pat head thatll pup thatll see around tropics',\n",
       " 'note sandbox right place experment thanks',\n",
       " 'friesers opinion simple guess kursk turning point german retreat think hes correct russians personnel improved skill glantz combination forced germans retreat losses problem battle kursk tanks infantry strenghts favor germans weeks kursk german tank strenghters higher kursk zetterling',\n",
       " 'oh didnt know thanks',\n",
       " 'lois roisman piece lois roisman omitted much background everything death updated please review theres anything want add',\n",
       " 'know sex foetus',\n",
       " 'think fagget get oife burn hell hate sorry cant sex im running conndoms',\n",
       " 'may',\n",
       " 'sorry link gave dead formatted harvnb plz help matter',\n",
       " 'reply loser un defines vietnam part southeast asia far know vietnam part asean used part french indochina laos shit countries anyway culture always influenced sea han chinese proper yangtze han chinese fringe indigenous tribes guangzhouguangxi admit vietnamese bunch wannabe crap people east asian people ive spoken thinks vietnam integral part sea think youre backward dirty speak horrible swearing language doesnt matter crap spout wikipedia wont change way people real world think',\n",
       " 'august wow understand sentance added crucial really change content community gotten smaller caused automobile sourced statement asked fact information help inform people foresters falls large seemingly peice information article bridges span time present usfullness edit criteria used determine reverted noted simply readded information removed removal frivilous unwarranted problem insist absence statement unjustifiable negligible adding information afactual b sourced c informative assume since reason remove first place wiki nazis relax concerned useless edits please see edit fom know carried great infallable mindmatrix imho first useless change',\n",
       " 'stupid fuck mothers cunt stinks',\n",
       " 'eta john haynes house sarekofvulcan talk',\n",
       " 'new userbox tabtab id tabtab idc white tabtab info user faggot tabtab infoc lightblue tabtab borderc black tabtab usercategory lgbt wikipedians tabtab nocat tabtab tabtab tabtab template automatically categorizes user lgbt',\n",
       " 'december utc mendel doesnt talk changes mendel refering conspiracy section used',\n",
       " 'please vandalize pages edit budweiser anheuserbusch continue blocked editing ✰✰ echo',\n",
       " 'correct dead dead however leves wounds hence emphasis serious pov adjective',\n",
       " 'fixed pic anyone still feels move done voices',\n",
       " 'george w bush approval rating graph circle september attacks looks far right think could update data points post omitted',\n",
       " 'sorry interrupt im edits first likely pages asking help much maybe maybe less still kind counts ♥♥amulet♥♥',\n",
       " 'absolutely use word strongly misleading even like structure nothing mastaba burial chamber basicly mastaba definition entran ceinner space structure one solid pile rocks inner space entrances ment wall fragment',\n",
       " 'noticed neutrality article disputed light ask post invitation discuss whether neutrality achieved deleted highly relevant relatively urgent bearing mind rule emergencies wikipedia time convergence truth achieved',\n",
       " 'editors dont care explanations theyre accompanied reliable published sources could explain thought dogs ate cats would get reception didnt provide sources stop edit warring present sources talk',\n",
       " 'mitch moved yggdrasill idea wasnt',\n",
       " 'sockpuppets impersonators two sockpuppetimpersonator accounts including',\n",
       " 'oh also wouldnt films named three variation thereof listed disambig page wondering makes much sense apologize advance certain individuals sensitive hear truth',\n",
       " 'review request hi id like request klm gaclass review anyone seems many similar stuff gas kenya airways ethiopian airlines cheers breaksfixes',\n",
       " 'dont propose transcribed meːn article anything brief mention raising trap mouth prenasal environment would suffice thought american thing raise nasals often hear aussies quite bit well dont hear english people difference americans tendency diphthongize well raising im really surprised dont broad accent wikipedian im saying possible youre right kind thinking aloud',\n",
       " 'homosexuals intent legitimizing behavior therefore seize opportunity suggest famous persons gay way way life received harmless perfectly normal generations people grow childhood maturity exposed strategy increasingly develop tolerance homosexuality way almost universally accepted diverse alternate behavior way similar religion race nationality lestrade',\n",
       " 'al messier article nonnotable biography according criteria set wpbio aeropagitica',\n",
       " 'link sacramento placed wikipedialink article word sacramento appears another editor appears stalking reverting everything claims overlinking read policy think understand disagree word sacramento linked anywhere else article made link think link provided good context reader know walnut creek thought maybe knew sacramento anything wrong link would like someone objective give opinions',\n",
       " 'blatant pov pushing neither guys made contribution italian history article shove unhistorical unconstructive modern pov face history article history heard reason many people get pissed pedantry idiocy triviality wikipedia jsus get fcking life',\n",
       " 'reliable sources indicate otherwise please insert personal analysis article talk',\n",
       " 'research thank much relevance article think may reseacrh wpel amke sure realise facts links deleted willing agree people official sites therefore shall delete game site otehrs',\n",
       " 'totallydisputed notice would probably appropriate given depth disagreement exists cannot understand highlighting statements identified dubious would constitute disfiguring article slimvirgin also used wording recently rather think inaccurate irrelevant information disfigurement template notice answer second question side brought forward proposal side yet responded sadly consistent recent patterns delay ill make comment whether deliberate strategy',\n",
       " 'ive abused nothing threats extremely disrespectful rules wikipedia ever done tried improve quality wikipedia articles maintain standards quality treated like vandal registered muck articles account blocked administrator',\n",
       " 'give permanat block raseac remember muslims dont worry images trying hurt us cant look images fake nothing islam prophet even article lame wikipedia authentic source encyclopedia kids authenticity anyone edit write whatever thinkjust like raeasc see knows islam talks forget wiki lame authenticityi recommend add pissed christ jessus articlethey',\n",
       " 'invite hi still time write articles fundamentals romani culture society would permitted normal presentation beyond stereotypes hope near future ill manage last discussion managed organize better categoryromani people country categoryromani people occupation create articles romani persons',\n",
       " 'asked question recall maybe would make less troubled account',\n",
       " 'says consensus ever reached reverted edits',\n",
       " 'find difficult control emotions still feel mr logy wogy bad',\n",
       " 'fuck block faggot pussy',\n",
       " 'attacking another editor trying make point easy edit wikipedia piece george orwells page proved point common place wikipedians help make better lot lesser bias edits trying wouldnt mind please could remove warning',\n",
       " 'please see ref article mentioned wikipedia youngest patent holder india moreover mentioned news latest book real life heroes providing notable reliable reference feel dna group reliable notable reference page exists wikipedia really believe ever ever provide information article bad intentions words sockmeatpuppets askedsuggested anything edit write free man send information free person analyse wikipedia ref article mentioned wikipedia youngest patent holder india subjectwhy speak bad wordsyour words verbatim book review repeats indias youngest patent holder youngest disabled patent holder world claim bhati supporters pushing fails reliable source discourage people sending information relevant reliable',\n",
       " 'randroide answers next step guys see taking steps wikipediarequests mediation job always connect filtered institutional netaccess following steps could result new undesired controversial truncation words software want happenning could please follow instructions link provided thank randroide answers new reference last agree somethingof course new section good idea false suicidal terrorists prisa also included come oooooon boys start writing section want kudos new proposed article effort made remember npov sources sources like citing el país section doubts genuineness bomb cheers indeed good point remarks cope moral certitudes mariano rajoy published el mundo agree larean randroide omits mention section bomb added balancing references insisted original version created entirely pov much rest proposed article also sources added el pais available subscribers npov right southofwatford randroide omits section subscription el país sorry that´s problem institutional access also advantages like paid access el país many many publications books that´s one reasons exclusive use filtered internet accesss it´s much easier work due easy availability sources see truncation words offsett think better sources btw write randroide answers section invading space mind really risking new truncations messages avoid please write outside randroide answers sections think proposed article pov work make npov article mine ill take risk truncating reply put short issue whether subscribe el país whether people read article english wikipedia subscribe sources used accessible readers article putting source readers able see claim article npov mind completely unreasonable sources used accessible readers article funny southofwatford going follow joke please propose also deletion books sources know always someone without book delete references tv radio stations user brazil tv radio home delete references spanish know users know spanish it´s pleasure read kind funny jokes really good laugh usersouthofwatford strange find funny sources providing enable users find information sourced deliberately choose sources require users pay see information funny simply bizarre equally english wikipedia would argue choosing spanish foreign language source equally valid source exists english make sense except perhaps busy laughing cynicism evident response',\n",
       " 'hence removed content nature suitable wikipedia proscribed wpnot perhaps one sister projects wikia',\n",
       " 'pirating incident ive removed statenment doesnt really relate episode much plus kinda topic',\n",
       " 'check',\n",
       " 'kill niggers hard others said included racists sometimes say',\n",
       " 'new user hello gogo dodo new user wikipedia wanted ask new page could removed deletion list new page kaburst still lot want think reason considered starts like wiktionary yeah give time make better thanks',\n",
       " 'regarding edits made december utc josé mourinho thank experimenting wikipedia test worked reverted removed please use sandbox tests may want take look welcome page learn contributing encyclopedia ip address shared multiple users ignore warning make unconstructive edits',\n",
       " 'december hello welcome although everyone welcome contribute least one recent edits one made smoke bomb edit appear constructive reverted removed thank',\n",
       " 'wrong although blocked occasions never blocked sockpuppetry vandalism disputes multiple topics various socks userhkelkar uservandalpetrol permabanned never used account permitted edit get accounts deleted says indeffed noblast',\n",
       " 'deleted personal attacks',\n",
       " 'please please continue tell really think',\n",
       " 'important message block live mess thats made parker v district columbia wikipedia cant rise level sophisticated blog controversy section doesnt belong first place fact nonexperts issuing warnings indicates wikipedia become sandbox idiots sorry cant polite thats long short',\n",
       " 'im moving talk page',\n",
       " 'well see consensus formed show indeed pov bad judgement part thanks comments anywaycoldplay expért lets talk',\n",
       " 'heritage village κρανιώνας macedonian дреновени sources claim village pure slavic',\n",
       " 'organization subtopics culture thrown way towards end economy tourism inappropriate information section unnecessarily loaded history detailed geography makes uninteresting also repetitive information interspersed subsections without regard whether fit eg geography section starts fact largest state strictly geography belongs introduction climate belongs towards latter part page perhaps toursim regions cities interesting combination case cities uttar pradesh interesting topic several interesting cities regions specialities like copperware moradabad ceramics khurja carpets bhadohi fact remember used information article',\n",
       " 'dont know answer legally possible private citizen violate another private citizens civil rights dont know section nelson charged federal case anyone could explain would appreciate argue whether outcome state murder trial justified thats really concern since dead letter im concerned whether subsequent civil rights prosecution legal state murder acquittal miscarriage justice first time look issei sagawa part mature understanding sort thing realize criminal justice system isnt perfect inevitable innocent people convicted guilty people acquited time time thats price pay legal system end someone make decision sometimes may necessarily get right dont think going limb say sagawa case completely beyond reasonable belief',\n",
       " 'burn deck thatd guys burn deck like think blrude awakening leviathan motherfucker',\n",
       " 'decesed group members ive seen articles band members name sollowed deceased whats wrong witht little extra information people already know surely main reason articles exist first place even whole wikipedia site exists whats bad adding word peoples names longer us factual nonopinionative slate anyway',\n",
       " 'fatima bint asad noticed added large chunk article recently could post sources webpages books etc would really helpful thanks july utc',\n",
       " 'added information mayor de blasios announced decisions charter schools someone removed factual information said referenced factual referenced tired add information references successful correctly added race sexuality chirlane mccray someone person removed factual information provided charter schools incredibly rude stated vandalism reported descriptions considered negative decides reverted chirlane mccrays wikipedia site word black prefer african american mentioned six times sexuality mentioned assertions referenced approved wikipedia site chirlane mccrays important writings problem',\n",
       " 'please stop adding nonsense wikipedia considered vandalism would like experiment use sandbox thank',\n",
       " 'well use user page dont tell meyour gonna remove piss drive nuts also making personal ttack jimmy wales saying bit greedy dont think hes got million dollars already hes asking',\n",
       " 'thought would offer advise aswell wikipediaedit warring arguing wikipediaadministrators also remind threerevertrule',\n",
       " 'u r tw fuck u gay boyu r smellyfuck ur mum poopie',\n",
       " 'also expressly guidelines sneak disallowed links discussion section froman done youtube propaganda link evidenced throughout page rules dont seem applied froman dont go whole hog add feiths main page plenty unencyclopedic sources admin seems problem link anonymous left wing blogs whatever care use seems fair game froman',\n",
       " 'deletion account ok blueboy editing disabled following reasons came back block picked right back judging history likely get call attention topic resolved matters addressed moderators deleting wikipedia history items moderator borgqueens edit cuisine hawaii simply provocation nothing reknowned chef pacific rim cuisine cuisine hawaii cuisine hawaii local plate lunch like saying cuisine mexico frozen burritos cuisine canada starbucks pastries cuisine america mcdonalds slanderous vicious spiteful main point admin question delete history resolved problem addressed tried discussing user directly account locked user open discussion ddebate admin suffers godcomplex lovcked even editing page hence reason wait unbanned post leving back become corruptadmin fodder back aon topic page thius matter resolved borgqueen subjegate discrimination hazing personal vendettas likely get eh buddy listen delete user page account wiki grommet going lock keep name content profile facade wikipedia good delete grommet',\n",
       " 'listas sabina bavaria',\n",
       " 'bad redirect please remove redirect page aircraft distinctly different design builder mission etc restore aircrafts unique content',\n",
       " 'info thanks entering article errors corrected would nice simply cut pasted text clear lake article',\n",
       " 'name troy tedford troy telford looking orginal discharge papers right also orginal purple heart olc man war hero biggest world war ever historian history degree recieved dec atu',\n",
       " 'interesting note aircraft landed airfield hawaii',\n",
       " 'thanks fixing exquisite picture',\n",
       " 'would like clamp',\n",
       " 'man also created new words even modern languages already established',\n",
       " 'history conveniently contribs thank explanation wasnt big deal upset second post—waving sneer growing thicker skin fingerwaggle profanity—treating insensate piece internet polemic rather fellow human attempting give honest account account mackensen promptly removed say well understand trying contribute workshop bad idea first place—running full tilt tony sidaway managing avoid irc whole month immeasureable improvement quality life anyway ive always seen somebody stands underdog — remember praising addition edit harassment guideline—and sad see mutuality respect talk',\n",
       " 'type soap box',\n",
       " 'yes indeed ive replaced second one summary womens rights talk',\n",
       " 'anyone intext search see article rely mainly one source publisher fact grand total two citations referencing publisher purefacts issues number items parts library',\n",
       " 'gore response anybody find gores response bushs malaprop didnt gore inventor darn thing club silly one',\n",
       " 'pls give reply yes',\n",
       " 'neither two added cites support assertion misconception hyphens dashes glyphs remains unsourced near tell theres one person making claim despite claims consensus unsourced material gets removed thats wiki policy ive given month find source reword entry reflects sources actually say im restoring citation needed tag theres source day entry removed',\n",
       " 'short summary referencing essentials faqs organizations noticed youve also disclosed association userpage thanks makes working knowing youre coming lot easier questions review article feel free leave message send email cheers sonia♫',\n",
       " 'information already reported fairminded talk refusal allow relevant information factual posted obviously biased party inappropriate representative wikipedia',\n",
       " 'fileconnorbarwincincypng',\n",
       " 'r pat',\n",
       " 'thanks copyedit omg reads professional appreciate lot yeah knew would problem okay heres back story danny body paint robot sketch party theme black light one everybody could see danny still paint hadnt washed something sure jack black light switch apartment liz came turned resulted liz paint see whatever said doesnt make sense read paint still danny black light attack yeah thought maybe people saw ga note wont leave message though didnt work user left message regarding article reviewed work future im make better still havent gotten chance see see need know happened stuff well got news lost started watching dvd telling ill never see wrestling moves didnt cry sad night raw lost cried whatever didnt think cool shawn didnt mind really still dont see face like quality think theyll play randy like triple h know good crowd still heelish maybe cause new people heel need faces knows speaking randy todays birthday turned well remember first punted victim shawn nice see cody storyline nici welcome danielson miz guess hit',\n",
       " 'stylebackgroundtransparent stylebackgroundcolor stylewidth solid backgroundcolor verticalaligntop hello lceliku welcome wikipedia please remember sign name talk pages clicking using four tildes automatically produce username date also please best always fill edit summary field useful links facilitate involvement happy editing stylebackgroundcolor stylewidth backgroundcolor verticalaligntop getting started introduction five pillars wikipedia edit page intuitive guide wikipedia finding way around table contents department directory editing articles develop article manual style stylewidth backgroundcolor verticalaligntop styleverticalaligntop backgroundcolor getting help frequently asked questions cheatsheet ask question help pages new contributors help page article wizard wizard help create articles',\n",
       " 'dont know got im big supporter xfiles ive like seen almost every episode mention mulder father scully baby cant watched carefully william mulders son frequently referenced final episode top head guard thinking mulder son mother scully son mulder gave son afraid could never forgive mention meaningful looks mulder scully give officiator hearing asks agent scully isnt true mulder lovers got pregnant love child',\n",
       " 'citation rèfsaumur v city quebec scr § endorsementrosemary decaires',\n",
       " 'education please keep list colleges pittsburgh list colleges pittsburgh familar area dont edit list greensburg washington mccandless california pittsburgh please dont offended enforce also pittsburgh mailing address mean school pittsburgh address extends far place minute ride away thanks',\n",
       " 'find way put cites page back throught',\n",
       " 'descendants otman baba trough mehmed ali karakoç sunni muslims alevis',\n",
       " 'could clarify want start rfc dont see one listed page history talkrasmussen reports',\n",
       " 'atheism full bias shit',\n",
       " 'beat wanted say good work beating revert ned kelly article always enjoy know someone else hunt vandals happy hunting cheers pro',\n",
       " 'removed link references used health study say reduced use mmr vaccine waldorf kids fewer allergies section immunizations wtf would data whole california count private public waldorf schools california personal belief exemption rates kindergarten classes regardless official position assert would article official position lie order waldorf education appear like complete cult waldorf students grossly vaccinated fact article',\n",
       " 'thanks ill take deep breath go intro tomorrow identified source phrase london border showed boundary contested footnote ive clarified diaspora section justify statements reference victoria history articles west ham east ham hopefully ill struggle justification without substantially changing outcome previous discussions move onto standardising references probably section section',\n",
       " 'german article day dear jimbo german wikipedia proud present article day really thrilling really amazing worth glimpse might improve german reading theres lot learn sincerly',\n",
       " 'agree like aready stated peripheral main article nevertheless important merely underlienes mythomania propagated sides interest historical reality dab dont actually analyze situation rather offerring usual smartalec remarks lontechs arguements shot pieces summarily everytime happens engages tangential irrational behaviour commonsense tell longlasting state kingdom dardania roman times cant allow intro paragraph read like kla recruiting website',\n",
       " 'found one sort anyhow web site jewsforlifeorg isnt loading article catholic source im going remove erroneous sentence hindsight would great minor content issue could resolved references first place',\n",
       " 'provided plenty reference materials yet provided none writings chamar section comes sources verifiable yet provided none one eccentric idiology still provided verifiable sources show ramdasia chamar different chamars took weaving known ramdasias simple google search ramdasia chamar provide countless links',\n",
       " 'block evading ip blocked guy',\n",
       " 'see number citations pubmed',\n",
       " 'hey spreading misconceptions trying spread false information peopleyou even know battle lostyou cheapest person earthbloody ignorant foolcheck sources spreading rumors',\n",
       " 'add admin considering blocked hours usersarek vulcan weeks ago background thats relevant learned lesson pax talk',\n",
       " 'change username usurpations request request still progress mbm → mmitra hi requested change username using usurpations mbm → mmitra almost days date request still shows progress would like know much time takes complete request long would take complete please reply soon possible thank link mbm → mmitra',\n",
       " 'utc december',\n",
       " 'otherwise pov look flemish linguistics case',\n",
       " 'yes mainsprings used clocks well please feel free bold help improve article',\n",
       " 'getting normal term used german politician way got',\n",
       " 'keep original title xbox although additional likes like xbox xbox redirect article',\n",
       " 'let know youve crawled arses dick laurent dead',\n",
       " 'problem people keep trying state bsas policies policy says homosexual scouts cannot members state otherwise lie contraversy page doesnt allow state lies add list things misinterpretations rules things like try say scouting scouting need sure scouting actually says even misinterpretations rules need sources editor might misinterprete rules doesnt mean anyone mainstream find source somewhere homosexual youth removed program openly homosexual youth insert unless actual policy bsa says cant openly homosexual youth member added',\n",
       " 'level message hello thank experimenting wikipedia test worked reverted removed please use sandbox tests may wish encourage also take look welcome page learn contributing encyclopedia thank interest wikipedia',\n",
       " 'im focussing science moment leading revolution',\n",
       " 'another question style information stripping occur whenever shape edited less intrusive edits moving shape around even highlighting selecting shape inkscape makes unusable shouldnt even messing inkscape',\n",
       " 'article ed morrissey hi ive moved article ed morrissey captains quarters ed morrissey started bringing date would able take look please fix defects spot thanks cwc',\n",
       " 'see running around several talk pages accusing several others edit wars please go prove else first one blocked moreover cannot prove pov defeated going around making accusations good way communist',\n",
       " 'yes received confirmation email username emailaddress password uuuh',\n",
       " 'currently blocked editing unable add tag however take picture',\n",
       " 'user worthless goddamn faggot fuck faggot',\n",
       " 'unsourced aesthetic opinion therefore violates wpnor andor wpnpov',\n",
       " 'imagepopclassicjpg tagged imagepopclassicjpg provide fair use rationale believe image acceptable fair use according wikipedia policy please provide rationale explaining much accordance fair use rationale guideline image description page please also consider using one tags listed wikipediaimage copyright tagsfairuse thank man',\n",
       " 'fuck administrator dont authority tell',\n",
       " 'adorably disingenuous → ₪',\n",
       " 'well ridiculous fact suspect calton please block dont care',\n",
       " 'orangemike time move collateral targets suggest userfisherqueen girl protected',\n",
       " 'windows phone upgradeability hi gregory reverted change windows phone article neither microsoft partners made official statements whether devices running windows phone upgradeable windows phone references given another user blogs relying hearsay',\n",
       " 'btw whatever decision adminstration wish take remember block harsh given first violation since joined wikipedia',\n",
       " 'ive tried objective possible treat author head someone whos first tongue english think davies borderline notable article spent hour googling davies earlier today found nothing except translated lot stuff well done lot stuff life im even borderline notable small field nothing warrant article especially one precisley nothing links like one frankly hope author makes notable ill respond gentlemanly politesse cant help',\n",
       " 'shiny things brilliant idea barnstar actively seeking every possible way help users especially honestly didnt think would work hereby award c',\n",
       " 'make change engineering articles',\n",
       " 'thanks apologize comment id like know understand position nov utc',\n",
       " 'appearance historical fiction young richard steele appears character william makepeace thackerays novel henry esmond appropriate mention article yall reckon',\n",
       " 'cu scibaby wasting time cuing scibaby accounts wpduck indef blocking sight cu request makes reference politics dont know talk',\n",
       " 'per wpae blocked indefinitely persistent disruption project including vandalism disruptive editing sock puppetry per wikipediarequests arbitrationmacedoniadiscretionary sanctions believe block unjustified please request one normal manner talk',\n",
       " 'im sure worked articles arcayne youd fine two seem problem seek edit –xenotalk',\n",
       " 'fuck fuck award go fuck',\n",
       " 'sorry edit conflict im glad able salvage edits question structuring yes think think way divide article sections subsections also intro may need fleshing confronting reader technical terms like dendrite axon look smithfarm apr utc cool happy hear still article also research extend talk contr apr utc',\n",
       " 'february utc comment proposal change something someone added requested move banner section clearly one',\n",
       " 'best clans runescape gladiatorz best clan rs years clan british elites damage inc average clan',\n",
       " 'dont even know begin replying talk',\n",
       " 'please vandalize pages edit hyperopia continue blocked editing fisto',\n",
       " 'keep eye one cares ok people put want clean want one cares god youre freakin stupid omnigan',\n",
       " 'episode list keep episode list references',\n",
       " 'next hours',\n",
       " 'rant presently witnessing open war croatian dinaric culture croatian left often portrays culture primitive rural even fashist service conservative hdz party croatian writer predrag raos instance performed gusle instrument zagreb several occasions year one intention ridicule instrument rich poetic tradition another apostle croatian left miljenko jergović refers political opponents right gusle players even claim serbian origin croatian dinaric culture following line traditional greater serbian propagabda štokavian people culture serbian however croatian dinaric folklore rich gusle heritage primarly croatian dalmatian costal region historically associated culture example first written document popular folk hero traditional gusle music marko kraljević associated dalmatian island hvar petar hektorovićs book ribanje ribarsko prigovaranje also first historical document mentioned gusle player instrument originated dubrovnik even contemporary croatian writer born dubrovnik stijepo mijović kočan tells us story uncle also dubrovnik area could memorize numerous gusle songs stijepo mijović kočan gusle glasnik may p dubrovnik also home anica begin born kalafatović daughter famous gusle player ante although illiterate able recite heart immense number gusle songs recorded antology croatian folk poetry far dubrovnik another coastal city makarska – also bastion croatian gusle music actually region could considered capital croatian gusle players mediterranean area also gave birth andrija kačić miošić century catholic priest viewed father gusle players croatia beyond honour kačićs work ivan meštrović famous croatian sculptor built sculpture america showing kačić priestly clothes playing gusle instrument addition kačić makarska littoral produced great many followers croatian gusle music according dr fra karlo jurišić quotes work croatian folklorist stipan banović zaostrog alone produced great number gusle players starting stipan kosovićkudrić culminating known mate banović – trliš dalmatian women didnt play gusle considered male activity yet actively involved spreading gusle music imitating sound olinko delorko researcher dalmatian folk poetry states book ljuba ivanova dalmatian folk poetry collection obtained women especially ones island hvar zadar littoral also witnessed strong gusle tradition english writer maude holbach travelling zadar region first decade century states book dalmatia land east meets west gusle national instrument region dinaric dances took place markets certain festivals picturesque interesting worth going long way see survival ancient custom probably unique europe admiration dinaric folk music particularly gusle seen dalmatian litteral hinterland matija murko researcher literarymusic forms reported trips dalmatia saw child barely three years old playing gusle eduard osredečki “hrvatske narodne junačke pjesme” željeznobeč p lets take look names dalmatian sports clubs organizations hajduk junak gusar alkar uskok sinjska alka etc common course names refer heroic gusle tradition region mind one wonders proud croatian heritage become almost extinct gusle players today result unavoidable urbanization modern croatian society peasant culture considered inferior global rock n roll culture tamburitza music northern croatia gained wide acceptance croatian establishment dinaric counterpart gusle music looked upon suspicion open hatre',\n",
       " 'total millions match e sum referenced populationsbelow infoboximages infobox',\n",
       " 'convicted felon',\n",
       " 'matt hardy fuckyitalic textmediaexampleoggmatt hardy fucky',\n",
       " 'lol censorship youre really disappointed npov core policy arent talk ⋅ contribs',\n",
       " 'mfd nomination wikipediatry best wikipediatry best page substantially contributed nominated deletion opinions matter welcome please participate discussion adding comments wikipediamiscellany deletionwikipediatry best please sure sign comments four tildes free edit content wikipediatry best discussion remove miscellany deletion template top page removal end deletion discussion thank contributions talk',\n",
       " 'redirect talklist south carolina stingrays seasons',\n",
       " 'cares blocked myspace pulse music board would concerned',\n",
       " 'source explaining star',\n",
       " 'god dead dont mean startle anyone god dead worry anymore thought would let everyone know well goodbye good luck newfound crisis faith',\n",
       " 'hello back bongwarriors user page attacked minute',\n",
       " 'im always requests page protection detect missingerrant templates see administrators correct',\n",
       " 'unsure stage clear wording actually discussed',\n",
       " 'marvin kitmans dont make laugh doesnt appear exist citation much early history laugh track appears exist publication channels communication doesnt exist three journal databases ive searched',\n",
       " 'seen reference claim moron source it´s pov time reduce pashtun nationalist povs wiki give order uncles cousins execution pashtuns entire northern afghanistan gardez jalalabad lashkargah logar paghman laghman kunduz herat farah whereever immigrant descandants violent kuchis settled took nonpashtun lands away traditional tajik countries',\n",
       " 'rfa question simply curious question intended submit talk',\n",
       " 'say irrigiation structure exactly mean live irrigated block uses overhead sprinkers im far nearest channel thye look throughout sunraysia ive got little spare time grab shots though dont think ill get far dareton got requests talk',\n",
       " 'wiil last use acount please delete',\n",
       " 'violation patrickflaherty user userpatrickflaherty reverting sourced post also violating railaodinga',\n",
       " 'wasnt really attacking himher regarding lisa williams article hmpzzz know lisa see dead people psychic powers know see future send lisa williams finland locked jails scam artists',\n",
       " 'yes definite value documenting scientific instrument module dont believe belongs service module sectors subsection really payload actually part spacecraft services interrupts flow plan move apollo program mission types section think really belongs edit sectors subsection improve wording flow bit',\n",
       " 'thank hei william hope fan guess back new ip ready vandalize everything regarding william hope cant sht stop maybe delay stopping lets salute william hope lunacy shoving pnis mouth',\n",
       " 'yes quite persistent im create article new users going get lost discussion tc',\n",
       " 'fuck userthe bohemian shinobis yeah thats right bitch pieces shit',\n",
       " 'yes looks much better top page says article needs additional citations verification may britannica encyclopedia could help adding citations dunno cheers',\n",
       " 'okay ill give another whirl via email worst comes worst ie get reply soon always use new accounts ignored way keep stalking tied downbusy chasing around rather trying delete content take care',\n",
       " 'north eastern region jharkhand wiki says north eastern region jharkhand angika region however official language theses districts jharkhand angika hindi santali confusing needs clarification come district jharkhand official language hindi santali could angika region districts would angika region official language angika',\n",
       " 'vote campbell case primary reason russian treaties baldwin careful emphasise treaties substance objections standfordham wrote king october saw mr baldwin reply question want turn government said yes campbell issue russian treaties country generally condemns sees alternative dissolution always expected wished though opposed hastening governments fall true house commons baldwins strictures based campbell case – newcastle october congratulated macdonald agreement achieved conference london dawes plan reparations spent rest speech alternately pouring scorn labour partys subservience extremists tearing pieces russian agreement final debate october mean parliamentary occasion two days meeting something suave qui puet cabinet decided take vote confidence preferring go campbell case defeat russian treaties might give left wing much prominence—middlemas barnes p',\n",
       " 'jayjg stop spin public relations tactics',\n",
       " 'quoted bryant talks popular secondary creator literally paragraphtalk',\n",
       " 'future perfect sunrise☼',\n",
       " 'general outside sourcing exceed inside sourcing theres entire section without references dont enough lede refers dire need would generally seen overthetop look apo article ideas speak group',\n",
       " 'thats rather feeble premise argue showing excessive number photos prominently showing different womens vaginas compared one human male penis way page equivalent article male genitalia demonstrates overwhelming male bias editorial content wikipedia',\n",
       " 'okay tried delete offensive sentences beginning mr irving socalled holocaust denier says acknowledges many jews killed war however go along million jews killedfigure reckons number lower really comes david right question anything relating history speciality actually makes living questioning critically examining sources also decided delete account loosing court case david launched several libel cases £ libeldamage english sunday newspaper fact time lost something figure head cv many people also find extraordinary judge deside person beliefs holds',\n",
       " 'ive made bold thats better lemmey talk',\n",
       " 'father started taken melfalannow nearly half year health condition goodi consulting doctors',\n",
       " 'im pretty sure incident already included know handle riots',\n",
       " 'im afraid thats broken link',\n",
       " 'ok maybe want comment talk page interestig know',\n",
       " 'oppose find hard believe requires rfc wikiworld 連絡 見学迷惑',\n",
       " 'history someone provide information regarding contracting ac service area ac transit used serve cities corridor cities basically kicked ac transit run services part reason ac transit underserving suburbs spending money underutilized services urban areas history reflected article talk',\n",
       " 'please create elephant nonsense pages talk',\n",
       " '—preceding undated comment added talk ⋅ contribs care wikinews even considers dr rafizadeh expert interviewed hin simply care care even publishes cnn nyt quoted cnn new york times like matter even bbc world service made bio dos matter cnn france international wrote family members killed talk ⋅ contribs never change opinion talk always right also dont care published almost national international outlets including scholarly academic works like talk right jewish right never change opinion whatever evidence show',\n",
       " 'ok dear notice absent wikipedia days uncharacteristic hope ill please accept good wishes wanted see fine regards',\n",
       " 'congratulations third may reaching fa still april thanks input',\n",
       " 'paula white joel osteen marbled cat others images correctly retrived information given images necessary even gave full permission use wikipedia mcelite',\n",
       " 'isnt success phenomenon goes back least years days sousa johann strauss however look article milestones section youll see survived fewer four deletion discussions require credible sources fancruft removed sight andemu',\n",
       " 'hate topic hate hate person means like person hate turn love',\n",
       " 'page tried create actual page lol banned nothing',\n",
       " 'report thank making report wikipediaadministrator intervention vandalism reporting removing vandalism vital functioning wikipedia users encouraged revert warn report vandalism however administrators generally able block users received recent final warning one mentions user may blocked recently vandalized warning given reported user yet blocked appears occurred yet user continues vandalize even final warning please report aiv noticeboard thank talk',\n",
       " 'npov please stop adding related moroccan issues sahrawi articles trying look neutral revert editions clear povpushing',\n",
       " 'upgraded human language families wikicolorspnghuman language families wikicolors file',\n",
       " 'kitten good person',\n",
       " 'ok peer viewed months published academic archive online diva permanent uri wallin h p investigation friction graphs ranking ability regarding galling phenomenon dry sofs contact adhesive material transfer friction free pdf document available wwwdivaportalorg found wwwuppsoklibriskbse use search wordsgalling harald wallin direct libris link',\n",
       " 'pov pushing faustian inserted article upas cooperation jews extensive enough according former head office counter soviet disinformation usia soviet propaganda works complained zionist membership upa seems complete pov muddy waters picture upa organisation friendly jews instead organisation collaborated germans exterminating jewish people',\n",
       " 'redirect talka voice within album',\n",
       " 'wpblp violations removed another reverts placed defamatory uncited materials cherokee freedmen controversy wpcoi may apply since seem edit african american related articles freedmen controversies dishonest edit summary top',\n",
       " 'anderthals anderthals discription quran anybody thought',\n",
       " 'discussion first outdoor trees electric lights strange kidding obscure town nc dont think makes much sense especially since sentences immediately preceding establish cities electrically lighted outdoor christmas trees early years century article cited north carolina town read carefully really states tradition outdoor lighted trees specific town began town claims first place trees old enough around though small boy tell neighbors southern california lighted outdoor trees prior one thought remarkable unusual history questionable say least',\n",
       " 'comes next feel like weve gotten past dispute stage would say someone post request page unprotection move new version might also mention admin merge naked short sellingworkshop keep page history ill later tonight doesnt really matter talk',\n",
       " 'redirect talkthe best apocalypse',\n",
       " 'dropping thought id leave little feedback featured picture always put main page noted wppotd example seminude michele merkin used found cheesy wikipediapicture dayunused notes several pictures used depict much gore scatological nature featured picture rating essentially indicating community feels image high quality high encyclopedic value side note potd seems thanks taking trace pink oboe',\n",
       " 'sources listed ny mag cbs news fox news interview leighton speaking subject directly teen vogue us weekly tv guide interview article san francisco gate newspaper town leighton grew naples daily news consider reliable sources problem want find sources validreliable newspapers magazines everything valid sourced removed story life wikipedia encyclopedia facts posted fact',\n",
       " 'reason presence template based inconclusiveness user page presence template contested',\n",
       " 'ho ho ho merry christmas shoulda known piccirilli brothers actiually executed wards pediment sculpture stock exchange happy christmas carptrash',\n",
       " 'saw reference added note see note name republic',\n",
       " 'hey jim good see around youre right consensus tending towards delete clear delete two times india sources one source times india visible search engines would like relist afd might prefer message',\n",
       " 'mere fellow editor wouldnt problem since seems let power admin go head issue please read remains talk page need examples im moderator popular internet discussion board would never ignore valid question user',\n",
       " 'gonna help us logged want talk talk page',\n",
       " 'look great — mar utc',\n",
       " 'april utc wikipediacolours much thanks fixingimproving table code reason maybe add info found values commoncss styles embedded highlyrepetitively know way around mediawiki ive asking everywhere css guru clean redundancy main page wikicode like dont enough already eh many projects minions',\n",
       " 'dear mokele right tell people die fire ip address used vandilism mean talk people like fact bigger loser person block',\n",
       " 'new messages last change notice result userarkyan useravraham targeting website result editorial dispute whether include theodore roosevelts view us political corruption unholy alliance page ie unholy alliance phrase used platform progressive party united states written unholy alliance concept elaborated upon autobiography recent edits may reviewed specialcontributionsarkyan specialcontributionsavraham reverted appropriate',\n",
       " 'peter roman one place remove argentinian chap prophecy part replace information place coat arms questions email tarcisio pietro evasio bertone incharge vatican february march thus prophesy st malachi fulfilled',\n",
       " 'rfc pretty much blew respect tried demand give adminship position simple afds invalid filed fixed mistake',\n",
       " 'dont delete material complies wp policyaccording povinterpretationswiki badass woo',\n",
       " 'revert edits',\n",
       " 'canonicity general ive involved long discussion talkstargate device whether stargate movie thing stargate series centrx arguing arent discussing stargate one article deceitful dont think argument valid course looking stuff web ive discovered fans movie apparently consider series somehow illegitimate noncanon im familiar stargate fan community show dont feel comfortable adding discussion directly article anyone know details widespread apparent schism jul utc',\n",
       " 'capitalization please stop changing lowercase common nouns upper case company company wpmoscaps notes wikipedia avoids unnecessary capitalization proper nouns first word sentence capitalized much yack',\n",
       " 'see claim three reliable source',\n",
       " 'community manager first conflict interest editing second power say explicitly site release date otherwise despite may position incompatible wikipedia policies swatjester son defender',\n",
       " 'please vandalize pages edit boilingpoint elevation continue blocked editing',\n",
       " 'rants policies hi think reformat usershaneswhy tags evilthe vandalism protection tags least idea sort proposal reformat multiple distracting protection tags less distracting corner icons example redirecting well probably move later former case corner icons work beautifully much less distracting clicking follow page explaining lock fully agree large box text distracting unnecessary especially true nonuser wikipedia users read articles probably constitutes majority wikipedia readers probably dont care cant edit article would concern—they may confuse tag article content thanks',\n",
       " 'hi collectonian obviously wasnt appropriate agree warning given vicenarian',\n",
       " 'request future please sign tags photography workshop page bot currently ie — preceding unsigned comment added',\n",
       " 'ive revised translation spanish going back earlier edit subsequent edits spanishlanguage wikipedia seem intended mainly insert links primarily succeeded deleting chunks original text rendering result ungrammatical somewhat insensible ive taken translation incorporated previously omitted text gone whole make idiomatic english quite yet hopefully serviceable',\n",
       " 'im sorry like answer accept wording indeed word article reflect reflected sources would patients happy almost successful operation care even less yugoslav media yugoslav politics may want hear either repeat way world yugoslav troops operating independent command offensive laughable even way substantiate said journalists may write want ask military officer heshe tell inconceivable size op comms ♠♥♦♣',\n",
       " 'capital gains tax',\n",
       " 'included criticism summary section since sections content far remotely truthful summary criticism point view fork article clearly suggests readers basically criticism apple related product management way apple inc admitted fact use child labour clearly far far serious type criticism everything currently mentioned main articles criticism summary section explicit word child labor mentioned article',\n",
       " 'merge articles merged operibus anteire',\n",
       " 'everywhere though might start going thru secure server time similar issue popups userinfo grabber –xenotalk',\n",
       " 'agree theres need keep unclear concepts wording better alternative exists also id ask revert using source reason source actually book authorship wpcoi wpsps comes mind txt',\n",
       " 'hi routes japan often mis read first argument jal flew tokyo jalways would like challenge route jetstar takes said jetstar flew kansai brisbane true must connect sydney although would stay aeroplane flight number bnekix changes sydney meaning direct flight eg flight sydkix flight kixsyd via bne works sure please check qantas schedualing wont edit page fear banned',\n",
       " 'support sikh wikipedians wikipedia support singh correct completely agree sikh historian im busy moment need get harrybabar permanently blocked happen vandalism unacceptable',\n",
       " 'thank racist experimenting page katherine heigl wikipedia test worked reverted removed please use sandbox tests may want take look welcome page learn contributing encyclopedia go fuck racist canuck u nothing better censor truth u goddamn kkkkanuck piece trash dickhead moron canucks r real fuk dickweed edit another eidts youll expel wiki jimbo sob watch mofo piece garbage racist mofo asshole im tryinbg nice take say complimentyamla',\n",
       " 'bulgars omg admin protect people vandalise bulgars article attackers panslavic ultranationalists dont want see word beginning turk help remove reliable sources old bulgars changing slavs hand great',\n",
       " 'must logged upload files words sign add things entry hell place rot care',\n",
       " 'mckinsey company think best route would drop note wpbusiness c wpfour wpchicago wpwaward',\n",
       " 'message long time talk pottering around wiki suddenly thought anyway ya going hope get along anyway issue wikipedia user stalking asking innapprpriate questions ideas could know user also australia could police thing cheers',\n",
       " 'thanks point view differences parallels two concepts one parallel concepts intending territory homogeneous population difference concept racial hygiene intending homogeneous population regarding criterium race whatever race might concept ethnically homogeneous states intending homogeneous population regarding criterium ethnicity second difference concept racial hygiene led extreme forms methods political practice history example holocaust expulsion also extinction millions people industrially organised process user nov',\n",
       " 'well see futperf getting quite angry insulting editors also goal make point first bulgarian empire second bulgarian empire bulgarian least related helps long term strategy invention macedonian nation state think bulgarian tsar samuel etc existed antiquity middle ages thats tropcho correctly pointed direct political continuity completely unimportant info box country cares info box neither spain germany ireland poland etc important show bulgaria formed thru ages',\n",
       " 'salutations jap welcome wikipedia perhaps might find wphockey interest',\n",
       " 'careful call moron',\n",
       " 'leadbeater biography smackbot problem rich regarding cwleadbeater biography article dec philosophus improperly reverted extensive revision dec removed smears slanders article yet accuses npov problem editor right revert good faith contribution another editor undo improper revert made minor edit two since edits probably lost also please communicate specifically faults find text maybe work compromise wording knowledgeable subject knowledgeable business editing article',\n",
       " 'quoting hoppe first detailing kinsellas important points diff put democracy section hoppes earlier comment first followed kinsella said ie stephan kinsella writes hoppes critics accused hoppe homophobia bigotry like based passages kinsella wrote hoppes discussion physically removing homosexuals groups applied private covenantbased communities centered around traditional values shared letter hope wrote saying gay couple street mind business would expelled openly hostile basic heterosexual private property basis society said edit summary choose totally take comments context attack mean wikipedia used purpose talkie talkie🗽',\n",
       " 'fact matter toei bandai using gorenger exclusively refer first super sentai series since least every subsequent series レンジャー ending ranger see sort thing print material released lately gorenger others turboranger zyuranger dairanger kakuranger ohranger carranger megaranger timeranger gaoranger abaranger dekaranger magiranger gekiranger believe gorenger also plastered across vehicles—ryulong 竜龙',\n",
       " 'mark nutley suggested instead people edit warring really ought use newest sources three five million number died ukraine heavily ukrainianpopulated northern kuban among richest grain producing areas europe norman naimark stalins genocides princeton university press august p',\n",
       " 'see cant help saw blocked reason victorious feel like keep telling administrator please use talk page go administrators noticeboard initial complaint posted add yet another post concerning advice need familiarize apply right back especially regarding wpcons please understand consensus product prior discussion piece wikipedia text stayed unedited',\n",
       " 'gay existence cdvf proof sad twat also ugly willy face',\n",
       " 'unfortunately judging previous warnings people rather unusual view personal attacks pointing individuals accusing using sockpuppets incorrect fact two main people making accusations harassing months used sockpuppets meat puppets getting around edit conflicts stack votes request admin proceding pointed several editors time certainly cannot considered personal attack pointing admins actual policy basis make blocks personal attack fact confirmed overruling blocks frankly looking personal attacks try agfviolating attacks actions based upon limited information actually misleading information given individuals david gerard claiming trolling defending false accusations others clear number people need realize things accusing trying justify block exactly behind pretense trying solve things want start blocking incivility might suggest removing david gerard actions elonka falsely claiming using sockpuppets harassing sysop whose talk page says hes going go around blocking people questions asked fact caught restoring placing illegal information pirate software article talk page rules apply everyone number people getting away pretty flagrant violations trying rationalize away labeling alleged problem editor taking sort responsibility actions',\n",
       " 'looks good think nice pic midtown across east river would best possible addition montage isnt one currently available wiki commons',\n",
       " 'perhaps question philosophy mathematics dont regulars wikiproject math philosophers mathematics c',\n",
       " 'except fact theres information table confirmation number episodes dont put clutter vandalism',\n",
       " 'right may stars bars',\n",
       " 'perhaps goodday could provide diff thought unaware btw hope move goingwent ok',\n",
       " 'also unfair cant respond allegations talk',\n",
       " 'never fucking made mother fucking article fucking edited fucking long time ago fucking assholes pissing',\n",
       " 'anyone ever considered including tagteam edit warring violation two people act tandem unintentionally intentionally make revert four times may technically violate rule certainly spirit problem sides edit war canada page precisely wanted avoid dominion page would easier warn editors rather shut pages weeks time done canada case im sure would cure escalation problem without blocking access pages comments',\n",
       " 'fucked wrong muchacho july utc',\n",
       " 'thanks unblock would compromise live margins creating articles various subjects see deleted form performance art many dont get deleted medieval philosophy still history logic name im one people dont know like like',\n",
       " 'yes hope get ga status future wpmostv states fictional characters storylines come first information creation characterization makes sense read storylines character involved going production style used articles books films television showsepisodes',\n",
       " 'hi im fucking bitch',\n",
       " 'please educate article copyright infringement source established could explain best rectify situation thank',\n",
       " 'mens ranking figure nice look misses key time olympics world championships thats title iihf lists postolympics ranking ranking presumably postwc exclude period incorrect time canada ranked overall russia issue happen year rankings change twice olympics',\n",
       " 'many broken nostrils pancreas',\n",
       " 'last line new version better ypov newyour version complicates issue makes article less simple read tell must boston mentioned cultural business hub seems heart bias appears want viewers get reading boston somehow nerve center city new england revolves around looks must illusion page',\n",
       " 'utc sounds wrong first reads presenttenseee reads used past tense reworded whole thing pasttense discussing already published works opposed works published yet published arnfjörð bjarmason sep',\n",
       " 'took time answer',\n",
       " 'yobot incorrect defaultsort hi yobot incorrect defaultsort puzzling didnt recognize article person among clues included birth death dates top well yobot substituted additionally include correct defaultsort • xaяabиam',\n",
       " 'biased unreliableemotionally written armenin wiki editors pls stop using wikipedia dirty propaganda lobbying purposes genocide amyth advanced armenian church armenian fundamentalist fascists nation subject egnocide several heros see statues yerevan irevan jews dont resolution act sold congressmen want appease armenian lobby reliable valid neutral content kjust piece dirty lie facts presented written christian missionaries working kill turks kurds claim subject genocide much want thing never happen armenian fundamentalists fascists killing kurds turks azerbaijanis killed great sons turkic nation proud go propogate lie much achieve nothing raman',\n",
       " 'add mobile porn additional wpalso link',\n",
       " 'smersd slovak party smersd noninscrits regular socialists used pes settled pretty long ago liberal nationalist',\n",
       " 'utc anyone considered matter stuff made actually interact time time travel travel back time would frozen isolated spacetime whilst everything else around travel backwards time also physically biologically travel back time get younger younger disappear yet created thus defeating grandfather paradox although possible signals information travel backwards forwards time possibility automatically extend matter know ie particles giving rise electrons protons neutrons ultimately biological beings july',\n",
       " 'want offer tremendous thank suggestions believe paramount successful inclusion rantmedia ive vastly improved article since afd nomination well since yesterday afternoon wasnt clear necessary done article truly first really answer question going take bottom heart thank ₪— t·c',\n",
       " 'laugh watching supposedly british national news guys barely ankles snow implying ragnarok upon us yet day trees blown main roads blocked snow scotland doesnt seem noteworthy scotland routinely gets ignored national news even people north england complaining fuss made southern oriented news tourists appear amazed things falling apart something like mother good giggle reporters live trafalgar square couple inches snow beside main road barely ankle lance tyrell',\n",
       " 'friendly advice refer kindly use cult free cult',\n",
       " 'great links imo american people whole good decent called leaders fully controlled elite bent domination control whistelblower says talk',\n",
       " 'queens university stated previously quite pertrubed quite honest frustrated would remove section pertaining universitys traditions personal vendetta institution dislike whatever reason removed compliation material regarding jackets traditions find odd considering similar traditions allowed remain university wikipedia pages mindlessly deleting material without group consent constitutes vandalism sure intention malicious shortsighted move part please allow us discuss greater detail',\n",
       " 'january utc argument wpnatural seems rely showing name common need prove name common numbers might help bit also told gohatto rather 御法度 name film japan turned false incidentally ryuhei matsuda seems looks like mother father think also authentic portrayal shinsengumi film historical insights',\n",
       " 'unspecified source imagemetropolitanofmoscowmakariynevskiyjpg thanks uploading imagemetropolitanofmoscowmakariynevskiyjpg noticed files description page currently doesnt specify created content copyright status unclear create file need specify owner copyright obtained website link website taken together restatement websites terms use content usually sufficient information however copyright holder different websites publisher copyright also acknowledged well adding source please add proper copyright licensing tag file doesnt one already createdtook picture audio video tag used release gfdl believe media meets criteria wikipediafair use use tag one tags listed wikipediaimage copyright tagsfair use see wikipediaimage copyright tags full list copyright tags use uploaded files consider checking specified source tagged find list files uploaded following link unsourced untagged images may deleted one week tagged described criteria speedy deletion image copyrighted nonfree license per wikipediafair use image deleted hours questions please ask media copyright questions page thank want opt receiving notice hi',\n",
       " 'percent koreans eat dog meat koreans tried regular korean food diet dont genearalize finger point koreans eat dogmeat isnt true',\n",
       " 'support lets protect save page page full errors invalid references',\n",
       " 'apparently thought tom offline filed editwarring report yellowmonkey picked tom mentioned page protection well see sticks',\n",
       " 'newsletter draft ready hi dank prepared initial draft drive wrapup newsletter wikipediawikiproject guild copy editorsnewslettersapril could find time check goes would super thanks',\n",
       " 'omitted entirely',\n",
       " 'true description booger prove',\n",
       " 'stay talk page stalker',\n",
       " 'anthony de mello hi need page written anthony de mello currently redirects priest suggestions dab title cricketer',\n",
       " 'thanks happy new year lets talk',\n",
       " 'mature way central posted',\n",
       " 'stop vandalizing userpage know someone',\n",
       " 'oppose think merge good idea',\n",
       " 'maybe lead conclusion taip aircraft remained africa return back ferrying soldiers article colaconet also shed light',\n",
       " 'thanks thanks thanks leave watchlist found archive full vandalism back given slashdotted suspect see bit might get someone else fully protect continues cant coi would also like thank keeping open mind changing votes encouraging sign good faith regards',\n",
       " 'hello youre interested could really use help',\n",
       " 'fk rides worlds fun hate rides worlds fun shtty boring ride operators wof fired sued hanged burn wof coasters arrest wof park operators assassinate wof customers heard boy died timberwolf august thats stupid worlds fun nown better built sht ride worlds fun cares money prophet moar theyre customers burn sht park fk rides worlds fun dangerouser grround zero area worlds fun burn hell',\n",
       " 'job sure thing soon find time also notifyed novanova asking start editing guy knows lot croats history',\n",
       " 'oh ok wanted see people thought anyway csd hey like talk page hope dont mind talk er',\n",
       " 'wrong capital podgorica always since july seat government parliament president podgorica cetinje seat kingdom montenegro exile besides capital cities embassies podgorica see cetinje besides one montenegro world say cetinje capital montenenegro instead say podgorica also consitution adopted outdated new one due next year',\n",
       " 'mark ii subsec removed mark iix subsections made bulleted lists reason eyes subsec one line information',\n",
       " 'concise listing listing inventions profoundly vague group different categories together even mention things chinese received purely outside sources much complete well managed list chinese developments ive yet find along transmitted globally whether places like europe got purely chinese really needs attention people remote expertise guess somewhat needhams work profoundly rare private collections cited like arrogant bigoted ass crying chinese nationalism yet went onto say invented noodles besides things like cannon porcelain listed inventions developed independently',\n",
       " 'history could consensus view mainstream view theology mainstream consensus view since theology depends upon church membership theologian historical scholarship aims universality objectivity theology makes claims true millions believe jedp birthed hell would believe knew jedp means principle view notable enns said fringe view academe even among scholars actually disagree jedp sources used build wikipedia academic sources therefore jedp century offspring given default weight inside academia view fundamentalists treated according wpundue mean wikipedia could say fundamentalists theologically wrong wikipedia theology entitled say inside historical scholarship fringe view course exclude serious scholarship done religious faculties since ehrman said one bestsellers us mainline protestant catholic theological seminaries divinity schools teach mandatory historical criticism classes sense scholars faculties thoroughly acquainted historical criticism built careers upon assumptions fundamentalist seminaries divinity schools choose default historical criticism free cuts claims mainstream historians',\n",
       " 'well im sorry attacking edits exactly youre doingwow theres seriously snotty people wikipedia yes need separate featured single definitly',\n",
       " 'tfd nomination templatesilentredirect templatesilentredirect nominated deletion invited comment discussion wikipediatemplates deletiontemplatesilentredirect thank talk watermarks shall remove obvious ones less obvious ones stay allowed watermark images anything whatsoever wish even contradiction wish use wp bandwidth reuploading effect cant anything evening get deleted shall reupload without respect talkemail could grace reply said id deal evening ones watermark visible page talkemail planning reupload less obtrusive watermarks imagebliss parodyjpg talkemail wasnt vandalism used external link per instructions incidentally im bound follow certainly verge requesting mediation disrupting life never mind wp make point tell one time images better none wish get pix concerned images youre damn welcome try gfdl therefore theres grounds removal talkemail ps shall add external link image remove shall make formal complaint wikimedia foundation information commissioner london talkemail conduct little matter im discussing issues users lets keep civil please thanks talk disagree rob far little images watermarked way appropriate wikipedia encyclopædia pet image project isnt happy play ball go elsewhere talk proposing change image use policy forbid watermarked images please voice opinion wikipediatalkimageusepolicyusercreatedimages thanks talk edit united kingdom computer misuse act editing information online illegal without permission button top every page says edit page among things constitutes permission policies guidelines form conditions since condition image legal right qed talkemail true therefore addition fails logic also wikimedia servers right delete apologies ed invading talk page load rubbish wikipedia legal obligation whatsoever host images regardless whether meet policy idea flawed logic presume fact edit wikipedia means edits must legally accepted computer misuse act states editing information online illegal without permission implies editing permission legal nothing furthermore logic legal right edit wikipedia remove images fail see earth intend tell lawyer dont imagine wikimedia board concerned └talk┐ ignoring gibberish',\n",
       " 'artpop album hello thank contributions make message goodfaith please make hidden comments like stating editor blocked remove redirect position asking saying could turnaway new contributors arent aware rules feeling bitten case think kind user talk page message would appropriate effective also edit reverted reverted back version also removed block warning appropriate admin willshould block user removed redirect specially hidden message warning feel free correct wrongagain write good faith cheers huntley',\n",
       " 'crown prince wouldnt princeelect denmark elective monarchy time',\n",
       " 'hamish macdonald disambiguation hello let know two entries one name one similar name tagged deletion using templatedbdisambig questions please let know best wishes',\n",
       " 'someone close koreanamerican community pretty standard practice give american korean name first dont know sure thats case wouldnt surprised probably explained book',\n",
       " 'died think better settle matter instead going back forth ip user claims whole thing hoax died europe years ago theres hawaii obit first forevermissed usersubmitted website know family personally know somebody knows family wed like get elaborate explainantion behind claim shes dead years ago see supposed obituary pretty detailed rest biographical information accurate though picture',\n",
       " 'august utc dear hour block placed account yesterday personal attacks expired must say happy block harbor hard feelings towards check previous contributions see productive editor wikipedia id like let know guilty personal attacks goaded two individuals order avoid future blocks promise engage anymore personal attacks goaded trolls two individuals simply ignore repeatedly reverting comment made concerning statements made hugo chavez article found biased issue concerns nastiness uncivility far possessive articles created becomes angry edits made articles multiple revisions legitimate edits made articles told leave alone proceeded foul discussion page unwanted unsolicited comments objected goaded calling profanity respect role wikipedia administrator id like respectfully request future exercise better discretion blocking user based onesided information thank understanding',\n",
       " 'links results mess links anywhere except actual book',\n",
       " 'wasnt added glebe park link though mightve wikified ive never actually im afraid wont much help momentthough ive meaning go look',\n",
       " 'go away revert edit blowdarts user talk page surely thats privelege users like give wikipedia bad name stop busybody',\n",
       " 'head waysssssssssss pounds feels like play dow dont tuch fall',\n",
       " 'sarek vulcan unfortunately cannot ban fact sarek vulcan unfortunately cannot ban fact fact lawrencenkhoo told wikipedia companies keep retained profits bank fact absolutely untrue fact sarek vulcan bans stating fact sarek vulcan ban cannot ban facts',\n",
       " 'keep chin darwinism accepted overnight appears sense aat origins sortcut hypothesis ancestors went swinging trees prairies eons later take sedentary life style could edit wikipedia face book etc day one watch little kids beach first time wave throws bottomoverelbow may well cry – time cant wait get water home seaedge environment hardwired genes unfortunately rise sea level since times means evidence coastal communities may never found keep plugging away old hypothesis fade away',\n",
       " 'nazi filth impolite jan utc',\n",
       " 'interesting checked case number kunzang lhamo cited cant used wiki since original research going step cant find case number san bernadinos open access either civil criminal records',\n",
       " 'transcluded part ga review doesnt seem update main talk page article correctly may click go subpage get uptodate version sorry looong skim contentrelated stuff guess',\n",
       " 'protecting causes palestinian exodus hi explain talk page protected article edit warring going heavy standards article also participant mediation case concerns actually use one source page irrelevant present edit warring therefore wondering motivation regards',\n",
       " 'hello check personal page often please leave messages discussion page tks marvio',\n",
       " 'thanks note dressed everything nice editors like work way deleting messy posts talk page well mess mess thanks stephen please dont take gratuitous ingratiating imacowboy',\n",
       " 'dont care say dont believe one sentence anymore',\n",
       " 'anytime want nightcap tell',\n",
       " 'meet local vietnam tv series factual documentary meet local spain tv series factual documentary meet local tasmania tv series factual documentary meet local ireland tv series factual documentary way camino de santiago feature factual documentary african stories online factual documentary overlander multimedia abc outback boxing troupe online factual documentary overlander multimedia abc australia production company returning home story ararat online factual documentary overlander multimedia abc meet local east coast australia tv series factual documentary meet local outback australia tv series factual documentary',\n",
       " 'globalization ivytrash ivy anything home born raised blocks harvard square greatest place country interested globalization look square see smoking ruin home happens hope globalization comfort enough',\n",
       " 'selfconfessed approved observations see eg history soviet partisan btw youre first object',\n",
       " 'btw speaking armenian genocide follow wikipedia conventions common name dont agree assyrian common name also proven many times change name current article assyrian genocide seyfo',\n",
       " 'quote wikipedia article links page someone concerned article contains inaccurate statements statements followed following warnings dubious discuss accuracy statement may cause concern contains unlikely information without providing references contains information particularly difficult verify please remove dubious reference edits would guidelines wouldnt',\n",
       " 'belarus developed country hahaha nothing say',\n",
       " 'censorship islamist terrorism try censor monger properly cited information deleted',\n",
       " 'would like write article bills father including rise ceo commonwealth edison feel free article bill writing chatty booklenth biography stating facts biographical articles wikipedia details fathers career irrelevant although eventual stature ceo yet another issue already resolved',\n",
       " 'thanks really cool tool purposes like userpage best tallyho',\n",
       " 'funny would say exactly thing anonymous user ip greece user williamthweatt accusing people without reason allowed wikipedia per wikipedia rules free ask investigation fact kindly ask vandalism persists seek arbitration kindly ask moderator see reverts confident conclude mal intentioned clear nationalistic agenda guys something common greek',\n",
       " 'watched entire series agree entire article several suzumiya haruhi articles somebody knows haruhi personally sort view im going fix',\n",
       " 'agreed take stab also needs major formatting cleanup wikifying sounds much like fan conversation references either youtube links personal communications im trying least pare best musician ever statements could use help discography section',\n",
       " 'vandalism eg type edit somebody said stig leaving reverted basically reverted source suggest leaving know vandalism want carry editing wiki love place amazing please dont make leave ive explained please please unblock thanks —',\n",
       " 'baer didnt invent video games jewish propaganda supported wiki troll named goldberg go figure hey goldberg try educating',\n",
       " 'tell argument newseventsguy retroactive reversion simple edit trying include secondary independent verification sedimentary nanodiamonds younger dryas sediments bement madden et al without discussion reference notice yet included reference list still time admit ignorant peer review literature controversy attempt simple reference list edits page stomped less five admittedly biased ignorant editors honorable thing would recuse editing page havent seen happening good luck youve already made complete fools',\n",
       " 'hello get somebody fix shit around',\n",
       " 'dictionaries dare call contribution spam kurd made lsit kurdish dictionaries bloody turkish nationalist atoricity commiting bone breaking nazi watch folk slimy turk trying censor internet undemocratic turkey prison cells wikipedia stupid turk buggers want membership eec',\n",
       " 'apparently editors agree edits made justified group meatpuppets working team revert article pov caused block issue advert tag justified placed article one editor replaced replaced another editor replaced three editors far indicated tag belongs im sure forth editor going weigh side article riddled brochure language please note removing brochure language right lockup article theres still lots needs come advert tag removed additionally dont believe broke rule requires fourth reversion',\n",
       " 'agree indus valley civilisation correct name civilisation passage quoted neccecarily factual terms saying second proof mighty sarasvati rigveda fact dry river identification open doubt apart factsproof indicate saraswati exist dry river including geological facts dried evidence also points fact tributary indus refuting point passage quoted fact drew waters sutlej yamuna river system though large number sites found along river system none scale harrapa mohenjodaro leaving indus valley tag correct one saraswati existtoday timing disputed existence wheter vedic indic vs harrapan non vedic disputed today existence',\n",
       " 'december utc thanks started working pranagnihotra upanishad unable get full text deussens sixty upanishads pages appear book google url suggest url gives full text meanwhile completed short article sharabha upanishad may like see addedit nvvchar',\n",
       " 'insulted people enwiki criteria provoke filter set simply abusing power people handed',\n",
       " 'excellent would great comments found peer review also helpful havent time actually act upon suggestions cheers —hello',\n",
       " 'know dead plane crashed jeezz quit busting nuts folks',\n",
       " 'afican union site vandalism dear bracketbot wrote note inform editor performing acts vandalism website african union please would appreciate could tell report action board index name',\n",
       " 'know alljimbo dont get life instead sitting front computer day high priestess knowledge indeed',\n",
       " 'statements need referenced leaving article unreferenced every section opens door original research introduction factually inaccurate information point one thing ill bring consolidated appropriations act first number tags creation articles need tagged reason number remove flag second referencelink provided article one information various subpages appears entirety article found deeper link possible came well cant tell ill also note style summary taken never meant encyclopedic article riddled grammatical errors mostly incomplete sentences creation opening read consolidated appropriations act hr bill passed united states congress ive never heard usage rather assume incorrect another editor changed lead also missing important determiner case take look vesey',\n",
       " 'ok ask experience think portal',\n",
       " 'sitush anyone assume good faith writing much yadavs pageit evident discussions conveniently selecting sources negatives conveniently rejecting sources positives person spamming article vandalizing yes contribute articles wiki let first correct things yadav much wrong going thereyou got ikonoblast banned got banned get anyone banned differs biased stand yadavs going give upi follow wp policies ensure get things corrected yadav dont let fowlers personal views dominate pagepeace',\n",
       " 'december utc dont worry told back ill continue defend ya yup got proof work first saw like thats reliable source cause remember reverted source one time looked article saw ref like oh shit reverted im glad went going back im glad two words gone save question would like expand leads ss members hit',\n",
       " 'november utc agree clearly santilak using usual bag tricks santilak please discuss article courteously professionally',\n",
       " 'ok like pyx lax track much indeed could point towards greek trad music would great greawt irish non visto provvedi',\n",
       " 'wheres pitchforks already jun utc',\n",
       " 'reinstated sentence nobels first paragraph reason stated others disagree defining characteristic bx science indicated right front summary paragraphs discuss rather playing edit games removing text without either edit summaries discussion talk page',\n",
       " 'im disappointed wasnt successful run',\n",
       " 'elvis crying chapel feudalist',\n",
       " 'please refrain adding nonsense wikipedia fisting considered vandalism would like experiment use sandbox tlka',\n",
       " 'elizabeth hi lil romeo one biggest fans really like always dream night would like come dallas tx ignacio zaragoza give concert elementary school grade years old want come help homework see later write soon',\n",
       " 'hi fracophonie thanks taking time write long message appreciate terms said age didnt mean cause offense thought read somewhere make decisions think getting confused check user privileges already read policies read rest later today troll need time get used acronyms policies etc started writing article favourite website turned massive thing expecting really dont time argue debate usrs since clear want deleted despite said example one user wrote another site called amiritenet amiritecom precisely keep responding afc delete page terms rest agree course apologise unblocked apologise side note actually french jewish shame gay part though',\n",
       " 'welcome hello soundchu welcome wikipedia thank contributions hope like place decide stay pages might find helpful five pillars wikipedia tutorial edit page develop articles create first article using article wizard wish manual style hope enjoy editing wikipedian please sign messages discussion pages using four tildes automatically insert username date need help check wikipediaquestions ask talk page ask question page place help question welcome wikhead',\n",
       " 'removed content tagged uncited mattisse every commonly known fact need cite editoren passent wants nominate farc appears problem much suspect mattisses motives frankly tired bothered explore perhaps one probabtionary mentors interested would care deal',\n",
       " 'jeff garcia gay',\n",
       " 'wouldnt sufficient need explicit permission use text copyrighted someone else licence suitable wikipedia please read guide requesting formalizing permission use copyrighted works wikipedia note addition copyright requirements article must still comply notability guidelines advertising prohibition avoid conflicts interest — talk',\n",
       " 'section useful info stay clearly wrong',\n",
       " 'comment stuck week broken links since acknowledge move mistake uncontroversial please revert anyone wants dispute opera primary topic proper requested move discussion done first place willing able today ill ask another administrator',\n",
       " 'needs included context well ill try dig sources user talk review',\n",
       " 'tim firstly appreciate taking time discuss issue offline willingness debate length despite majority view favour yes certainly agree friend important describe jurisidictions firm present clearly massive diffence say offices french japanese jurisdictions chinese us jurisdictions since legal regulatory systems different well commercial characteristics markets beyond however remains firm view big difference law firm office say paris toulouse even though jurisdiction appreciate situation us slightly complex since federal state jurisdictions even within state big differences legal markets different cities though give example san jose market lot smaller overall los angeles market also quite different profile whole lot specialist niche focused high tech give another example uk law firm could never regarded truly top tier didnt office london even offices every big city fact top tier uk firms dla piper yet regarded one despite size one uk office london although offices overseas saying dla offices across united states egypt south africa kenya thailand china would view still mean loss valuable information reader could fall back using descriptions like major financial centres major commercial centres combination major financial centres major commercial centres introducing view unnecesssary element vagueness imprecision even original research accept dla offices right borderline many offices make practical list article however also feel important general point principal information office locations law firm valuable information aid reader article understanding subject included much possible',\n",
       " 'problem dont think problem someone siting mistress proves point far site actual encyclopedia forum encyclopedia big difference thats even pisses page thank god im single chick bitching would another attorney fee id handing sue whoever owns site im done bitching mistress thing whole page errors first line last line joke first line last line wrong',\n",
       " 'sprecher brewery took tour christmas visiting sister charged extra glass website may updated current pricing',\n",
       " 'ipad talk page remove ips edit talk page wasnt spam',\n",
       " 'speedy deletion andrew takao tag placed andrew takao requesting speedily deleted wikipedia done section criteria speedy deletion article appears person group people indicate subject notable article subject included encyclopedia criteria speedy deletion articles indicate subjects importance significance may deleted time please see guidelines generally accepted notable well subjectspecific notability guideline biographies think notice placed error may contest deletion adding top page existing speedy deletion db tag coupled adding note talk page explaining position aware tagged speedy deletion article meets criterion may deleted without delay please remove speedy deletion tag dont hesitate add information article would would render conformance wikipedias policies guidelines',\n",
       " 'image image deletion warning imagemetroid prime hunter title screen top displayjpg listed wikipediaimages media deletion feel image deleted please go voice opinion august utc',\n",
       " 'real personal attacks repeated undoing edits everyone else',\n",
       " 'nope didnt read guide appealing didnt time user question engaged harassment ive long enough know prove heshe immediately placed threatening notice blocking permanently user page reverted article midst editing second pass couldnt even preview changes changed hisher mind real wikisin since onus proving doris day available pd archiveorg himher usual span prebern expired long ago decided real sin original research oh noes continued revert based add clutter sure user question really concerned quality article extraneous details didnt heshe even notice two paragraphs already comprising entire article dealt norman schwarzkopf unrelated book unrelated ice cream store name ill tell user wasnt engaged goodfaithgoodwill editing normal backandforth leads better articles heshe involved blocking input article personal preserve existing content article including false claims extraneous material even concerned ther subject hand speculate id guess sort power trip wikibullying dont really time made fair number good edits years usually refrained saying anything isnt directly related content improving articles could pretend user didnt heshe im wasting time dont really stake pretense dont stake improving article either dog race see improved made informative longterm wikipedia user editor dont see problem jumping fixing something almost expect sort pushback completely minor edits good ontarget minor stublike articles problem isnt people user question get away sort behavior getting away wikipedia becomes much poorer place playground filled bullies rather library learn share also dont recal ever called himher bot think put words mouth perhaps inadvertently hisher behavior malicious probably malware normal human collection problems think user warned trying gatekeeper heshe isnt quite qualified point anyway chilling effect across wikipedia wont egnage battle wikipedia rule acronyms continue write english read articles wikipedia english think ways improve english fully aware terms vandlism used misused rest wikijargon nothing new sun read edits made carefully note times reverts history actions user see im mark know whats going dont know dont expect motivations arent interesting respond anything say',\n",
       " 'communist states three call socialist states communist word westerner use name changed',\n",
       " 'boze hadleigh journalist interviewer writer primarily gossip homosexuals hollywood',\n",
       " 'imdb content usersubmitted often subject incorrect speculation rumor use imdb wikipedia referencing considered unacceptable strongly discouragedwikipediawikiproject filmresources selfpublished mediaare largely acceptable includes website whose content largely usergenerated including internet movie database imdbwpuserg ive said longstanding consensus disagree encourage take wikipediareliablesourcesnoticeboard',\n",
       " 'im new means communicating sure expressing right form however reviewing recent nominations expected go web next couple months process developed database corrected latlong decimal degrees based google earth photos assessors maps nomination files would like share way alternatively find way easily check correct existing coordinates mass wiki lists would useful anyone',\n",
       " 'actually reverted vandalism',\n",
       " 'yes read ask provide backup story matters least one religion bad better proof claims chatnoir',\n",
       " 'think error grams kilograms kg im editing article til better result im wrong please change back dec utc',\n",
       " 'vince fyi yellowfrogs longdendale councillor sean parker perry frequent purveyor greenwash four square behind destruction swallows wood via support bypass vigourously reediting wikpedia pages longdendale bypass roy oldhams page order boost fake green credentials obfuscate neutrality articles gets nasty gets pissed threatens spurious legal action fortunately hes legally illiterate dont put',\n",
       " 'summary situation usershimshem taken dislike article tried numerous methods either get deleted name changed completely invalid speedy deletion request invalid drv request nominated deletion via afd despite fact passed afd year fact afd withdrawn keep current afd stands keep despite shimshem wikilawyered way became clear going kept decided name change would better changed name band article told take talk brief nondiscussion talk moved article anyway reverted originally unsure motives editor completely desperate delete move article noted interested tamil subjects one mia artist guessed believed two could confused subsequent creation article redirect mia artist proved far concerned whether band actually called mia mia differs band uses mia heading website uses combination elsewhere since case sources likely laziness much rem regularly referred rem since article existed backlinks go version shouldnt let disruptive users get way article stay',\n",
       " 'unnecessairy source matter many soldiers killed matters safavids deposed besides mentioning information without making remarks brutality afghan forces example complete massacre safavid family including women children well massacres civilian population isfahan bam villages khorasan considered pov besides shown sources claim soldiers killed edits matter believe matters wikipedia rules posted message without editting anything thats abusing articles history messageboard use real messageboard instead',\n",
       " 'whoever wrote plot feel terrible whoever watch movie detail write plot line ever took time write plot section must traumatized life however missing part milos son laying belly unconscious bed milo anally rapes several masked men watch also theres use knifesword scene truly one sick film artistic message film basicly middle finger sickminded film makers cast must tricked participating disgusting film theres artistic gore classic film begotten theres listen dont watch film matter much tempted',\n",
       " 'asked admins comment refrain however remove personal attack anyone wishes discuss action please email windows',\n",
       " 'compromise dont think budget salmon least netherlands inbetween fish affordable dutch called salmon trout far good marshall fortunately one yet discovered used run drugs cartel danced nightclub lahenry lafarge shot dark ssshh im telling oh ask rfa proper use citation templates later',\n",
       " 'sorry sure take care quite history actually legal cases involving dayton daily news wikipedia risk edits pages affiliated company actual sockpuppet puppet hdayejr',\n",
       " 'agree disagree relative merits fish character red seabream part family sparidae anyway thats usage outside north america right',\n",
       " 'large ships typically launched water hulls completed doesnt mean construction work finished usually still significant amount work done including finishing interior ship building superstructure etc take look imagesms seydliz constructionjpg example see ship already water significant amount work done superstructure also read ship naming launching information launching hope helps',\n",
       " 'point predictably ignored stonewalled seems wikipedia staffs official response direct questioning justin berry issue one might think theyve hired scott mcclellan handle pr clearly aware untenability position theyre really hoping go away sorry guys wont',\n",
       " 'need prove notability using reliable sources festivities large organized part country doesnt make notable also need change username one probably blocked soon violating username policy names web sitesbusinesses talk',\n",
       " 'sigh concerns mr reverted contributions mine given article far single chance develop article called ¨falsetto¨ falsetto may arrogance knows huge contraries regarding definition falsetto many signs entirely different falsetto compare info mr anxiously protects england italy spain century described entirely different types falsettos top mr perhaps never heard pavarotti singing falsetto falsetto ian gillan singing king diamond based falsetto michael kiske falsetto mariah carey whitney houston sing falsetto falsettos sound breathy isnt published note maybe look would fit article would admit source vennard probably chair something else falsetto drunk quickly opened two three books things swallowed world whole physiology ¨only¨ falsetto based encyclopedia well perhaps enough wikipedia much regarding physiology much much allow idiots like ¨develop¨ wikipedia people readers wikipedia read shit proves research regarding female falsetto mr know everything feel free block desire write',\n",
       " 'youve also forgotten premier leagues still written english',\n",
       " 'please replace wikipedia pages blank content blank pages harmful wikipedia tendency confuse readers duplicate article please redirect appropriate existing page page vandalised please revert last legitimate version feel content page inappropriate please edit page replace appropriate content believe hope page please see deletion policy proceed thanks contributing wikipedia talk',\n",
       " 'motherfucking piece crap fuckheads blocking us',\n",
       " 'utc thats made tables classed everyone independent unless could confirm party identification according dlp intended run constituencies according least candidates ive able identify two far need identify december',\n",
       " 'removed pov removed undo criticism secretary boutwell pov wikipedia meant bash persons reputations whether alive dead following removed article boutwell little withdraw paper currency circulation shaping financial policy forestall either inflation deflation intellectual critics saw actions want guiding principle lack solid theoretical knowledge believed knowledge far convenient justify theory knowledge deception henry adams wrote muchquoted analysis believed common schools political science ledgers cashbooks adam smith mill one might believe multiplicationtable laplace newton natural logic made disbelief higher branches political science basis political practice thus grounding action ignorance carried principle remotest conclusionshenry adams session north american review july p corrupt time spoke well boutwell nobody thought made money cabinet post either friends living within salary lodged boardinghouse throughout tenure pleasures lay writing lectures playing billiards poker though never money chicago times march inaccessible man uninfluenced fear favor affection hope reward burst brillian exhibitions love hatred new england politician wrote brother henry f french benjamin b french march benjamin b french papers library congress boutwells financial policy less dogmatic pragmaticliberal reformers hoped would embrace civil service reform rush country towards resumption specie payments boutwell appointed subordinates basis merit part little rein spoils system outside washington remaining friendly terms party bosses',\n",
       " 'sir imbecile pervert',\n",
       " 'recaptcha isnt defamatory relates computer system living person recaptcha forces users solve captcha access whatever service question forced labor definition slave labor going revert reversion please report vandalism also please dont send threatening messages tia',\n",
       " 'question possible citation im sorry missed question dont pay much attention page response question let start repeating boilerplate formulation job wikipedia editors verifiably summarize reliable sources using neutral point view havent yet worked original research wpnor says mustnt integrate otherwise reliable information arrive novel conclusions comparing two lists drawing conclusions differences similarities likely original research integrate information long dont arrive new theories another principle remember vagueness improves accuracy precise harder accurate getting details predators editors website appears reliable source use source bauer site even somewhat unreliable may used limited fashion primary source bauer im familiar enough topic make pronouncements would correct however would say proposed text appears reasonable sources sufficient original conclusions made website takedown issue confusing able summarize find reliable sources overall opinion less say subject better attack articles encouraged must show subjects warts shouldnt enlarge warts ignore better features balance part npov able summarize find reliable sources reliable sources said said blog flame war alleged website takdown instigated bauer isnt clear factors forum ip known root cause article players involved via blogs dont see objective bauer im sorry get back usenet stuff et al ive somewhat overloaded work personally think article better first saw thanks lot effort part primary editors article bring best sources present way doesnt seem like lynch mob yall good job enough editors either side ensure something resembling nuetral gets posted im glad help try make article neater dont mean sound brusque summary field lot cram thanks note appreciate would say karen saying ive called names fabrication ive never done thing whether hes able insult call names wikipedia repeatedly without consequences ive accused jule carrying water tnh absolutewrite isnt namecalling long stretch im really weary attacks mob rule avi seems genuine shes hanging tough insulting tribe threats real escalating hour blaming wont make points less valid nobody likes piled crowd internet equivalent stoning fabrication get awfully tired called troll part mob cult group troll selfinterested partisan blog comment commando things could point wanted depress also made theoretical comment nosy fat ugly putting word front doesnt make less insult ive tried polite continue response please notice like abi avi avraham admin abi ml commenter believes kindness counseled piling talk contribs ad hominem names karen yet youve linked thread teresa caled psycho hear said private asked spoken negatively threads making light obvious two protnh absolutewrite thats selfinterest backed fact run counseling well avi make decisons cant sh',\n",
       " 'infobox hurricane season pretty much complete need make documentation possibly tweak things may pop might want test questions suggestions go ahead address',\n",
       " 'show wikipedia says table width wide collectonian cant answer question',\n",
       " 'article marked fixing hoping would guidelines talk page research edits article looks okay cursory reading nonwiki reader',\n",
       " 'castrolite webluis continues revert watereddown preferred image castro backed edits facts whined personal attacks nonexistent empty statements mar utc',\n",
       " 'antonov revert didnt like redlink removals dont add table made also reverted edit added logo antonov said edit summary',\n",
       " 'another crap article parrots promotion websites capoeira schools say myths origin also persecution thing late capoeira became word street brawling thus authorities prohibit sanction practice capoeira banning capoeira banning outright street brawls mestre bimba presented art luta regional baiana decent carioca would eager sympathise capoeira malandrismo could attempt alter article become mess',\n",
       " 'never edited content comments please correct false accusation',\n",
       " 'redirect talkjosé manuel rojas',\n",
       " 'agree shouldnt clearly media make spouses household names theres nothing stop jim rightly points rein notable political spouses prominence businesswoman potential conflict interest trying avoid nick',\n",
       " 'security reasons edit war said edit summary term security reasons ambiguous properly established source unnecessary youd crystal ball know said earlier janes perfect reason mg manufacturers alter parts dont interchange us batfe makes suddenly glock different yeah guess thats like glock compensated pistols acting like compensated pistol wonder actually shoot bullets',\n",
       " 'represents immaturity consistence disruptive behaviour — talk',\n",
       " 'macedonian slavic bulgarian possibly notes republic macedonia recognises language dialect macedonian language greece eg recognises speakers slavophone greeks bulgaria believes macedonian dopiaslavicmacedonian part bulgarian diasystem european bureau lesserused languages recognised language macedonian ethnologue comprehensive guide worlds languages go clarification altough know stance various governments anyone current sources please add hope table clearer still needs ngos albania eu etc please add constructive comments',\n",
       " 'feel acting manor inconsistent responsibilities post something wikipediaadministrators noticeboardincidents want make changes university wisconsin–madison reliable source references support changes post references changes tutorial may help references questions ask',\n",
       " 'part editing encyclopedia reducing extraordinary claims ordinary fact assume meant derogatory fashion',\n",
       " 'cfd nomination categorywikipedia administrators nominated deletion opinions matter welcome please participate discussion adding comments discussion page thank ☎',\n",
       " 'im also sock puppet accountsuprise sincerely man track internet kill',\n",
       " 'sources needed provided need read articlebut guess cant read prove even reading article every edit backed source came going provide details merely civillain editor wikipedia staff member info need within pira text edits actual wikipedia staff member wants specifics happy provide look obviously antiira hack making things support bias neither pro anti ira bias merely report facts checking page daily continue submit pira entry far accurate factually supported several times day wish accept fact mine superior version deal reedit regular basis agree incorporate fatcxs mine one article three areas number loyalists killed number ira victims broken janes intelligence online cfr irarussianmafia connection documented multiple books newspaper sources three things verifiable remain',\n",
       " 'fucker mother fucker nothing block university computers go suck cocks',\n",
       " 'one many books various bands thought cult rockers checked supertramp isnt seek source quote',\n",
       " 'hello disgrace humanity stop wasting valuable internet resources killing fucking planet throw pc ps like fark kinda life wikipedia sad lonely one lol lifes short find something better',\n",
       " 'ive explained reasoning block usertalkgwengaleuserprofessionalassassin',\n",
       " 'article created album disambiguation page created',\n",
       " 'would pretty odd declassified documents mention movie created events movie documents related declassified documents synthesized movie unless want prove conspiracy synthesis odd perfectly valid use documents relate historical events verify happened use primary source ideal wikipedia since ideal left talk page someone wants research find ideal references —',\n",
       " 'retarded bot bot entirely automated wrong leave unattented script running site like idiotic suppose scripting abilities perfect ever make proper edits banning doesnt help anything dipshit since many ips want',\n",
       " 'two reversions hezbollah could explain talk page reverted edit twice',\n",
       " 'dislike racism see problems people speaks spanish antisemite',\n",
       " 'name yuen lou looks variation yuen lo name jackie used sifu opera school',\n",
       " 'user',\n",
       " 'realize article doesnt quite say thought said anyone find citation stating exists proper subfield isomorphic would interested seeing could reinclude clause citation',\n",
       " 'didnt cherrypick anything official facts essentially every cnn program doubledigits home “piers morgan tonight” home “erin burnett outfront” worst performance demo years',\n",
       " 'directindirect relation correct say technically degree shot elevation reaches longest distance degree reach distance degree shot could shot considered direct fire shot considered indirect fire think great explanation one way viewing things',\n",
       " 'title section revert hi office earlier hadnt noticed warning restoring title section im sorry course wont revert clarify ive opened new section indeed alert contributors behaving way line examples ownership behaviour described return title section twisted something unrelated one message erased first time see people editing others signed contributions talk page looks crazy',\n",
       " 'noel expert please convince whig history fans lazy minds bonnie prince charlie want dissolve union united kingdom began stuarts opposed hanoverians tell whigs rewrote history blame everything stuarts credited ultimate failures positive contributions foundations great britain stewart tudor blood sovereigns realm else kingdom british might well living republic least parliamentarians way even hanoverian heirs recognise stuarts founded uk please debate thanks',\n",
       " 'warning earth id like leave access talk page perhaps six months convince us try youre inclined youre making hard continue abusive comments revoke talk page access',\n",
       " 'jaeger regardless people decided erens name jaeger like calling light death note raito least anime people dubbing take care correctly pronounce foreing names ie except mikasa jaeger means hunter german word guess eren series',\n",
       " 'thank experimenting wikipedia test worked reverted removed please use sandbox tests may want take look welcome page learn contributing encyclopedia link edit reverted found link believe edit reverted please contact — talk',\n",
       " 'please discuss factual accurate biographical information courtney ford vandalism look forward hearing evidence',\n",
       " 'think entire article tagged politicized part future trends speculative point scientists learners increasingly using know teachers yes probably make educated guesses better anyone else still educated guess also didnt notice totally spewing unnecessary carbon statement think article superbly misses point pollution waste types stupid ways go things better ways known making guinea pigs planets species points',\n",
       " 'used car expert pageimage thank note image used car expert magazine copyright owner gave permission picture email',\n",
       " 'however still error assert doesnt work equations handicapped',\n",
       " 'first weve widely established use exile quotations presented legitimate second im mark ames autheticated numerous admins users wikipedia personally met third cite paragraph spy magazine primary example pov creative facts precisely creative fact paragraph exile admired spy magazine spy magazine employed team lawyers defend spurious lawsuits spy magazine went bankrupt claims paragraph verifiably true',\n",
       " 'pretty humorous comment someone promotes farleftist blog daily kos user page',\n",
       " 'seems',\n",
       " 'dont evasive shall repeat many people argued deletion dont lock pages dont get way —',\n",
       " 'edit request october arctic monkeys played walk wild side honour lou reed echo arena liverpool day musicians death',\n",
       " 'welcome hello welcome wikipedia thank contributions hope like place decide stay pages might find helpful five pillars wikipedia edit page help pages tutorial write great article manual style hope enjoy editing wikipedian please sign name talk pages using four tildes automatically produce name date need help check wikipediaquestions ask talk page ask question place helpme question talk page welcome talk',\n",
       " 'gurch isan interesting fellow dont take comments heart take advice board talk',\n",
       " 'wasnt vandalism dickhead',\n",
       " 'need understand help wikipedia political mission attack brazilian press im crazy see crazy people day brazil',\n",
       " 'season issues sure removed edits season futurama issue think merit total lack season info confusing sure season info replaced movie information could informed least removed discussion comment',\n",
       " 'philosopher rfc philosopher wiktionary person devoted studying producing results philosophy going make case must call stefan molyneux philosopher without qualifiers lead done endorsement statement level achievement acceptance philosophy career note sources use article present point first convince rfc respondents philosopher accurate widely accepted make sure reliable ones place definitions obviously source going use slightly different phrasing call explicitly philosopher views philosophy think consider phrases given equivalent using one word philosopher lead sentence covers political ethical theistic specializations one word elaborate later article philosophical conversation philosophy show used describe freedomain radio series libertarian libertarian thinker libertarianism classification political philosophies anarchocapitalist anarchocapitalism political philosophy voluntaryist voluntaryism sometimes voluntarism libertarian philosophy athiest arguments atheism range philosophical social historical approaches ethics ethics sometimes known philosophical ethics ethical theory moral theory moral philosophy branch philosophy secular ethics secular ethics branch moral philosophy primary source stefan molyneux living person give great weight says focus work stated profession unless reliable evidence contradict obviously dont want host sort fringe claims dispute says though absolutely must strong basis open wikipedia discredit liability blps held strong standards first place think case strong ample evidence calling philosopher justified correct modern philosopher explores via modern online media obviously new phenomenon understandable different oldschool philosophers used freedomain radio page masters thesis analyzing political implications philosophies fascinated philosophy particularly moral theories since midteens left career software entrepreneur executive pursue philosophy full time work freedomain radio written number novels well many free books philosophy freedomain radio show molyneux hosts tagline largest popular philosophical conversation world molyneuxs books show endeavoring produce tangible written results field philosophy particularly universally preferable behaviour upb rational proof secular ethics gods concise guide atheism agnosticism two deep dives fundamental philosophies strong atheism case evacuating middle ground article philosopher video response questions childhood motivations pursuing philosophy introduction philosophy video course produced molyneux describing basic philosophical concepts reality knowledge truth godsreligion ethics politics unsolvable philosophical questions solved video tackles great philosophical questions considered unanswerable proofs god destroyed philosophical atheist video philosophical review discusses major philosophical political economic social developments video philosophy questio',\n",
       " 'wpfilm december newsletter december issue wikiproject film newsletter published may read newsletter change format future issues delivered unsubscribe notification following link idea improving newsletter please leave message talk page happy editing talk • contrib',\n",
       " 'january utc uncivil try hes called users waste sperm moron etc block one whos truly uncivil rikara recommend cool yelling arguing going get anything take breather come back youre feeling calmer otherwise find talk page protected forced take breather seen nothing sort user since renamed least current situation blah vv',\n",
       " 'suck dont undelete page barry dejay',\n",
       " 'see internetexplorermarket share history overview year version us time come like others using problems thats fine im worried specific workplace come howl',\n",
       " 'like example given following post',\n",
       " 'curse wikipedia respect god wikipedia full lies dangerously evil half truths wikipedia respect religion following users wikipedia namely redtigerxyz priyanath emperor genius wikidas wikiveer dagizza committed blasphemy sacrilage curse upon perish curse following users wikipedia namely redtigerxyz priyanath emperor genius wikidas wikiveer dagizza perish curse wikipedia entirely perish beg forgiveness supreme god lord vishnu choosing blasphemous wikipedia website write truth true devote supreme lord vishnu hurt curse never goes vain never edit read go evil wikipedia website forever delete userid edits evil wikipedians mr dagizza male chauvinist pig misogynist core call administrator ridiculous mr dagizza curse existance man like cannot respect women worthless existance wikipedians useless people burden civilized world even worth hatred wikipedians must ignored curse',\n",
       " 'hahaha dont actually believe bullshit telling right talking access country representatives government kim jong un two totally different things although could understand stupidity since north koreans think kim jong un governement im saying go troll somewhere else kid',\n",
       " 'blocking mardyks guess loser know cockblocker hahahaha',\n",
       " 'dont want use dont understand fayssalf insists naccount could wrote using account maybe would kept instead naccount',\n",
       " 'deletion minority posts nice try trying silence slave wont stay know attempted block yet come wikipedia every day something nota life see failed attempting silence refusing answer qusetion purposely hunt posts africanamericans delete refuse access sporting goods store person contacted attempt block named rebelguy racial agenda made hard copy failed racially motivated attempts punish turned naacp',\n",
       " 'thank wanted say',\n",
       " 'well never answered question specific intention talkmystery science theater vs movies assume posting title intention create individual episode articles im record believing could useful prepared time significant work im stretched way thin right talk',\n",
       " 'nigel per wiki standards use external link proper context article useful tasteful informative factual etc functional link likely continue functional link link considered merits using following guidelines number external links article grows longer assessment become stricter doubt appropriateness adding new links make suggestion articles talkpage discuss editors generally avoid external links except takes directly home page aircraft question link take directly nasms page particular makes external link appropiate agree page need references',\n",
       " 'edit request march minor edit ive added azerbaijanis list describes turks first paragraph second largest turkic ethnic group turks turkics peoples residing northern central western asia mongolia southern siberia northwestern china parts eastern europe speak languages belonging turkic language familyturkic people encyclopædia britannica online academic edition share varying degrees certain cultural traits historical backgrounds term turkic represents broad ethnolinguistic group people including existing societies azerbaijanis chuvashes kazakhs tatars kyrgyzs turkish turkmen uyghur uzbeks bashkirs qashqai gagauzs yakuts crimean karaites krymchaks karakalpaks karachays nogais well past civilizations kumans kipchaks avars turgeshs seljuks khazars ottomans mamluks timurids possibly xiongnu hunstimur columbia encyclopedia sixth edition – columbia university pressencyclopaedia britannica article consolidation expansion indotimurids online edition',\n",
       " 'nobody cares seriously selfreferential trivia guy',\n",
       " 'understand see see scholarship see stealinggraspinggreed animalistic try culture switch math wil like levantian math amanbir',\n",
       " 'guess u dont know greek cuz took u forever translatesecond u read carefully say anything u',\n",
       " 'never met photographed keith wigdor whoever asking interfere article keith wigdor resources connections unless somehow deceptive really sort expert artist dec utc',\n",
       " 'holocaust denial actual proof jeff rense advocates holocaust denial category holocaust deniers removed',\n",
       " 'wikipedia administrators defending massmurdering psychopath',\n",
       " 'censorship understanding youre supposed warn someone asking administrators block consider warning dont delete comments',\n",
       " 'april attitude comments appreciated please remain civil',\n",
       " 'request help request help hi cat perviously noticed strong antigreek bias several articles related macedonia ive issues furper beam seem admins heavily favour fyrom ive officially complained notice board threats block edit behavior unusually close relationships obvious fyrom pov members wikipedia specifically balkanfever said verbatim politis talkpage difficult battle far alone moment newbie said one admins notice board feel like someone reporting bad cop policemans ball however still plan follow soon precise listing perceive nonnpov behavior admins noticed researching issue youve also problems would possible list problems talk page add report show alone furthermore since around longer probably know greeks around would possible also contact ask theyve also problems two add incidents list perhaps get contact others one person could bullied threats blocking concerns many taken much seriously check back couple days courage regards',\n",
       " 'certain injury sickness regardless occurred',\n",
       " 'told wont comment want',\n",
       " 'wikipediaarticles deletioncheongye kwan post afd new martial art bothers version time based post posted read article quite honest feel satisfy wikipedias guidelines reliably sourced since believe notability article satisfied independent sources refute argument posed wayne determined phillip rhee source martial arts localised please consider concerns post raises simple matters like references notability noobie basics afds routine moderately experienced user breadandbutter admin fact cursory check shows almost everything stated dont word unreal close eleven independent sources stated established notability nonlocalization time three references coates robinson shaw certainly topic even existed related passing piece news founder team completely different sport event two references half davies white almost certainly identical identically irrelevant topics notability promoters personal page local town website almost certainly selfpublished official village website casual interview nonnotable possibly nonreliable university magazine apparently promoters travels see experts different sport tangential tiny sentence mention hed discussed new sport lau philip la interview entries marked reference support written reference chris cook rhee obviously request founder friendcolleague write letter support never published anyway isnt cited cant read even possibly valid evidence short writeup local information kind award first black belts school local paper brief sport existed even remotely topic much less sourced material substantial coverage precisely zero coverage claims personal think great guy letters support evidently solicited andor written request zero evidence verifiable existence certainly way reliably sourced independent selfwritten briefest nonmentions nonreliable source pretty much discussed topic college magazine interview local press coverage courses thats even news day evidence anything beyond course name taught twice weekly local village hall assessment afd reliably sourced solid barely one reliable source sport even exists first place local newspaper mention meets village hall tuesdays fridays awarded first black belts probably via selfpromotional input zero reliable sourcing rest cited pages evidence notability solid dont mention even date time topic existed online versions provided earth could reliably evidence sources independent solid claims please support letters exist even stated personal references unpublished uncited clearly selfwritten web page local village web host cites show nonlocalized solid page doesnt list link cant checked cite yet say citation proves reference openly stated cambridge university bristol taekwando big indication actual source link provided request turns',\n",
       " 'hebrew name lydia appologies til eulenspiegel thought one idiots user page indicates actually well struggling genesis וּמִצְרַיִם יָלַד אֶתלוּדִים וְאֶתעֲנָמִים וְאֶתלְהָבִיםוְאֶתנַפְתֻּחִ mizraim begot ludim anamim lehabim naphtuhim see ludim mitzraim confused lud son shem far east best wishes keep good',\n",
       " 'considered irrationally laid waste six months life dedicated project',\n",
       " 'scout sources prior prod eh ♦ dr blofeld',\n",
       " 'wasted time take advice pull head ass real dont spend rest life sucking ass nice life goodbye mailbox',\n",
       " 'classwikitable solid parliamentary bloc alliances leader seats percentage source national alliancestate law coalitionnational iraqi allianceibrahim aliraqiyaaliraqiyyahassan kurdistan blocs coalitionkurdistani listkurdistan islamic unionislamic group kurdistanfuad center currentaltawafuqunity alliance gorran blocgorran movementshorsh hajialiraqiya brengt oppositie en talabani dichterbij elkaar national rafidain listassyrian democratic movementyonadam csapcchaldean syriac assyrianpopular councilsarkis independents———',\n",
       " 'also told counts using admin tools deciding content misrepresentation policynorms sanctioned past',\n",
       " 'welcome hello welcome wikipedia thank contributions one made nogeoldae hope like place decide stay pages might like see five pillars wikipedia help pages tutorial edit page develop articles create first article using article wizard wish manual style welcome continue editing without logging many editors recommend create account free requires personal information provides several benefits ability create articles full outline explanation benefits come creating account please see page edit without username ip address used identify instead case hope enjoy editing wikipedian please sign comments talk pages using four tildes automatically produce ip address username youre logged date need help check wikipediaquestions ask help teahouse ask talk page ask question place helpme question page welcome — ♫',\n",
       " 'stradbroke galleon portuguese hallo moondyne admit signed onto wikipedia aware concensus community knowledge nazis aware make appropriate adjustments obviously mistaken impression wikipedia venue sharing facts knowledge information notion stradbroke galleon story pet theory mine total rubbish written discussed investigated years historians historical groups royal historical society queensland maritime archaeology association queensland many numerous include exists various libraries books communities large body written oral history concerning galleon story attempted fairly accurately place wp domain fact story accepted mainstream academics valid reason deletion either contributions occured classic example manipulation information resource vested interest group ie hesperian friends representatives mainstream view hesperian complain media coverage recieved never appeared wp contributions made hesperians mention media coverage demonstrates core reason hesperians antagonistic attitude simple old fashioned professional jealousy thus valid historical data deliberately surpressed hesperian personal reasons example portuguese walking stick handle found aboriginal midden identified spanish musuem offical story told uq archaeology phd student relevant theory portuguese discovery australia kind knowledge suppression wiki guess care appear part happy little click sucked hesperian little band mates pity history full suppression information vested interest groups expect wiki different still dissapointing happy trails',\n",
       " 'agf requires think reverting users preferred version might look better allow another admin make edit',\n",
       " 'accents although cartoon established mario luigi brooklyn fact commonly accepted fans despite never mentioned games toad seemed speak thicker brooklyn accent accents werent mentioned games tv show presumably licensed product nintendo decided go italian accent fans assumed tv show later movie accent official standing nintendos products included digitized recorded speech anyone realize nintendo intended italian italianamerican principle updated canon star trek star wars licensed products run',\n",
       " 'delete way consider trophy',\n",
       " 'actually bzfoster unable edit article semiprotected well log try',\n",
       " 'believe obeyed communities rules understand rules personal attacks appeares applied unjustly instance provided countless hours academic research input wikipedia please assume good faith part blocking admin intelligent adult naturally assume good faith parties demonstrate dont seems oneside affair',\n",
       " 'please add unsourced negative controversial biographical material pages edit stuart tyson smith continue blocked editing',\n",
       " '— preceding unsigned comment added talk • contribs',\n",
       " 'french walloons surprise article french people clearly labels walloon distinct ethnic group perhaps best make comparisons screwing times done rewrites parts article mainly word sentence left right make distinction relation dutch flemish clearer article switched constantly parts dutch parts dutch flemish together clearer major thing left adjust graphs number dutch since still al include flemish',\n",
       " 'need sign rsn post',\n",
       " 'things get straight firstly like look like smug little prick secondly like ethnicity one little bit id like explain count thirdly dog bit bender',\n",
       " 'procedure ask award michelle obama already million views year anthony davis basketball million c wpfour wpchicago wpwaward',\n",
       " 'adding links add thank links entire page also marked spam reason one familiar one hundred year old industry still explain links page relevant mine',\n",
       " 'please accuse members vandalism mind change word unique prominent remove stories dreams etc vandalised page made statement biased saying dr qadri sent referendum reverted whole edit also reciently vandalised page removing names yemeni scholars recieved dr qadris ijaza including pictures clear form vandalism accusing members vandalism vandalise page clearly vandalism reverted edit changes made brought page back previous form would first kindly read rules wikipedia find definition vandalism accusing experienced users still new wikipedia im afraid need learn works different rules wikipedia making edits',\n",
       " 'know pronounced turkish question whether theres specific pronunciation thats dominant english best include english transcription pronunciation audio file',\n",
       " 'oh sorry actually found page forgot anyway actually note going rewrite text suppose slipped mind',\n",
       " 'june please vandalize pages edit bugatti veyron continue blocked editing talk',\n",
       " 'terri schiavo rorschach test perhaps see utility terri schiavo rorschach test dangle pretty slender alive aware young face front power players left right see respond respond inappropriately make note rat laboratory make wikiepda powerful true npov notable fair',\n",
       " 'ok stop lame seriously go watch pokemon',\n",
       " 'past masters vs rarities im creating chart use includes us albums since many differences early albums us fan im faced issue whether us albums uk albums ipod post chart talk page others judge whether worthy including realize problems including lack canadian albums purpose simply record first album appearance uk us song notice number uk songs listed past masters actually first appeared rarities beatles album dont know reason purpose list first appearance album someone explain changed rarities',\n",
       " 'simpsons movie poster create simpsons movie poster image source somewhere else',\n",
       " 'help hey help something uploaded image wikipedia contacted photographer gave permission use wikipedia wondering proper licensing would thanks advance',\n",
       " 'looks good would nice see counties lot better current one good job',\n",
       " 'debunkers pretending theyre objective sceptics besides proving lack knowledge lack integrity various astrology pages also personally attacking talk page dare try defend block wikipedia much honest dialogue cant win argument fairly resort dirty tricks',\n",
       " 'reviewing blocks said id also like ask future sake fairness due process decline unblock requests users block unless request pure nonsense abusive ethical reviews blocks meant carried party thought pretty clear case given editors user page gnaa etc etc etc unblock request pure nonsense also impression unblock request would still visible reviewed admins ill careful future',\n",
       " 'regarding edits made december utc kanpur please add inappropriate external links wikipedia wikipedia mere directory links used advertising promotion inappropriate links include limited links personal web sites links web sites affiliated links exist attract visitors web site promote product see external links guideline spam policies explanations links considered appropriate feel link added article please discuss articles talk page rather readding see welcome page learn wikipedia thank talk',\n",
       " 'come really necessary understand coming sound like whiney bitch website anyone edit sort stuff comes territory really expect anyone people troll wppw read comments talkroyal rumble talk page matter im confident active members wppw added wrestlemania xxiv watch list something liking added removed simple youre putting people reading talk pages quit endless dan',\n",
       " 'see antisemitism guy gives lectures new york synagogues knocks country every single minute using every opportunity influential newspapers new york post one state interests personal find intellectual person among neoconservatives new york post michelle malkin andrea peyser deborah orin may rest peace although know rotting helland essayists ones make great company amir taheri guy mind agree irans regime wrong regime shah amir taheri longing owned keyhan regime better islamic revolution justified look intriduce amir taheri article new york post based europe memeber benador associates europe small small town dont say based world journalist may breakfast london christian amanpour james rubin eating lunch jerusalem lectures dinner anti irani jews forest hills new york emailing full hatred articles new york post isnt stupid saysomebody based europe asia africa',\n",
       " 'confusion controversy real world preclude writing good wikipedia topic ackoz suggests real world yet hashed truth expulsions therefore impossible us know truth thus impossible us write reject stance think difficult quite possible write quality wikipedia article topic murky andor controversial many wikipedia editors get wrong believe wikipedias job report truth wrong wikipedias job report truth precisely difficult determine truth attempt original research instead truth wikipedia aims verifiability put different way wikipedia committed recording state human knowledge opinion opinions reliable sources truth clear uncontroversial easy us report truth murky controversial challenging possible us report different reliable sources assert think topic even reliable sources conflict wikipedia editors get trouble start siding one side controversy asserting side selected represents truth one perspective pov topic hand trying hit npov sweet spot difficult midst running polemical debate two sides obviously users jadger wikiferdi dont want discuss fact want us agree pov thats discussion npov edits thats quit discussion form article ≈talk≈',\n",
       " 'intend disruptive genuineley upset word constantly tried make look like april fool joke explanation made look like uptight weirdo',\n",
       " 'regarding loyalmoonie lgbt categories looked editor seems pushing antilgbt agenda theyve done similar stuff sailor moon made officiallooking warnings editors quote bizarre quite telling insert categories would ultimately give people may even support lgbt movement reading article assumption every person enjoy sailor moon homosexual andor supports ssm dont personally watchread sailor moon know much im confident enough readd categories reasoning removal flawed regardless sourced part article female homosexualitytalk',\n",
       " 'matt mattsanchezinfo goes live monday among things youll see invitation interviewed time youll nowhere hide lets see whos victim whos coward',\n",
       " 'okay found document demonstrates scimd listing site trouble including text',\n",
       " 'valerie poxleitner valeri poxleitner aka lights',\n",
       " 'shamash sun agree merge sammash shamash since shamash likely correct tracking root word clearly assyrian origin addition common vocabulary morph substitute “sh” “s” thus nowadays spelled shams modern arabic',\n",
       " 'feel like im ideas maybe users come things address concerns – talk ⋅ contribs',\n",
       " 'october utc original nominator trying restore article others saying found merged stand original nominator deletion working keep article admitting mistaken nominating article noteworthy character restore someone wants make legitimate nomination deletion thats fine',\n",
       " 'chart looking dont see anything portraying timing user talkspinningsparkspark',\n",
       " 'agreed although means bloating alternative title yet another word concentrating polish attitude clearly provides starting point article hand obviously article written supranational perspective least czech experience needs included czechoslovakia functioning democracy region closer ties west poland betrayed much obvious tangible way poland west politically accepted countrys territorial mutilation case poland said sure inclusion countries finland baltics yugoslavia even ukraine never independent first place good idea west could arguably done assist societies war think articles focus poland czechoslovakia order dilute whole issue dissidents germany soviet union harbouring grudges towards western politicians appeasement policy oct utc',\n",
       " 'hello setanta ask think proposal first put forward matt lewis july template talkcountry data northern ireland confess expert nireland believe could solve problem nireland flag represent wiki made comment article cheers',\n",
       " 'american psychologist additional resource see listed references citations american psychologist articles january discuss subject',\n",
       " 'regarding verifiability mediation appreciate due recent events user talknewbyguessesfebruary jn pickle dont know go forward become beliefs needs cares take account position accounting differences us see stand highest degree individuals really individual individually way real people different definitely individual like every body else believes despite evidence contrary comment content contributors dream either way whatever dont scare horses wake kiddies comfortably snoozing know makes sense cause say irrefutably talk',\n",
       " 'authority threatning block saying information company work even know anything airliners bello basically said hard comprehend',\n",
       " 'real problem sneering contemptuous attitude reveal first sentence last post originally followed others similar vein deleted yes cut paste quotations also select appropriate ones case one would well consider return time probably weekend',\n",
       " 'appear bit fantasist fair carved nice little career fool mugs buy books believe says like many people contributing page come background whenever name mentioned response always dave noone ever heard books started coming',\n",
       " 'dar ok bear penelopism religion new religion religion penelopism extrememly important penelopists want word us people fond beliefs want way show mean harm spaghetti monster church even real religion penelopism please tell spaghetti monster done penelopism hasnt penelopism wikipedia trouble understanding apologize dar dar dar however much fun shouldnt done whatsit',\n",
       " 'intended go page',\n",
       " 'dxraw come come ever odd dxraw goes away follwing articles extradry appears editing lists aussie aussie aussie oi oi oi free hugs campaign newington college australian army cadets john cena really cheer loving free hugging newington teacher cadet master hots john cena shirt time came dxraw',\n",
       " 'accusation uncalled reverted one edit second edit add reference revert',\n",
       " 'help jew schnider final warning',\n",
       " 'kudos destroying article copyright superstar really deserve nobel prize copyright',\n",
       " 'welcome hello welcome wikipedia appreciate encyclopedic contributions recent contributions seem advertising promotional purposes wikipedia allow advertising information see policy neutral point view guideline spam guideline external links guideline conflict interest still questions new contributors help page write helpme message along question someone along answer shortly may also find following pages useful general introduction wikipedia five pillars wikipedia edit page help pages tutorial write great article manual style hope enjoy editing wikipedia please sign name talk pages using four tildes automatically produce name date feel free write note bottom want get touch welcome',\n",
       " 'spelling tacarimba la tumba del fuego santa maliga sacategas lo onto del sol cruz one stated lyrics vocal score side side sondheim available rental version song however misspells llanfair pg presumably approximate pronunciation lyric todays last ill spreading rather spending would seem therefore source cannot considered canonical rendering place name accord millicent martins recording side side sondheim cast album however published version song contained hansen treasury stephen sondheim songs charles hansen music books lyric printed tacarembo la tumbe del fuego santa malipas zacatecas la junta del sol cruz printed source opposed handwritten vocal score presumably considered definitive linda lavins pronunciation original cast recording mad show song written follows spelling would suggest printed version correct fictional place name however discussion correct spellingpronunciation academic one best',\n",
       " 'dont peddle crap please hate see another article get disputed neutrality due',\n",
       " 'howd homeonttherange typical problem literal term personal union special limited constitutional term refers two states ie countries recognise monarch head state however union parliaments examples union kalmar members kingdoms denmark norway sweden gave rise termunited scandinavia believe sweden left union resulting leftover union denmarknorway dissolved allied napolean tunrned badly',\n",
       " 'think one dayz mod one dayz video game dayz disambiguation page',\n",
       " 'pushing antimrm pov',\n",
       " 'really rebel guy rebelguys time get oral prostitute',\n",
       " 'fine smarty pants wait finally announce youll see right dont know everything',\n",
       " 'ambertaylor forever amber taylor forever♥♥♥♥♥♥♥♥♥',\n",
       " 'kosovo template hi please take look template shouldnt albanian language mentioned first since population albanians changed serb nationalist keep reverting edit hope disturbing one consider quiet neutral',\n",
       " 'course true dub say depaaarted likely fin gone',\n",
       " 'think little disingenuous zet claim division lost fighting troops far destroyed fighting capacity close nil',\n",
       " 'muslim men harassment mm page amazing three muslim men jumped page right added number things minutes three men muslims cleaned woman working human rights pakistan really get skin badly wow sweetie bloody busy get busy stop harassing women threatened',\n",
       " 'stylebackgroundtransparent stylebackgroundcolor stylewidth solid backgroundcolor verticalaligntop hello welcome wikipedia please remember sign name talk pages clicking using four tildes automatically produce username date also please best always fill edit summary field useful links facilitate involvement happy editing —αἰτίας •discussion• stylebackgroundcolor stylewidth backgroundcolor verticalaligntop getting started introduction five pillars wikipedia edit page finding way around table contents department directory editing articles develop article manual style stylewidth backgroundcolor verticalaligntop styleverticalaligntop backgroundcolor getting help frequently asked questions cheatsheet ask question help pages new contributors help page',\n",
       " 'august utc hey looks like rehab program didnt take socafans communitybanned approach worked real well didnt talk',\n",
       " 'pkk fighters past decades entering living syria fight turkish territories match guerilla war specialized turkish regime rebels army far behind abilities training match pkk fighters',\n",
       " 'omd thl depeche mode abc new romantic never dont self identify romantics fans dont consider romantics yet individual insists keeping listing page fans bands keep removing simply wrong stick visage blitz bands article perpetual edit war',\n",
       " 'tried productive look contributions hit head wall spoiled greek children probably pay greek government purposely keep vandalizing albania related pages keep iritating albanian editors explode get banned historian blush find quoted reliable information wikipedia pages quality editors sources time move french pages lot readers still languages go till next timewikipedia sucks',\n",
       " 'ricky gardiner woody man thanks quick actions additions article stub created yonks ago get rid red links bowiepop articles draws people like us defence rock think nick member military music projects well riff lust life came bowies interpretation armed forces radio theme cheers',\n",
       " 'triple crown cleared ok got broom dusted stuff cheers talk · contribs',\n",
       " 'agree master bigode rule x images back side image erased without consensus never discussed back image erased blue went user homepage wolftengu said picture homepage big within guidelines removed placed somewhere else also removed another image would agree someone homepage would outraged however wolftengu seem playing unfair cop notifiying discussion wrong point involvement disallow x x image even image smaller form',\n",
       " 'rollbacker particularly problematic aware editors edit war may lose privilege regardless means used edit war',\n",
       " 'nonamerican schools mosques synagogues etc etc wikipedia americacentric',\n",
       " 'thanks fixing',\n",
       " 'really may ask mention fat fire source cremation millions reconsidered though along items fat cremation wiki fact citable wwwhdot emory u less lipstadt doubtful science applied holocaust say tinfoilers flat earthers deniers would overjoyed careful gets nutty fringe tinfoil label end get permits well bring shovels',\n",
       " 'celebrities talk fave celebs even crushes',\n",
       " 'know thinking nobody really attacked revealed age announced subject constant storm harassment abuse thing goes sandbox people knew age didnt care told age hated amusing idiot soapboxers think teenagers responsible decline soapbox like ever good begin funny adults dumbest people mauricio chuppah redneckgirl pinky scooby gg foreverlosttinkerbell greenrabbit starrocketsinflight breerobinson cocainenightmares tokyodome chadochocinco steve lake adults teenage posters typically smartest ones lets see gdawg headbangingbrunette classicage metropolis even though hes bipolar weirdo chrisscript name ever see adults posting rate ballz smell funny whoz hawter ur mom like rape little girls hey guyz look im attention adult posters immature moronic savage bullies mental capacity retarded whereas teenagers thoughtful intelligent mature often profound theyre subject constant schoolyard bullying idiot adult posters think theyre somehow superior born dropped head earlier soapbox logic never fails amuse',\n",
       " 'tm astute remember civility key verbal licking gave really failed break skin maybe maybe get along',\n",
       " 'sofia added sofia bulgaria city also joined initative included',\n",
       " 'would mind focusing contents rather contributers',\n",
       " 'declinea bit close comfort one try avoid company name altogether get bit edgy accounts appear represent organisations',\n",
       " 'weatherman better writing lot changes youve made recently weatherman page notably awkward apparent reason im particularly concerned changes adjectives surrounding organizations events characterized time rearranged sentences read quite poorly plus seem get really carried away wikilinking readers really need link know bomb',\n",
       " 'nonlead shouldnt title page supporting minor instead nonlead',\n",
       " 'agree leontes though began attempting compromise last night considering one else backing interest building consensus however note political descriptors absence reliable third party sources inappropriate article also note commenters appear confusing electoralvote website electoralvote author wikipedia article website author article',\n",
       " 'dispatch review added comments think wonderful dispatch clear weve needed something like long time',\n",
       " 'vote christ pantocrator though could nice wider crop',\n",
       " 'heres idea go fuck cumshitter',\n",
       " 'assistance please record shows deleted filehmcs fennel entry left deletion log said listed wppui days strongly suspect free image crown copyrightcanada protects images first years ended years ago crown copyright image would free image id like request userification information templates information associated image review possible clarification whatever problem got listed wppui first place could please userify',\n",
       " 'listas manos family',\n",
       " 'despite equivocation still wrong people remove vile vicious hate speech whilst remaining right side policy made clear statement wikipedia policy proved wrong denied unblock request result misinformation know expecting apology wikipedia administrator waste time future stay away okay prefer deal admins know rules',\n",
       " 'speedy deletion phi rho eta tag placed phi rho eta requesting speedily deleted wikipedia done section criteria speedy deletion article appears blatant copyright infringement legal reasons cannot accept copyrighted text images borrowed web sites printed material consequence addition likely deleted may use external websites source information source sentences part crucial say words external website belongs want allow wikipedia use text — means allowing people modify — must include external site statement name author article article name release content terms gnu free documentation license version later might want look wikipedias policies guidelines details ask question think notice placed error may contest deletion adding top article existing speedy deletion db tag coupled adding note articles talk page explaining position aware tagged speedy deletion article meets criterion may deleted without delay please remove speedy deletion tag dont hesitate add information article would would render conformance wikipedias policies guidelines',\n",
       " 'motherfucking safety guaranteed fucking hope im bringing fuckin weapons pay get back motherfuckers oh yeah ive got jokea family husband wife son daughter dog walks agents office tells theyve got great vaudeville routinehe says dont hire kiddy acts say really good agent says fine let see youve got suck im throwing outso family gets readythe daughter hits cd player circus music begins playing father jump kicks son head stoms face ground bloody pulp proceeds jerk cum shattered skull meanwhile mother begins violently finger fucking daughter dog fucks mother ass hole point father takes leftover brain matter sons head shoves mothers pussy begins fucking pussy simultaneously sticking finger daughters throat vomits dog bites mothers hand shes finger fucking daughter leaving hand daughters pussy blood squirts placethe father takes blood ground smears mothers chest bends begins shitting open wound hand used dog bit take dog shove microwave heating explodes take dog remains mix fathers shit sons head wound fathers cum shove daughters mouth father rips sons dick fucks daughter mother locates sons testicles breaks open drinks sperm comes family lines says ta datheres silence agent finally says love call thatand family says call itthe aristocrats',\n",
       " 'requested move canada national football team disambiguation → – theres recently moved american football team used carry moniker canada national football team canada national american football team consider move request successful vindication move b b',\n",
       " 'think clockback suggested reference ainsworth’s involvement img long something along lines ‘brief flirtation’ would better think img reference needs shortsomewhere early career sectionposted article expanded little otherwise article might appear weighty think last point important seemed consensus reached number wikipedia editors much wrangling gnashing teeth bedsides brief dalliance marxism overall consideration political career pales insignificance compared controversially thrust third choice candidate position defence secretary time crisis british army terms number casualties sustained lack resources simply reflected ainsworth article tried reflecting follows appointment formed part chaotic cabinet reshuffle prime minister considered least three candidates appointing ainsworth dismissed speculative opinion even though point view easily significant event ainsworth’s biography perhaps reach consensus better reference found—which suspect difficult—that reincluded want stress meant ad hominem slight ainsworth merely drawing attention fact appointment equivalent throwing someone deep end indeed difficult time since appointment actually reflects worse brown farcical reshuffle',\n",
       " 'greek love im looking way extricate honorably mess im leaving note closed afd made commitment instructed closing statement two editors long sought delete eviscerate article one used series user names unacknowledged current user page available first glance may appear talk page two editors suppress camp complain coordination editors including simply cant longer havent changed position validity article ive accused various talk pages never appropriate notice boards edit warring ownership disruption even pedophilia implication trying carry community decided im done need limit time wikipedia present wish time spent pleasantly productively ive made commitment though grieves keep im asking anything im explaining cant keep word given afd wow messcertainly hard feelings end clear endeavored good faith improve article found knowing walk away essential skill real world sometimes presence despite best intentions harmful rather helpful sometimes dispute isnt worth anymore best luck future endeavors mailchimp im bothered think mailchimp speedy deletion mistake cite one important email marketing programs stating importance something supposed original problem criteria specifies credible claim significance wordpress pages reliable sources however would certainly object restored redirect several momnths today talkback talk hunch call intuition im guessing username direct challenge patrolling admin guys wont block based username contribution speaks volume nonsense louder hunch hes returning editor username cents cheers ♠♣♥♦™№©♪♫® plenty legitimate reasons returning editor username blatant violation policy evidence socking file wpspi recreation article shay carl would like request article shay carl recreated see deleted talkshay carl reasons note talkshay carl delete notibility well',\n",
       " 'wheres defendants figure coming nuremberg vietnam american tragedy telford taylor us chief counsel nuremberg mentions',\n",
       " 'oh hey response thats cool personally feel fortitude call ttn obvious flaws warrant dozen barnstars see youre coming insist keeping block would like formally request reason accounts blocking changed reflect real reason instead noted common vandal maybe reason along lines pain ass like one guy nakons talk page stated subject maybe blocked use cuss word thats technically worse anything ive ever said',\n",
       " 'right express opinion consider hasbara crap right identify hasbara crap',\n",
       " 'ga review review transcluded talkbattle rowton edit link section used add comments review reviewer yes ill take look next days start make comments yes',\n",
       " 'evidence please make sure make familiar notes suspect editing evidence page',\n",
       " 'afd please see wikipediaarticles deletionrevelations guidelines notability outlined generally wpn specifically songs wpnsong thank',\n",
       " 'organizations class start importance low maindykdate needsinfobox yes needsimage yes attention wikiproject',\n",
       " 'actions lala land real world consequences',\n",
       " 'dean wormer works racists jena la continue update posting jena la reflect fact thier famous person note segregationist democrat fact historically accurate description',\n",
       " 'woopsies oh thank soooo much didnt know promise ill never ever ok',\n",
       " 'everyones info particularly admins believe latest sockpuppet igor heads',\n",
       " 'giving warnings someone marks vandalism want least read vandalism dont understand new wikipedia trying figure please mark vandalism im anything wrong need answers somebody please help',\n",
       " 'gift cards downloads december possible use gift cards purchase even though gift card faq claims yes amazoncom gift cards used buy amazon unbox downloads strictly speaking false statement able pay orders gift card time one person already removed line reverted good way go providing verification',\n",
       " 'im thinking deleting war terror operation enduring freedom horn africa operation enduring freedom phillipines redundant id like people vote',\n",
       " 'useful information topic good idea screenshot allowed per game really relay something',\n",
       " 'experiences came talk page understood wikipedia didnt post anything article related personal experiences like day almost two months ago references verifiabletheres nothing article law suit put jail engaging pro se litigation didnt put experiences judge edward nottingham article either although judge went way search references expressing various sides issue instance wrote aba asked input fact asked work article also posted issues involved mediation settlement pro ses citing references lawyers point view references deleted someone cant remember dont know point reference posted soft blog quoting transcript quoting former federal judge know sure valid transcript guy runs blog year law student business selling data services exclusively lawyers even stuff deleted pro se frustration references read wikipedia discussion sources blogs used contexts dont believe original research search internet references article really didnt know unbundled attorney services amount pro se litigation started working article already thinking forms based filing started thinking anyway experiences ecf date back also younger worked systems analyst get info laws liberties years ago wikipedia already article probably would come anyway un covenantcant really hide didnt add b together prove point least consciously like today reviewing appellate procedures seemed circuit pro se friendly tone think judge learned hand fifth circuit reason know one time went every federal circuit searched words pro se trying see history putting pro ses jail pro se found circuits denied pro se appeals without even saying judge learned hand seemed pro se friendly believe posting things pro se litigants getting unfair advantage soap boxing understand wanting win thru competition though law business ive entrepreneur didnt know federal judicial center started working article book appellate procedure found looking references article manual complex litigation found looking references article arguing helps clarify issues one thing started thinking lot past weeks slavery affected history pro se litigation ordered book slave nation library havent got yet look pro se law different states think free state slave state border state also issues related indians western states labor union movement lot think history workmens comp course related unions',\n",
       " 'try passing illegaly border usa mexico youll end prison communists',\n",
       " 'unsourced personal commentary new account added looks like unsourced personal commentary',\n",
       " 'comment indented response mine one removed discussion',\n",
       " 'looked cato edit simply removal reference addition another donor change language without edit summary explain changes unjustified clarification certainly helps thanks also adding reference summers frankly look sources removed added main concern unexplained edits summaries important saw messages concerns back message reminder importantly incorrect think rules add unsourced material one core content policies wpv wprs allows us carry policy happy editing –',\n",
       " 'know everyone watches updates theres reason arent listed ► complaints',\n",
       " 'ive though article simply untrue men consistently referred jews womabn children many passages refer generally jews clearly meaning men woman children one sentence corresponds criticism screening population however resulted jews jewish women jewish children jews jewish women shot cooperation security service particular sentence rewritten ill sentence grammatically confusing whoever wrote may wish check understood correctly',\n",
       " 'hello long time shart',\n",
       " 'bush articles referenced george w bush none following articles mentioned george w bush perhaps bushs brain karl rove made george w bush presidential domestic policy george w bush administration early life george w bush economic policy george w bush administration electoral history george w bush fictionalized portrayals george w bush foreign policy george w bush administration george w bush iraq war george w bush governor texas george w bush cabinet george w bush presidential campaign george w bush presidential campaign george w bush presidential library george w bush pretzel incident george w bush substance abuse controversy george w bush supreme court candidates george w bushs first term president united states george w bushs second term president united states list books films george w bush list george w bush legislation programs list nicknames used george w bush list people pardoned george w bush mahmoud ahmadinejads letter george w bush movement impeach george w bush presidency george w bush professional life george w bush public perception george w bush religious faith george w bush lies george w bush mastering politics deception',\n",
       " 'third term significant simply rare electorate party often behalf former disillusioned party leader time thus kick himher read margaret thatcher',\n",
       " 'baklava gift hopes reconsider indefinete block traditional food middle east made best afghanistan',\n",
       " 'referring catherine told uncertain terms could refer anyone living dead names wp female title referred throughout article ie lady amy lady dudley amy robsart even though lady amy wrong married daughter knight title wrong northumberland attainted children lost styles offspring earl duke become lady dudley elizabeth knighted robert dudley near end amys life lady amy dudley legally longer wife son earl duke thought simpler refer amy throughout rather explain changes occurred name styles told wp rules though wasnt pointed link noblewomen usually called names round far see even surnames something mary boleyn called mary lady carey lady stafford catherine neville called catherine duchess norfolk etc theyre royals males told referred title ie leicester last name ie dudley banging head keyboard going one says king time refers plantagenet keeps changing titles ie henry bolingbroke going earl derby duke hereford duke lancaster king england kate get consistently referred catherine throughout article without title appended ive months would appreciate someone could actually explain main interest british history quite confused',\n",
       " 'says changing elegant profile shot bruce better picture soon upload appreciate ordinary jay bruce fans jays biggest fan thanks attention think jay would agree picture wikipedia little furthering career nice try',\n",
       " 'cunts worth editing articles concerning serious issue sides consist either people employed edit people strong opinions never ever change advocate stance something interesting instead using encyclopedia book knowledge contributing sure know soon centralization net larger larger sites independent information general extinguished wikipedia project started nerds professionals within set fields become altar knowledge depth true insight sacrificed becoming sound magnifier yellow press popular science new tool intended auto translate articles one wikipedia extinguish national wikipedias niche provide multilingual capacity ability crosscheck facts perspectives small independent sites left free university pages left real knowledge privilege know use academic search engines money pay',\n",
       " 'ive said say like thugstep thats bizness think quite range refenreces webpages stays nonnotable welcome tell admin deleted',\n",
       " 'although doesnt extend modern era might want look ancient higherlearning institutions see relates chinese higher learning institutions',\n",
       " 'harass editors basis posted baseless warningthreat user page post things page otherwise complain administrators even jim wales',\n",
       " 'comma correct title first series yes minister without comma believe yes prime minister ever comma unless objections moving page',\n",
       " 'excellent please dont damage book account sure interesting question camera thats fair question jump conclusion impossible ludicrous thats typical moonbats picture useful another reason shows similar relative position lem antenna apollo flight web page argues objects apollo cases antenna degree angle away lem near photo distant photo website consistent despite websites claims contrary moonbats isolate specific items evidence one sees broader picture phony arguments get shown',\n",
       " 'content subsumed maneesh page entry different spelling redirect',\n",
       " 'ditto congrats best',\n",
       " 'part video shows says lots small villages prostitution karaoke joints one single orangutan doesnt say common everywhere though',\n",
       " 'fuck smith please notified die want dance grave',\n",
       " 'seen post replaced pop punk reference rock days',\n",
       " 'please avoid using abusive edit summaries per wikipediacivility wikipediano personal attacks thanks happy editing please make personal attacks people minneapolis minnesota wikipedia policy personal attacks cases users engage personal attacks may blocked editing admins banned arbitration committee comment content contributors people please resolve disputes appropriately thank',\n",
       " 'dect isnt really new technology newer standard tdmtdmafdma digital telephones used lot longer life dect dect successor japans phs similar course gsm damps others extensively used across world decade half suggest special health issues dect would definitely placing undue weight subject dect considerably lower power analog systems replaces transmissions inherently even use td nature system means system isnt transmitting continuously believe ive said nothing wrong properly researched article health effects lowpower radio technology link see also section article article course look nothing like section yanked nothing dect however merits special section dects dangers especially new technology otherwise serious level concern expressed anyone authoritative issue',\n",
       " 'shit face fuck',\n",
       " 'retarded',\n",
       " 'users using sockpuppets discussion note user nightscream soliciting sockpuppets toure neblett join discussion isnt surprising considering nightscreams slimy debating tactics ad hominem smears looks like reality one two actual people opposed teh inclusion last name rest sockpuppets though guess demonstrates nightscream one toures sockpuppets fyi using user name simply make clear sockpuppet',\n",
       " 'thanks stephan interpretation mrniceguy removed content discussing talk page concerned contents reliability thought read editors supposed bring discussion first reach consensus instead deleting sourced material',\n",
       " 'made fixing stem articles',\n",
       " 'alex albrecht removed additions alex albrecht page totally relevant',\n",
       " 'tank bioelectrical impedance analysis etc fail see either two pictures recently added improve article way',\n",
       " 'images missing wikipedia hours hit rollback among things restored patrick stewart removed didnt see made valid edits also linked harold wilson prime minister prime minister united kingdom deletion done gmt time servers register could bypass invalid messages cheers talk',\n",
       " 'amazing thank much',\n",
       " 'groin sad fuck im going restore edit going leave else wil knee groin prick',\n",
       " 'may behavior talkpage honor harrington par know take defeat grace start behaving childishly let warn next childish edit likely result mention wpani user review',\n",
       " 'video game pete sake see false video game article one time ill throw cat window whoever stop isnt funny clever making moron bet person changed test card date',\n",
       " 'palmisano playing iowa state free pass think im pretty sure division far list coaches go im sure thats articleworthy list level competition opposed folded general malone college athletics article wouldnt file afd compromise anyway seeing youre digging uncovering notability folks want full week',\n",
       " 'history kallikids created karen bach march',\n",
       " 'massacre note kent state massacre redirects page similar massacres history wherein government forces murdered civilians protesting government policies termed massacre legitimate reason aside sensitivity extremist viewpoints united states continue calling article kent state shootings changed kent state massacre cheap acknowledgement lead paragraph insufficient would appreciate discussion move initiate move soon enough',\n",
       " 'july please stop continue vandalize wikipedia blocked editing',\n",
       " 'notice objection proposed deletion accordance rules hereby notify ourmy objection proposed deletion subject article office court administrator v floro jr',\n",
       " 'barnes aus',\n",
       " 'may utctimysmidge',\n",
       " 'two things makes difference validity edits editor anon going around reverting persons edits en masse didnt like one yield timeconsuming problems',\n",
       " 'hi nice everyone listenwell ive afew problemsbut two worsthad mamogram ago call doctor emediatly needed views presedgureswas incounculsive possable fir cause like xray havent able gohave wayto get plus high blood pressure thets running last time around thats high hospital xray techs seceritary said didnt get doc get referral soon possible time would late thing late want long left one opelousas laone hawiyeione walker lai would like see fore diehave partner want spend much left love kids partnermore life selfim looking help get doctor dont money thishave income speak zero partner seperated right helping father cancer also lawsute getting hurt bought truck brouther alot fixing also help dad let neffews daughter drive hour ago cause hot license wrecked comepletly dont vihicile help useveryone says god dont give u anything cant handle understand thatbut need help one may could help anything alljust thought id try asknever asked much pride im running time please one help memy email siteplease need help anyone cangod blesss everyone time need hope someone may able help thank lissen memy age also',\n",
       " 'likes itin ass muhamad ali kelly giant penis also fucked columbus',\n",
       " 'diffs edits report talk',\n",
       " 'aug utc',\n",
       " 'shut stay shut dont edit anymore',\n",
       " 'oh get life prick',\n",
       " 'else specifically want know',\n",
       " 'rajputs rajasthanisright p prof hancocks studies mention romani people closely related punjabis rajputs im pretty sure rajasthanis calls protoromani rajputic distinction important partly descended rajputs never really confined one part india would explain linguistic variation within indic words romani example use instead aa end masculine nounsadjectives romani certainly characteristic gujarati sindhi characteristic rajasthani languages anyway im wrong making last change made ill happy revert oh course',\n",
       " 'would care discuss specifically bias incorrectly cited irrelevant page hear say seeing search term ndaa brings readers page continue include present information reguarding budget bill last time repeat abusing power yield ground',\n",
       " 'words encouragement user damemk cases dispute users engaged bulgarian nationalistic propaganda damemk come conclusions bulgarian century nationalistic propaganda english wikipedia userlaveol one prominent editors wikipedia contributing false information articles republic macedonia macedonian nationhistorylanguageculturesports else spending lot time working cause pushing bulgarian nature articles domain republic macedonia far gone pushing propaganda see wikipediawikiprojectromacedonia listed member words concern macedonian articles english wikipedia great damage done userlaveol users bulgarian antimacedonian propaganda hopefully internet access becoming affordable people republic macedonia things go right direction removing bulgarian propaganda macedonian articles cleaning false fabricated information giving facts world views macedonian science sources dont much time hopefully able find coming period open collaborationeffort goals expecting user laveol continue bulgarian nationalistic propaganda polluting domains domain republic macedonia simply able find ways continue work agenda try remove false claims contribute facts macedonia macedonian nationhistorylanugageculturesports damemk hope write something least show usertalkdamemk usertalkejanev user insight user name ejanev user using contribute wikipedia ejanev composed first letter name emil last name janev user damemk separate user probably user name comming dame macedonian first name mk code republic macedonia happen canada born republic macedonia lived moved usa first canada years yes false information bulgarian nationalistic propaganda originating century century used negate macedonian nation attributes users laveol reason editing actions wikipedia usereditor republic macedonia macedonian origin views bulgarian nationalistic propaganda already infiltrated macedonian articles watch contributions specialcontributionslaveol see actions engagement negating macedonian nation attributes',\n",
       " 'bookfindercom found probabilistic reasoning intelligent systems networks plausible inference softcover isbn publisher morgan kaufmann pub bookfinder',\n",
       " 'clarify im referring particular neutral state aerith incorrect — talk',\n",
       " 'thank experimenting wikipedia test worked reverted removed please use sandbox tests may want take look welcome page learn contributing encyclopedia talkcontrb',\n",
       " 'article sebastien larroudé speedily deleted wikipedia done article seemed person group people band club company web content indicate subject notable article subject included wikipedia criteria speedy deletion articles assert notability may deleted time indicate subject really notable free recreate article making sure cite verifiable sources please see guidelines generally accepted notable specific types articles may want check criteria biographies web sites bands companies feel free leave note talk page questions talk',\n",
       " 'gba ive found game boy advance version released theres mention article know current acclaim doesnt rights series information may scarce',\n",
       " 'proposed move asheville civic center talk page hosting discussion → us cellular center asheville north carolina us cellular center → us cellular center cedar rapids iowa – facilities name · talk · contributions ·',\n",
       " 'need follow policy taivo instead following far important policy wpnpov remain neutral international dispute countrys name fyrom used many organizations worldwide wikipedia abandon usage since extensively used describe state skopje especially articles directly related countries use fyrom name refer',\n",
       " 'two big things would citation verify serialized weekly one reliable sites english say shonen jump since one starts serialization used note started serialization mention continuation oneshot stories cant find rs japanese english online confirms horiis reason adding minimedals info anime based mentioned really needed main article could really help anime article itself内jinnai',\n",
       " 'redirect talkcolt lightning revolver',\n",
       " 'nothing like wanted clean clutter lot bot comments welcome message old username could archived suppose didnt think anything particularly worth saving ages',\n",
       " 'article got jumped hi im sorry jump contribution moment put trouble simply sort thing wikipedia links one template notices put one place reasons article nominated deletion wikipedia dictionary articles neologisms need strong evidence term widely used wikipedia things made one day advice contribtuing links welcome paragraph list bad article ideas worth looking regards',\n",
       " 'therefore reverting vandalism exception threeedit rule mentioned edit warring page',\n",
       " 'user attacking user keeps reverting edits without consensus giving reason also performed ethnic mudslinging direction please help',\n",
       " 'thracian pretty simple years away',\n",
       " 'im flattered truly ive couple weeks consider established user please dont talk behind back like little school children',\n",
       " 'chicadee think article name moved chickadee',\n",
       " 'ps btard',\n",
       " 'ohhh im sorry hurt little feelings lets shed couple tears together lol joke bet feel pretty important pathetic little wikipedia volunteer fun living mothers basement drawing comic books lowlife',\n",
       " 'new image problems uploaded several images dubious copyright claims said hindu newspaper licensed gfdl made think hindu publishes images gfdl simply invented license order way upload images please say quickly delete expect provide proof within next days showing newspaper placed images license neither blocked ☼',\n",
       " 'bunchofgrapes request please cease revert warring bunchofgrapes respectfully ask please stop instant reverts edits problem edits knowledge explaining wrong sourced materials edits rather making blind statements designed allow revert reason please cite sources seem able cite anything would back instant reverts accusatory tone telling others reverting made several instant reverts explaination edit added source please cease cite sources edit materials according jimbo wales npov make sure sources verifiable reverts thanks',\n",
       " 'whats problem neo ·· ··',\n",
       " 'wow big man cant take little criticism upset failure become admin looks closest person run admin wikipedia well played dietlimecola hey im blocked itll less times youve far better reasons oh god girl looking wikipedia paper didnt see teacher couldnt tattle took matters hands also couldnt help notice sad quickly noticed updates sit computer waiting update please tell didnt watchlist page didnt everything summed simple saying',\n",
       " 'glen cool glen cool bloke loves nice guy',\n",
       " 'parodies intentionally surely',\n",
       " 'pandur name derives pandur sumerian term longnecked lutes source knowledge instrument since ancient greek mantineia marble century bc exhibited national archaeological museum athens depicting mythical contest apollo marsyas greek pandouris played muse seated rocknational archaeological museum athens ebook latsis foundation lutes present ancient greecepandura first appearance greece also present mesopotamia since akkadian era third millennium bce',\n",
       " 'accept comment spirit offered terminology matters hard find correct word another editor sought distinguish civilised behaviour indians point even one accepts distinction nonindians committed absurdly large atrocities addition could pointed mystic massacre completely onpoint example butchery shocked native population nonetheless tribal mongols tribal american indians civilizations reasonable definition',\n",
       " 'dont agree info saying since hurry edit page dont fix info sourced broken link',\n",
       " 'thought personal attacks welcome long revert thought restoringmentioning grounds indef block could junior miss admin missinformed mei arrived time',\n",
       " 'replacement please edit note whole suprasection disappear able post article talk page includes shell blocked would able place answers disappear tomorrow put shell falsely blocked cannot save replies certain article talk page hence save entire page minus archived sections pov concerns im surprised article isnt called antisemetic traces islamic perspectives know opposed piece zionist propaganda passed fair balanced entire article full baseless jewish propaganda well documented banu qurayza executed treason merited death penalty commited treason quarash tribes muslims fought outright enemies persecuting start qurayza signed peace treaty broke aiding enemy article contains soo much jewish propaganda youd think executed reason doubt aim great example look citation according stillman muhammad chose sad ibn muadh pronounce judgment precedents set banu qaynuqa banu nadir sad took hint condemned adult males death hapless women children slavery furthermore stillman infers abu lubabas gesture muhammad decided fate qurayza even surrender author norman stillman zionist jew biased used quote islamic article baseless conjecture allowed used fact articles criticisms islam jews others write whatever want hand editing islamic articles looked jewish articles noticed dont allow dissent cant put muslim perspective evil acts commited jews without disappearing instantly standard must applied islamic articles islamic articles must written islamic point view jews write responses appropriate criticisms islam articles personally edit jewish articles fill conjectures history find nonjewish admin arbitrate islamic articles good day please read talk page specifically places treason traitor mentioned still believe need mention treason provide reliable sources discuss easy article neutral mention povs require people like participate work academic sources personal conjecture changes devotus issues dear devotus still issues changes bat yeor ramadan appreciate dont try shift balance removing book side agree removal bat yeor academic scholar though books controversial beyond pale currently doesnt serve reference article controversy would noted ramadan issues well remove literature section would remove article serves reference due insistence userbless sins certainly like removal cannot remove literature section retaining article first version needlessly verbose noted new one endorses view paretwatt article says bq killed religious reasons fact since good case whole conflict caused religious differences also want repeat things already said coverage siege demise eg claim attacking rear also please abide one resolved conflict fought hard long words like massacre execution neither appear unless unavoidable common practice thing unacceptable',\n",
       " 'ok steve honest really like present form dont issue present one',\n",
       " 'hello january keep vandalizing articles adding misleading edit summaries please stop doesnt help build encyclopedia wastes peoples time since repeatedly selectively remove messages talk page dont know many warnings already received thus consider third warning report next time vandalize article thank understanding talk',\n",
       " 'think depends circumstances someone gold medal competition gibraltar anthem would appropriate rather god save queen',\n",
       " 'hes seems insistent adding pointless rambling talk page isnt forum make cut keeps reverting removal',\n",
       " 'guess explanation still zero failed explain page weas deleted threatened inquirer block poor form extremely poor form',\n",
       " 'proton reaches fusion distance',\n",
       " 'beauty pageants interest beauty pageants contestants doesnt mean notable please dont go trying delete stuff ignorant topic dealing happen think tons articles meet wikipedias standards individual merit particularly comics etc wise enough know truly understand significance leave alone much prudent avenue would bring issues appropriate wikiproject wikiproject beauty pageants address yoru concerns first instance one example continual use term model describe used one editor incorrect somewhat demeaning',\n",
       " 'mohammed albayatis qualifications regards edits past day think mohammed albayatis qualifications tangentially relevant purpose text placed right prove mohammed albayati qualified review autopsy report think violates npov qualifications included come criticism controversy section quoted whoever accused mohammed albayati qualified review autopsy report cited nobody made accusations original synthesis removed',\n",
       " 'reason split absolutely reason alamo bowl broadcasters split alamo bowl list stub long main article long much tables lists well within limits wpsize single article long permitted reason article split talk',\n",
       " 'please sign comments thanks',\n",
       " 'alyssa flash time writing saritas tna impact debut coming shell wrestling one alyssa flash note might spelling alyssa wrong see nowhere list',\n",
       " 'roma people hungary appalling social economic situation roma account percent hungarys million people means',\n",
       " 'fuck murdering scum',\n",
       " 'addition asking please stop accusing things havent done sock puppeting think taking matter personally abusing power',\n",
       " 'adding rational remove tag',\n",
       " 'wow guess one guys god forbid one love',\n",
       " 'phil plait claimed radio program joe rogan shuttle astronauts ever gone space van allen belts min thats misleading propaganda dunno website removed source',\n",
       " 'lamia joreige hi lea first id like tell contributions invaluable presenting often overlooked subjects kudos see started aforementioned article didnt watchlist yet didnt know mistake must take notice rules wp check wpnotability know better protect materials add metadeletionists cheers',\n",
       " 'didnt receive massage',\n",
       " 'take offense take great offense pompous sanctimonious twit thinks one allowed express appreciation women like gibson girl finefeatured achingly beautiful creatures dont know kind totalitarian feminazi dystopian agenda trying foist people dont encyclopedia based free speech free exchange information bogus political correctness schoolmarmish thoughtpolicing ill take gibson girl anyday',\n",
       " 'padua user tag someone design padua college user tag much like following one maroons state origin july utc',\n",
       " 'ion g nemestalk june',\n",
       " 'gay motherfucker know livei going sand face offthen going beat pulpyou chicken shagger',\n",
       " 'ok dennis brown thanks telling taking bit way serious ill careful time stupid bots',\n",
       " 'way might even know article talking',\n",
       " 'problems sfc record credible sci challenges new section absurdly uscentered cannot possibly stand global record talking need credible scientific papers pictures stations far know sfcstations stuff merely documented problems station sitings maintenance etc even beginning attempt quantifying influence plus minus might record youre interested papers effects switching northwall screens stevenson screens thatched huts africa etc etc',\n",
       " 'could please comment talkthoughtidentification john norseen lockheed martin im beside trying update information believe relevent looks like several users hang anifringe working together remove well sourced valid topic material shows state military research thought identification outside comments would greatly appreciated thanks',\n",
       " 'mediation hello atyndall volunteered take mediation case discussion remain neutral sides argument endeavor solve dispute look discussion found quizzicalbee adding sentence according chesler us embassy repeatedly refused help leave country longer recognized us citizen hurmata reverting back reports us embassy repeatedly refused help leave country hurmata objects quizzicalbees sentence heshe thinks source incorrect guards would allowed chesler embassy first hand accounts chesler qualify reliable source qb objects saying maybe us citizenship could revoked usafgan government time perhaps past guards may denied entry claim presumed true proven false hurmata countered citation threat qb referring one cited qb states evidence disproving claims valid could involved users please place verify statement correct suggest correct thankyou talk',\n",
       " 'well arthur printed paper condition fact ultrapower says correction seems paper incorrect rather correct pointless already identified worst problem third condition requires incontinuity f integer values however problem disappears consider special case ae lets want function f satisfying defined widely possible observe present problems extend f positive real numbers clearly sufficient define f interval length want f continuously differentiable paper requires f continuously differentiable equivalently obviously whacky neednt worry ae next obvious explained reason require f monotone interval functional equation fx ln get f x f hence f f must constant surprisingly function get way patched together smaller pieces relatively unnatural way fx expxexpxx thus learned paper correct solution problem probably minimum derivative',\n",
       " 'rangers fc name newco rangers wikipedia page called rangers fc everywhere sfl sfa spl bbc etc websites league tables tv must registered use rangers fc differentiate rangers fc still spl membership',\n",
       " 'following horribly chaos april ive resubmitted things discussion talk contribs physics books',\n",
       " 'flexpay tax law comment id interested seeing expansion artcile regarding tax surrounding flexpay accounts',\n",
       " 'problem talk',\n",
       " 'win get evil people government private forces well perhaps wont nuclear blasts across us europe btw mongo really hs wikipedia',\n",
       " 'ive seen',\n",
       " 'najib effendi alyasin suggest use paragraph indentation article najib effendi alyasin recently created reach normal looking page happy editting',\n",
       " 'lol know meant whichever president came hafez new president assad considerable foreground support supports would freaked coup would claimed instability would arise assads supporters trying use defense trying say although bashar assad good economic international policies syria fear nonbaathist potentially elected syrias economic international policies wont change iran would still major factor syrian life considering buisness deals stakes cultural exchanges would change social freedoms better also every country revolution still alive today muslim brotherhood syria weak even weaker islamist prescence libya rebels libya support see yet could hardly take control without nato chance syrian muslim brotherhood none anything nonviolent protests weaken resolve muslim brotherhood making less influence everyday life syrians know pro syria armenia pro assad unlike armenia people like sargsyan kopcharyan democratically elected assad one ran allowed',\n",
       " 'cfr perfectly accurate source council foreign relations cfrorg recognized legitimate thinktank studies international terrorisim united staes govt claim credible idiotic legitimate online newspaper source studied northern ireland compliled list udauvf killed irainla vice versa facts good included article',\n",
       " 'lead whats summary summaries supposed substantially shorter text summarize case salvatore giunta simply copies whole sentances body text editor assess article currently stands hypothetical future stance article grows lead adjusted accordingly case lead section favored indeed summarize important part moh case read wplead lead biography necessarily supposed summarize life story subject assert thier claim notability two sentances favored without overly repetitive wordsdeeds',\n",
       " 'unblockill make renewed effort give personal attacks course questions unwarranted blockage might well imagine ip editors tend get raw ends deal admins tend lean towards side someone whos editing account someone whos editing without one especially area label personal attacks harassment given ipeditor much named editor thing exampleand yep maybe guessed question supposedly okay according someone name like say escape orbit dish personal attack give one back im lowly ipeditor specifically supposedly okay give personal attack putting false stuff keyboard making ludicrous claim reason wanting old style ebay logo go next current one ebay lead wanted even though total lie supposedly okay call kind slander stupid heres another one supposedly okay smiley girl falsely accuse edits vandalism differed guys preferred say reversions vandalism get trouble personal attack im iponly editor ready one fine named editors give one us ipeditors warning template iper thing named editor like partially smiley girl get dinged oh cant cause thats personal attack oh thats bad thats harassment oh yeah heres one remember rule editwarring general meaning doesnt even breaking says right editwarring defense well doesnt apply meeting socalled consensus since things arent cases concrete correctness based whether match socalled consensus wanted thing say well named friend smiley editwarring put thing back exclusive partial consensus wants say since editing already established vandalism even though disagrees ignore abovementioned editwarring rule give herhim pass anyway iponly editor whos exclusive consensus thing editwarring even though thing smileys remember beingrightmatchingconsensusisnodefense rule',\n",
       " 'serbia recognise abkhazia south ossetia wouldnt surprised georgia recognises kosovo retaliation',\n",
       " 'subtle questions possibly could',\n",
       " 'trying measure number cafes one places frustrated wikipedias ban original research article absurdly low least six cafes ave alleys dont know number comes consider cafe seems well within reasonable definition scene includes solstice cafe zoe original allegro alley parallel ave arguably second location college inn also counts ugly mug half block cafe corner used roma cant recall new name sureshot continental caffe apassionato wow bubble tea shinka tea company yunnie bubble tea pochi tea gingko tea house tullys starbucks wannabee one block still life ave grand illusion technically entrance around corner clearly effectively ave doesnt even count hangouts mainly bars restaurants takeout food joints count things like u bookstore bulldog news busy espresso operations count ice cream stands im sure im missing something offhand talk',\n",
       " 'actually undue weight also results zero weight whole issue insinuation extrapolation given events article doesnt outright say edwards father father listed quite clear intent editors familiar consider fnc fanboy appolgist regarding conservatives republicans objection clearly partisan point view said violation several wp policies',\n",
       " 'found chronological list pc engine games thought release dates page japan since seperate list games change made ok though since see ign listed way',\n",
       " 'agree fundamentally whether take pill patch ring key hormonal main article point oral contraceptive either redirect hormononal contraception unles sufficient material justify existence',\n",
       " 'desterbing project school explain wasnt bill gates years ago',\n",
       " 'source local guide book source',\n",
       " 'chill intys mate',\n",
       " 'tale tub main page hey geogre check know tale tub featured main page sunday talk nov utc',\n",
       " 'added cclass would like add bclass questions raised talk page',\n",
       " 'problem thanks letting know talk',\n",
       " 'batman batman spiderman win',\n",
       " 'geometry love good day search sources article geometry love probably article contain interesting fact dyk',\n",
       " 'exactly removed section noticed posting',\n",
       " 'please unblock delete page request unblock talk page immediately permanently delete contents free permanently block contributing wikipedia intention case would like reason block prove violated rules need preserve talk page another deliberate intentionally provocative violation rules oldschool personal insult loathsome sanctimonious hypocritical ignorant twit state uncontrolled combustion would take trouble extinguish flames urinating hope satisfactory',\n",
       " 'true first edit however second one honest mistake',\n",
       " 'thats problem facing article well id love see get featured article status keep running fact isnt really whole lot good verifiable info easily available easy come picture usable though suspect one two known images would fall fair use couple websites basically regurgitate sections mcgregors book certain irony fact guy labored anonymous solitude life project loved dearly died destitute making several people rather wealthy',\n",
       " 'funney man',\n",
       " 'furthermore threats made block individuals adding editing well researched information would directly negate sole intention wikipedia',\n",
       " 'wikipedia full fools takes money makes people work free wikipedia might well ban fool whats taking long wiki stupid place jimbos cult',\n",
       " 'seem reliable enough topic anyways like many major news sources going covering things sites cover',\n",
       " 'response feedback yoa see wikipediachanging username',\n",
       " 'opinion proof antinewsom whether support gay porn day violated state law issuing gay marriage licenses contradiction state law facts slander fiction',\n",
       " 'admission begs question better punish adolescent boys going engage bullying behaviour extend welcome talk',\n",
       " 'frenchspeakers paris anybody explain frenchspeakers concentrate heavily cultural life paris mean sep utc',\n",
       " 'changing somali people wiki seriously page biased one clan added diverse representation somali people stupid criminal',\n",
       " 'davkal agree would suggest dont discuss gloat know likely come back start harassing agagin apparently hours left someone bit head talk page comment left article',\n",
       " 'thanks thanks tip buddy walkietalkie ky highway page im currently cleaning page please edit thanks lets go mets stats first barnstar styleborder solid gray backgroundcolor valignmiddle stylefontsize xlarge padding verticalalign middle height tireless contributor barnstar styleverticalalign middle bordertop solid gray hereby award bigrtex tireless contributor barnstar due outstanding amount high quality edits hikaru',\n",
       " 'transistor transistor page principle operation section athe physicists know dont want share bthey dont know works thinking came fairly decent concept works put wiki think guys got jealous discussing pretty much nothing ps language pathetic naughty naughty boyill eat',\n",
       " 'like see print since listed days without url',\n",
       " 'proposed deletion process following concern wikipedia used place guides walk contributions appreciated article may satisfy wikipedias criteria inclusion deletion notice explain see also wikipedia wikipedias deletion policy may prevent proposed deletion removing notice please explain disagree proposed deletion edit summary talk page please consider improving article address issues raised even though removing deletion notice prevent deletion proposed deletion process article may still deleted matches speedy deletion criteria sent articles deletion may deleted consensus delete reached',\n",
       " 'hmmm way ill see remember code gabsadds',\n",
       " 'article already exists see liger pro',\n",
       " 'feather citation quill looked past therefore opinion',\n",
       " 'bakan abbie bakan even mentioned article based worthless rag cited source article shes nothing shill lenin rest commie gang rag shows egregious procommunist bias doesnt even bother check facts much less look causes kronstadt rebellion even cite reliable historical sources subject also discredits absurd accusations white conspiracy overthrow soviet government even rebellion motivated antisemitic racism among sailors furthermore claims made rag based case begging question since lenins communist regime good major premise kronstadt rebellion harmed said regime minor premise suppressing rebellion justified last least mere fact aforementioned rag first published selfadmitted socialist party definition means source meet either wpnpov wprs sources continue used wikipedia articles whole project soon turn commiepedia',\n",
       " 'messages talk pages afd placing messages users talk pages hope gaining support unacceptable practice agin hinders afd process',\n",
       " 'trivia id advise look word good dictionary jay mr townsleys marriage important business dynasty obviously noteworthy noted prominently article linked cheers',\n",
       " 'might remind english language wikipedia greater precedence perhaps think going edit ja wikipedia taking aggressive attitude especially since problem example names easily fixed youre clearly incapable appreciating improvements made english perhaps youre best person judge',\n",
       " 'speedy deletion david fork tag placed david fork requesting speedily deleted wikipedia done section criteria speedy deletion short article providing little context reader please see wikipediastub minimum information standards short articles also please note articles must notable subjects provide references reliable sources verify content think notice placed error may contest deletion adding top page existing speedy deletion db tag coupled adding note talk page explaining position aware tagged speedy deletion article meets criterion may deleted without delay please remove speedy deletion tag dont hesitate add information article would would render conformance wikipedias policies guidelines u want',\n",
       " 'suggestion editing article completely workable working per wikipedia guidelines jayjg slimvirgin started deleting large relevant chunks article reverting punitive gestures agree concentrate making article better instead punishing reason article locked agree start extremely innocuous definition preamble statement agree however definition doesnt anyone good unless conveys sort information one word could agree associated terrorism would better definition intimidate instance',\n",
       " 'speaking without knowing im talking ok bout original comment made everlasts entry constantly vandalized eminem fans written month ago dumb ass got involved site feud started dilated peoples track thats believed verse everlast contributed still jabs taken back forth deserve synopsis idiotic little comment album sales excessive unnecessary belongs fact everyone knows artists agrees ever got everlast would knock living shit outta eminem came eminem fan site',\n",
       " 'talk archives',\n",
       " 'speedy deletion spunga tag placed spunga requesting speedily deleted wikipedia done section criteria speedy deletion article appears repost material previously deleted following deletion debate articles deletion specified criteria article substantially identical content article deleted debate changes content address reasons material previously deleted may deleted time think notice placed error may contest deletion adding top page existing speedy deletion db tag coupled adding note articles talk page explaining position aware tagged speedy deletion article meets criterion may deleted without delay please remove speedy deletion tag dont hesitate add information article would would render conformance wikipedias policies guidelines talk',\n",
       " 'plus natural born citizen im going assume cares anyway',\n",
       " 'unblocked last time ok dont fuck mean best possible way good luck good night',\n",
       " 'understand position think point perfectly valid however dont deem iaşichişinău creation wikipedia even lack historical sources effect english language ill think tomorrow thank explaining position accurate detail best regards nd',\n",
       " 'studid cock sucker u stop callin ok frank garrett eatin worms crawl outa moms pussy fucking retardo hit retardo',\n",
       " 'thanks user talkbiggity constructive edits indef block perhaps mahalo',\n",
       " 'anyone interested accurate deliberately misleading information tenstring guitar ie garbage doubt soon presented see wwwmyspacecomtenstringguitar tthough temporary site hiddenremoved google search listings shady dealings truth prevail',\n",
       " 'said determined page regress delete anything inappropriate jeopardizes good progess made completely inappropriate post middle sensitive discussion threatens problem sole arbiter talk page post innocuous violate conditions arbitration decision affect flow discussion page fact appropriate response would ignore removing encourage reaction accuse wikilawyering absurd guidelines help us however violate guideline also several policies kind heavy handed action encourages people persist problem edits longstanding convention remove users posts three years never seen done wasnt vandalism unless give much better reason going reinstate deleted text',\n",
       " 'glourious peoples republic china carried survey great wall surprise chinese inventions wall exist day one day great wall stretch way around world anyway lets add details dear governments survey',\n",
       " 'fisherqueen would kindly stop following every move deleting things user page havent got anything better piss people wikipedia',\n",
       " 'jim burton child molesting faggot see still us yet another day making total buffoon usual dont know sadder extreme hypocritical arrogance show lecturing world ethical principles claimed rights abuse children ethical principles save life exactly roman poet said isnt harlot doth always rebuke chaste ever drop dead might breathe little easier kids sake truly disgust every word write',\n",
       " 'read beback already changed structure separate someones view separate section suggest restructuring welcome details per section later',\n",
       " 'nevermind assimilated puppies sorry bother cheesewine',\n",
       " 'fixed link took seconds leave report administrators',\n",
       " 'told deliberate personal attacks belief messages interpreted wrongly although asumed good faith posting mentioned',\n",
       " 'please remove content pages without explanation edit vole continue blocked editing royal court',\n",
       " 'deleted american criminal category incredible facts article might lead misguided soul think american criminal category theres lively discussion categorys talk page category even expansive reading category doesnt countenance',\n",
       " 'millinos hunjan looking hunjan template hunjan fight back concept art bull shit tharkarn waste man',\n",
       " 'add kansas bearwhen said made elementry mistake calling treaty fact congrass left usual post regarded three deligations pressent treaty arass papal meditiationthe treaty arass private treaty deligations burgundy france made military alliance debatting burgundian recognition stop changing subjectyou clearly giving fallactious statements feel posts utterly questionableif happend remeber month ago agreed congrass treaty arass differenti corrected statement regarded three deligations bieng pressent treaty arassps stop childish personal attacksi aqsked give sources regarding burgundy didnt recognize henry king france give refs regarding treaty arass mixing postsif cant handle fact burgundy recognised henry king france already reverted dualmonarchy articleyou ashamed fallactious remarks nd utterly questionable unsourced facts',\n",
       " 'er using two usernames vote poll idea talking used usernames never voted poll vandal vandalised anything may added content someone else agree vandalism correct reponse discussion debate achieve conscensus sockpuppet puppetmaster fully open person wikipedias defintion sockpuppet puppermaster may wnat use different defintion opinion mudslinging hardly appropriate administrator',\n",
       " 'raffaeles request lawyer interrogated nov refused request allowed call father page amanda denied food water bathroom breaks naps night interrogation nov page wikid actually looking murder italy see ton additional information amanda raffaeles interrogations could included work listing detail tomorrow',\n",
       " 'yes like suggestion also looks pretty good leading next sentence bering strait crossing conforms rest article since later get details prehistoric migrators ill edit yees suggestion',\n",
       " 'seriously alex article edge deleted one deletion discussion arguing kept want hope keeping article online instead spending time editing talk page click link go deletion discussion make arguments',\n",
       " 'fu ck ing trollreasons',\n",
       " 'day going remember laugh ha ha ha ha ha never forget incredible power powerful possibly imagine let close conversation bidding fond farewell ♥',\n",
       " 'youve probably noticed table factions approach could keep eye gamecentral information ingame factions update table would great im basing similar table aclass age empires iii shows sort information go without falling gameguide trap',\n",
       " 'srcl u bud bin away like long time like time outa mind long gooood shit mo latah dat soon az ah gitz back heah sum de brotherz n sistahs sez hance dead alive send zion ranger check condition ah sez whoa led gib holler dis hollerin bro de zion rangerz dem dat de walkin tru wallz de wall walkin dude gonna r bro harm jes checkin eeben gentle remindah kum fuhst u readin id leedle postin dis n dat go good doan fohget cut sum zzzz aftah tad postin sleep good n doan fergit ta dream sumptin might kum jes ta bdh wrapt roun wid delta wave n kupla otha carrierz dizcuss latah chow bro',\n",
       " 'call neither maybe missed lifetime chance see us talk',\n",
       " 'henry david thoreau page considered vandalism would like experiment use sandbox thank',\n",
       " 'rather crude ancestor vaccine source biography louis xvi louis xvi le roi bienfaisant jean de viguerie various often contradictory influences french government prior revolution section devoted innoculation royal family makes note intendant franche comte financed physicians province later used washington continental army truth actually died december even says book facts george washington washington owned acres land washington lived new york phildelphia preidency —the preceding unsigned comment added ga zhwikipedia please add link gazh interwiki section thanks',\n",
       " 'objectionable textbook material ads refer controversy wheaton schools early surrounding series textbooks called impressions also contained writings parents believed featured themes occult witchcraft violence disrespect parental authority discussion one offending pieces yarn called wart snake fig tree kind pardody twelve days christmas creepycrawlies spiders snakes stuff wart snake fig tree wonder roskams stance harry potter holloween',\n",
       " 'didnt mean point biographical article though would good mean answer right discussion page town born schools go also regarding top disagree think article could quite bit expansion could articles individuals mentioned greatest living magicians admit id never heard names judging say max maven better david copperfield awards industry press personal opinion technique',\n",
       " 'okay truly needed sort criticismpraise quotes etc thank talk',\n",
       " 'haha youre fine mean youre allowed im selfish guess really appreciate kindness though really respect asked signatures borrowed one let know gave credit feel badly since asked youd feel really badly haha help figure nice one pick fun colors great day happy wikying τ',\n",
       " 'leave alone told already leave alonewhy cant fuck fucking thing find hounding amusing id u mothafuckin asshole ban',\n",
       " 'bloc voting countries large populations nonnationals may televote influenced considerably cited reason apparent bloc voting balkan countries former fullblown crazy nonnationals mean countries similar cultures speak languages stars croatia popular serbia vice versa people nationals countries largest proportion countries refugees countries doesnt really explain croatia would always give highest pts serbia macedonia serbia conflict speak example im bosnian serb voting croatian serbian song unusual im bosnian nonnational passport bih family never lived serbia history really mutual intelligibility scandinavian bloc votes time language sensibility',\n",
       " 'peta selfpublished source please explain peta website selfpublished',\n",
       " 'please vandalize pages edit morrissey continue blocked editing impala',\n",
       " 'august utc wprs affirm veracity dis doubtful claim either wprs either way therefore verifiable fact picard original signers consented agreed dis published interpretation political position visavis pbs subsequent political purpose regarding shouldnt taught school verifiable record original signers called skeptical examination evidence scientific theories dis unverifiable claim fraudulently spins consensual agreement support interpretation political agenda fact rules wikipedia rest dis propaganda utter hogwash fraudulently perpetrated di without verifiably demonstrated consent original individuals view wpblp harm clause unverified claim di must promoted fact content effect must immediately expunged per wpblp',\n",
       " 'email thanks email message received guyovski received similar though openly threatening email guyovski well',\n",
       " 'fabrication intent defame point belongs dan savage article',\n",
       " 'perhaps overlooked discussion steve moore’s credentials another aspect newsweek article saying knox’s supporters hurt expressing opinions nadeau effectively stated decisions italian court influenced anger antiamerican sentiment rather evidence alone don’t know nadeau’s experience italy qualifies make assessment taking rs make statement would great insult italian jurisprudence anything knox’s supporters said wholly concur pablo’s opinion piece place article',\n",
       " 'attractions water place animal place',\n",
       " 'fear jossi may correct watts btw died said rawat probably meant praise ie emphasis would sacred judging knowledge watts oeuvre rather antiintellectual',\n",
       " 'ooooh well fix looks mess right dont think certified switzerland yet new zealand australia',\n",
       " 'omg love dch doesnt love pac sun',\n",
       " 'ive removed contributes nothing article',\n",
       " 'hi writingrights welcome wikipedia hope like place — sure — want stay getting indepth may want read five pillars wikipedia simplified ruleset need help title new articles check naming conventions help formatting pages visit manual style need help look wikipediahelp faq plus cant find answer check village pump wikipedia related questions reference desk general questions theres still help tutorial policy library plus dont forget visit community portal questions feel free post user talk page place helpme talk page someone help shortly tab additional tips tabtab heres extra tips help get around pedia want play around new wiki skills sandbox youtab sign name using three tildes use four add datestamp five get datestamp may want add new user logtab ever think page image deleted please list votes deletion page also votes undeletion page want retrieve something think deleted youre still entirely confused would like get better grasp wikipedia skills irc client dont mind getting one check bootcamp sounds like fun help editing skills youre bored want find something try random page button sidebar check open task message community portal happy wikiing — talk contribs click respond message',\n",
       " 'common knowledge karaims karaite jews boast descent khazars realize believe онокъ onoq whence came mixing carian mercenaries caphtor kolhkis khazar ancestors fact remnant lost tentribes israel formed priesthood precisely reason karaite jewish scholars like jacob ben reuben byzanteum yefet ben ali jeshua ben judah call us bastards writings following editor',\n",
       " 'april utc rewrite expand article id much rather full article bad article full template williams edits im going vote content matter time never looked article sent link equipped choose one version another vote purely layoutaesthetics including template maybe later ive spent time unfamiliar article make statement content',\n",
       " 'trying inject humour evidenced winky face ridiculous overblown unnecessarily dramatic situation took time familiarize situation would see person insulted attacking cited factual contributions actively censoring explanation retaliated insulting thought conduct insultworthy time would sane individual familiar wikipedias noinsult rule however since realized wrong site allow harsh words use even used ordeal wikipedia place edit constructive brought greater knowledge subjects topic fact insulted another user edit summary regrettable know seriously think edit linked constitutes better insult',\n",
       " 'title redirect altona hamburg wd change moment many links bother',\n",
       " ...]"
      ]
     },
     "execution_count": 7,
     "metadata": {},
     "output_type": "execute_result"
    }
   ],
   "source": [
    "pptrain_comments"
   ]
  },
  {
   "cell_type": "markdown",
   "metadata": {
    "id": "fBY6Onle40Kt"
   },
   "source": [
    "##FEATURE EXTRACTION"
   ]
  },
  {
   "cell_type": "code",
   "execution_count": 8,
   "metadata": {
    "executionInfo": {
     "elapsed": 277,
     "status": "ok",
     "timestamp": 1699018416955,
     "user": {
      "displayName": "sujina shahi",
      "userId": "07203097800516006223"
     },
     "user_tz": 0
    },
    "id": "KKxHLDlwl6F1"
   },
   "outputs": [],
   "source": [
    "from sklearn.feature_extraction.text import TfidfVectorizer"
   ]
  },
  {
   "cell_type": "code",
   "execution_count": 9,
   "metadata": {
    "executionInfo": {
     "elapsed": 4,
     "status": "ok",
     "timestamp": 1699018417442,
     "user": {
      "displayName": "sujina shahi",
      "userId": "07203097800516006223"
     },
     "user_tz": 0
    },
    "id": "lE9UfGT25JtJ"
   },
   "outputs": [],
   "source": [
    "vectorizer= TfidfVectorizer(max_features=1000, stop_words='english')"
   ]
  },
  {
   "cell_type": "code",
   "execution_count": 10,
   "metadata": {
    "executionInfo": {
     "elapsed": 8700,
     "status": "ok",
     "timestamp": 1699018426398,
     "user": {
      "displayName": "sujina shahi",
      "userId": "07203097800516006223"
     },
     "user_tz": 0
    },
    "id": "0q0dVExU5XlI"
   },
   "outputs": [],
   "source": [
    "x_trainvectorized= vectorizer.fit_transform(pptrain_comments)\n"
   ]
  },
  {
   "cell_type": "code",
   "execution_count": 11,
   "metadata": {
    "executionInfo": {
     "elapsed": 266,
     "status": "ok",
     "timestamp": 1699019828895,
     "user": {
      "displayName": "sujina shahi",
      "userId": "07203097800516006223"
     },
     "user_tz": 0
    },
    "id": "-q4_hY3Gk7TD"
   },
   "outputs": [],
   "source": [
    "x=x_trainvectorized"
   ]
  },
  {
   "cell_type": "code",
   "execution_count": 12,
   "metadata": {
    "executionInfo": {
     "elapsed": 233,
     "status": "ok",
     "timestamp": 1699019830048,
     "user": {
      "displayName": "sujina shahi",
      "userId": "07203097800516006223"
     },
     "user_tz": 0
    },
    "id": "NcTL0nqf1tsA"
   },
   "outputs": [],
   "source": [
    "y= train[['toxic', 'severe_toxic', 'obscene', 'threat','insult', 'identity_hate']]"
   ]
  },
  {
   "cell_type": "code",
   "execution_count": null,
   "metadata": {
    "executionInfo": {
     "elapsed": 7,
     "status": "ok",
     "timestamp": 1699019831019,
     "user": {
      "displayName": "sujina shahi",
      "userId": "07203097800516006223"
     },
     "user_tz": 0
    },
    "id": "bKZJkvfoW2Nu"
   },
   "outputs": [],
   "source": []
  },
  {
   "cell_type": "markdown",
   "metadata": {
    "id": "oGmXqJKg6FfN"
   },
   "source": [
    "##TRAIN-TEST SPLIT FOR DATA PREPARATION"
   ]
  },
  {
   "cell_type": "code",
   "execution_count": 13,
   "metadata": {
    "executionInfo": {
     "elapsed": 3,
     "status": "ok",
     "timestamp": 1699019831948,
     "user": {
      "displayName": "sujina shahi",
      "userId": "07203097800516006223"
     },
     "user_tz": 0
    },
    "id": "NVUroHVrmPIC"
   },
   "outputs": [],
   "source": [
    "from sklearn.model_selection import train_test_split"
   ]
  },
  {
   "cell_type": "code",
   "execution_count": 14,
   "metadata": {
    "colab": {
     "base_uri": "https://localhost:8080/"
    },
    "executionInfo": {
     "elapsed": 342,
     "status": "ok",
     "timestamp": 1699019832913,
     "user": {
      "displayName": "sujina shahi",
      "userId": "07203097800516006223"
     },
     "user_tz": 0
    },
    "id": "-OnAV-47kma5",
    "outputId": "fa6917f1-4371-497b-e876-402775c80384"
   },
   "outputs": [
    {
     "name": "stdout",
     "output_type": "stream",
     "text": [
      "x train shape: (127656, 1000), y train shape: (127656, 6)\n",
      "x validation shape: (31915, 1000), y validation shape: (31915, 6)\n"
     ]
    }
   ],
   "source": [
    "\n",
    "#SPLITTING THE TRTAINING DATASET INTO TRAINING AND VALIDATION SET\n",
    "x_train,x_test, y_train, y_test = train_test_split(x, y, test_size=0.2, random_state=42)\n",
    "\n",
    "print(f'x train shape: {x_train.shape}, y train shape: {y_train.shape}')\n",
    "print(f'x validation shape: {x_test.shape}, y validation shape: {y_test.shape}')\n"
   ]
  },
  {
   "cell_type": "code",
   "execution_count": null,
   "metadata": {
    "executionInfo": {
     "elapsed": 289,
     "status": "ok",
     "timestamp": 1699019835926,
     "user": {
      "displayName": "sujina shahi",
      "userId": "07203097800516006223"
     },
     "user_tz": 0
    },
    "id": "uP_AR62YlVdJ"
   },
   "outputs": [],
   "source": [
    "\n"
   ]
  },
  {
   "cell_type": "markdown",
   "metadata": {
    "id": "AWf3vVVU6tyW"
   },
   "source": [
    "##MODEL TRAINING"
   ]
  },
  {
   "cell_type": "markdown",
   "metadata": {
    "id": "rKVQ5fThjkSR"
   },
   "source": [
    "# NAIVE BAYES CLASSIFIER"
   ]
  },
  {
   "cell_type": "code",
   "execution_count": 15,
   "metadata": {
    "executionInfo": {
     "elapsed": 247,
     "status": "ok",
     "timestamp": 1699019838622,
     "user": {
      "displayName": "sujina shahi",
      "userId": "07203097800516006223"
     },
     "user_tz": 0
    },
    "id": "YmwllVXk3R4b"
   },
   "outputs": [],
   "source": [
    "\n",
    "from sklearn.naive_bayes import MultinomialNB\n",
    "from sklearn.multioutput import MultiOutputClassifier"
   ]
  },
  {
   "cell_type": "code",
   "execution_count": 16,
   "metadata": {
    "executionInfo": {
     "elapsed": 4,
     "status": "ok",
     "timestamp": 1699019839515,
     "user": {
      "displayName": "sujina shahi",
      "userId": "07203097800516006223"
     },
     "user_tz": 0
    },
    "id": "owkYPTB_3kAw"
   },
   "outputs": [],
   "source": [
    "classifier = MultinomialNB()\n",
    "multi_clf = MultiOutputClassifier(classifier)"
   ]
  },
  {
   "cell_type": "code",
   "execution_count": 17,
   "metadata": {
    "colab": {
     "base_uri": "https://localhost:8080/",
     "height": 118
    },
    "executionInfo": {
     "elapsed": 821,
     "status": "ok",
     "timestamp": 1699019841293,
     "user": {
      "displayName": "sujina shahi",
      "userId": "07203097800516006223"
     },
     "user_tz": 0
    },
    "id": "e8p0NbYJ36zK",
    "outputId": "6b4fac0d-b59a-4c25-ed86-12294d52e452"
   },
   "outputs": [
    {
     "data": {
      "text/html": [
       "<style>#sk-container-id-1 {color: black;}#sk-container-id-1 pre{padding: 0;}#sk-container-id-1 div.sk-toggleable {background-color: white;}#sk-container-id-1 label.sk-toggleable__label {cursor: pointer;display: block;width: 100%;margin-bottom: 0;padding: 0.3em;box-sizing: border-box;text-align: center;}#sk-container-id-1 label.sk-toggleable__label-arrow:before {content: \"▸\";float: left;margin-right: 0.25em;color: #696969;}#sk-container-id-1 label.sk-toggleable__label-arrow:hover:before {color: black;}#sk-container-id-1 div.sk-estimator:hover label.sk-toggleable__label-arrow:before {color: black;}#sk-container-id-1 div.sk-toggleable__content {max-height: 0;max-width: 0;overflow: hidden;text-align: left;background-color: #f0f8ff;}#sk-container-id-1 div.sk-toggleable__content pre {margin: 0.2em;color: black;border-radius: 0.25em;background-color: #f0f8ff;}#sk-container-id-1 input.sk-toggleable__control:checked~div.sk-toggleable__content {max-height: 200px;max-width: 100%;overflow: auto;}#sk-container-id-1 input.sk-toggleable__control:checked~label.sk-toggleable__label-arrow:before {content: \"▾\";}#sk-container-id-1 div.sk-estimator input.sk-toggleable__control:checked~label.sk-toggleable__label {background-color: #d4ebff;}#sk-container-id-1 div.sk-label input.sk-toggleable__control:checked~label.sk-toggleable__label {background-color: #d4ebff;}#sk-container-id-1 input.sk-hidden--visually {border: 0;clip: rect(1px 1px 1px 1px);clip: rect(1px, 1px, 1px, 1px);height: 1px;margin: -1px;overflow: hidden;padding: 0;position: absolute;width: 1px;}#sk-container-id-1 div.sk-estimator {font-family: monospace;background-color: #f0f8ff;border: 1px dotted black;border-radius: 0.25em;box-sizing: border-box;margin-bottom: 0.5em;}#sk-container-id-1 div.sk-estimator:hover {background-color: #d4ebff;}#sk-container-id-1 div.sk-parallel-item::after {content: \"\";width: 100%;border-bottom: 1px solid gray;flex-grow: 1;}#sk-container-id-1 div.sk-label:hover label.sk-toggleable__label {background-color: #d4ebff;}#sk-container-id-1 div.sk-serial::before {content: \"\";position: absolute;border-left: 1px solid gray;box-sizing: border-box;top: 0;bottom: 0;left: 50%;z-index: 0;}#sk-container-id-1 div.sk-serial {display: flex;flex-direction: column;align-items: center;background-color: white;padding-right: 0.2em;padding-left: 0.2em;position: relative;}#sk-container-id-1 div.sk-item {position: relative;z-index: 1;}#sk-container-id-1 div.sk-parallel {display: flex;align-items: stretch;justify-content: center;background-color: white;position: relative;}#sk-container-id-1 div.sk-item::before, #sk-container-id-1 div.sk-parallel-item::before {content: \"\";position: absolute;border-left: 1px solid gray;box-sizing: border-box;top: 0;bottom: 0;left: 50%;z-index: -1;}#sk-container-id-1 div.sk-parallel-item {display: flex;flex-direction: column;z-index: 1;position: relative;background-color: white;}#sk-container-id-1 div.sk-parallel-item:first-child::after {align-self: flex-end;width: 50%;}#sk-container-id-1 div.sk-parallel-item:last-child::after {align-self: flex-start;width: 50%;}#sk-container-id-1 div.sk-parallel-item:only-child::after {width: 0;}#sk-container-id-1 div.sk-dashed-wrapped {border: 1px dashed gray;margin: 0 0.4em 0.5em 0.4em;box-sizing: border-box;padding-bottom: 0.4em;background-color: white;}#sk-container-id-1 div.sk-label label {font-family: monospace;font-weight: bold;display: inline-block;line-height: 1.2em;}#sk-container-id-1 div.sk-label-container {text-align: center;}#sk-container-id-1 div.sk-container {/* jupyter's `normalize.less` sets `[hidden] { display: none; }` but bootstrap.min.css set `[hidden] { display: none !important; }` so we also need the `!important` here to be able to override the default hidden behavior on the sphinx rendered scikit-learn.org. See: https://github.com/scikit-learn/scikit-learn/issues/21755 */display: inline-block !important;position: relative;}#sk-container-id-1 div.sk-text-repr-fallback {display: none;}</style><div id=\"sk-container-id-1\" class=\"sk-top-container\"><div class=\"sk-text-repr-fallback\"><pre>MultiOutputClassifier(estimator=MultinomialNB())</pre><b>In a Jupyter environment, please rerun this cell to show the HTML representation or trust the notebook. <br />On GitHub, the HTML representation is unable to render, please try loading this page with nbviewer.org.</b></div><div class=\"sk-container\" hidden><div class=\"sk-item sk-dashed-wrapped\"><div class=\"sk-label-container\"><div class=\"sk-label sk-toggleable\"><input class=\"sk-toggleable__control sk-hidden--visually\" id=\"sk-estimator-id-1\" type=\"checkbox\" ><label for=\"sk-estimator-id-1\" class=\"sk-toggleable__label sk-toggleable__label-arrow\">MultiOutputClassifier</label><div class=\"sk-toggleable__content\"><pre>MultiOutputClassifier(estimator=MultinomialNB())</pre></div></div></div><div class=\"sk-parallel\"><div class=\"sk-parallel-item\"><div class=\"sk-item\"><div class=\"sk-label-container\"><div class=\"sk-label sk-toggleable\"><input class=\"sk-toggleable__control sk-hidden--visually\" id=\"sk-estimator-id-2\" type=\"checkbox\" ><label for=\"sk-estimator-id-2\" class=\"sk-toggleable__label sk-toggleable__label-arrow\">estimator: MultinomialNB</label><div class=\"sk-toggleable__content\"><pre>MultinomialNB()</pre></div></div></div><div class=\"sk-serial\"><div class=\"sk-item\"><div class=\"sk-estimator sk-toggleable\"><input class=\"sk-toggleable__control sk-hidden--visually\" id=\"sk-estimator-id-3\" type=\"checkbox\" ><label for=\"sk-estimator-id-3\" class=\"sk-toggleable__label sk-toggleable__label-arrow\">MultinomialNB</label><div class=\"sk-toggleable__content\"><pre>MultinomialNB()</pre></div></div></div></div></div></div></div></div></div></div>"
      ],
      "text/plain": [
       "MultiOutputClassifier(estimator=MultinomialNB())"
      ]
     },
     "execution_count": 17,
     "metadata": {},
     "output_type": "execute_result"
    }
   ],
   "source": [
    "multi_clf.fit(x_train, y_train)"
   ]
  },
  {
   "cell_type": "markdown",
   "metadata": {
    "id": "KxZm1CgfoIYd"
   },
   "source": [
    "#Performance Evaluation on Naive Bayes\n"
   ]
  },
  {
   "cell_type": "code",
   "execution_count": 18,
   "metadata": {
    "colab": {
     "base_uri": "https://localhost:8080/"
    },
    "executionInfo": {
     "elapsed": 218,
     "status": "ok",
     "timestamp": 1699019843803,
     "user": {
      "displayName": "sujina shahi",
      "userId": "07203097800516006223"
     },
     "user_tz": 0
    },
    "id": "cq4crsecl7jb",
    "outputId": "09f03d89-d8e4-4723-8a6c-0ab962fc8290"
   },
   "outputs": [
    {
     "name": "stdout",
     "output_type": "stream",
     "text": [
      "accuracy: 0.98\n"
     ]
    }
   ],
   "source": [
    "# Calculate accuracy\n",
    "y_pred = multi_clf.predict(x_test)\n",
    "y_test = np.array(y_test)\n",
    "acc = np.sum((y_pred == y_test).astype(int)) / y_pred.size\n",
    "print(f\"accuracy: {float(acc):.2f}\")"
   ]
  },
  {
   "cell_type": "code",
   "execution_count": 19,
   "metadata": {
    "colab": {
     "base_uri": "https://localhost:8080/"
    },
    "executionInfo": {
     "elapsed": 325,
     "status": "ok",
     "timestamp": 1699019845528,
     "user": {
      "displayName": "sujina shahi",
      "userId": "07203097800516006223"
     },
     "user_tz": 0
    },
    "id": "sSMX3LjEMoCp",
    "outputId": "cb34cfdc-54d5-4219-b4a0-50cb6250a9bb"
   },
   "outputs": [
    {
     "name": "stdout",
     "output_type": "stream",
     "text": [
      "Precision: 0.8737\n",
      "Recall: 0.4340\n",
      "F1-Score: 0.5768\n"
     ]
    }
   ],
   "source": [
    "from sklearn.metrics import precision_recall_fscore_support\n",
    "\n",
    "\n",
    "# Calculate precision, recall, and F1-score\n",
    "precision, recall, f1_score, _ = precision_recall_fscore_support(y_test, y_pred, average='weighted')\n",
    "\n",
    "print(\"Precision: {:.4f}\".format(precision))\n",
    "print(\"Recall: {:.4f}\".format(recall))\n",
    "print(\"F1-Score: {:.4f}\".format(f1_score))"
   ]
  },
  {
   "cell_type": "code",
   "execution_count": 20,
   "metadata": {
    "colab": {
     "base_uri": "https://localhost:8080/"
    },
    "executionInfo": {
     "elapsed": 5104,
     "status": "ok",
     "timestamp": 1699020703943,
     "user": {
      "displayName": "sujina shahi",
      "userId": "07203097800516006223"
     },
     "user_tz": 0
    },
    "id": "thgjpGvheM6Y",
    "outputId": "36f3c5bb-48e4-4ab4-f6b5-4b80488f0a7c"
   },
   "outputs": [
    {
     "name": "stdout",
     "output_type": "stream",
     "text": [
      " Naive Bayes f1 score: [0.40626156 0.40971596 0.4152695  0.41759386 0.41105161]\n",
      " Mean f1 score for Naive Bayes: 0.4119784950391997\n"
     ]
    }
   ],
   "source": [
    "from sklearn.model_selection import cross_val_score\n",
    "import random\n",
    "import numpy as np\n",
    "np.random.seed(42)\n",
    "random.seed(32)\n",
    "\n",
    "scores = cross_val_score(multi_clf, x, y, cv=5, scoring=\"f1_macro\")\n",
    "print(f' Naive Bayes f1 score:', scores)\n",
    "print(f' Mean f1 score for Naive Bayes:',scores.mean())"
   ]
  },
  {
   "cell_type": "markdown",
   "metadata": {
    "id": "6OecRuZTom2y"
   },
   "source": [
    "#LOGISTIC REGRESSION CLASSIFICATION"
   ]
  },
  {
   "cell_type": "code",
   "execution_count": 21,
   "metadata": {
    "executionInfo": {
     "elapsed": 7179,
     "status": "ok",
     "timestamp": 1699019865134,
     "user": {
      "displayName": "sujina shahi",
      "userId": "07203097800516006223"
     },
     "user_tz": 0
    },
    "id": "UNDL1p9Eo7wO"
   },
   "outputs": [],
   "source": [
    "# Train classifier on the training split\n",
    "from sklearn.linear_model import LogisticRegression\n",
    "from sklearn.multiclass import OneVsRestClassifier\n",
    "\n",
    "#logreg_clf = LogisticRegression(solver=\"lbfgs\", random_state=42, max_iter=1000)\n",
    "\n",
    "logreg_clf = LogisticRegression(max_iter=1000)\n",
    "logreg_clf = OneVsRestClassifier(logreg_clf)\n",
    "\n",
    "\n",
    "#y_train = y_train.values.argmax(axis=1)\n",
    "logreg_clf = logreg_clf.fit(x_train, y_train)"
   ]
  },
  {
   "cell_type": "code",
   "execution_count": 22,
   "metadata": {
    "executionInfo": {
     "elapsed": 235,
     "status": "ok",
     "timestamp": 1699019944707,
     "user": {
      "displayName": "sujina shahi",
      "userId": "07203097800516006223"
     },
     "user_tz": 0
    },
    "id": "W_buB_TUTM5D"
   },
   "outputs": [],
   "source": [
    "y_pred_log = logreg_clf.predict(x_test)\n",
    "y_test= np.array(y_test)"
   ]
  },
  {
   "cell_type": "code",
   "execution_count": 23,
   "metadata": {
    "colab": {
     "base_uri": "https://localhost:8080/"
    },
    "executionInfo": {
     "elapsed": 219,
     "status": "ok",
     "timestamp": 1699020235499,
     "user": {
      "displayName": "sujina shahi",
      "userId": "07203097800516006223"
     },
     "user_tz": 0
    },
    "id": "rmGIZ98af0BT",
    "outputId": "54d3c830-ee5a-4cf0-f5d2-a05eb71e5762"
   },
   "outputs": [
    {
     "data": {
      "text/plain": [
       "array([[0, 0, 0, 0, 0, 0],\n",
       "       [0, 0, 0, 0, 0, 0],\n",
       "       [0, 0, 0, 0, 0, 0],\n",
       "       ...,\n",
       "       [0, 0, 0, 0, 0, 0],\n",
       "       [1, 0, 0, 0, 0, 0],\n",
       "       [0, 0, 0, 0, 0, 0]])"
      ]
     },
     "execution_count": 23,
     "metadata": {},
     "output_type": "execute_result"
    }
   ],
   "source": [
    "y_pred_log"
   ]
  },
  {
   "cell_type": "code",
   "execution_count": 24,
   "metadata": {
    "colab": {
     "base_uri": "https://localhost:8080/"
    },
    "executionInfo": {
     "elapsed": 6,
     "status": "ok",
     "timestamp": 1699020245730,
     "user": {
      "displayName": "sujina shahi",
      "userId": "07203097800516006223"
     },
     "user_tz": 0
    },
    "id": "zrz3bscSf3Hy",
    "outputId": "9012bd20-cca4-4fc1-9634-c0612c5c4fa7"
   },
   "outputs": [
    {
     "data": {
      "text/plain": [
       "array([[0, 0, 0, 0, 0, 0],\n",
       "       [0, 0, 0, 0, 0, 0],\n",
       "       [0, 0, 0, 0, 0, 0],\n",
       "       ...,\n",
       "       [0, 0, 0, 0, 0, 0],\n",
       "       [1, 0, 1, 0, 1, 0],\n",
       "       [0, 0, 0, 0, 0, 0]])"
      ]
     },
     "execution_count": 24,
     "metadata": {},
     "output_type": "execute_result"
    }
   ],
   "source": [
    "y_test"
   ]
  },
  {
   "cell_type": "markdown",
   "metadata": {
    "id": "qkYoxBEfVIb8"
   },
   "source": [
    "#Performance evaluation on logistic regression"
   ]
  },
  {
   "cell_type": "code",
   "execution_count": 25,
   "metadata": {
    "colab": {
     "base_uri": "https://localhost:8080/"
    },
    "executionInfo": {
     "elapsed": 254,
     "status": "ok",
     "timestamp": 1699020335186,
     "user": {
      "displayName": "sujina shahi",
      "userId": "07203097800516006223"
     },
     "user_tz": 0
    },
    "id": "IAMF29_kTFEh",
    "outputId": "fc23870a-1527-476c-a5ed-672de5b0572a"
   },
   "outputs": [
    {
     "name": "stdout",
     "output_type": "stream",
     "text": [
      "Accuracy: 0.9160\n"
     ]
    }
   ],
   "source": [
    "from sklearn.metrics import accuracy_score\n",
    "\n",
    "# Flatten y_test to make it compatible with y_pred\n",
    "#y_pred_log = y_pred_log.argmax(axis=1)\n",
    "\n",
    "# Calculate accuracy\n",
    "acc = accuracy_score(y_test, y_pred_log)\n",
    "print(f\"Accuracy: {acc:.4f}\")"
   ]
  },
  {
   "cell_type": "code",
   "execution_count": 26,
   "metadata": {
    "colab": {
     "base_uri": "https://localhost:8080/"
    },
    "executionInfo": {
     "elapsed": 249,
     "status": "ok",
     "timestamp": 1699020361400,
     "user": {
      "displayName": "sujina shahi",
      "userId": "07203097800516006223"
     },
     "user_tz": 0
    },
    "id": "DRB22eXkTZz2",
    "outputId": "a628cff3-1e8f-40c1-98a8-84056f62fe90"
   },
   "outputs": [
    {
     "name": "stdout",
     "output_type": "stream",
     "text": [
      "Precision: 0.8534\n",
      "Recall: 0.5172\n",
      "F1-Score: 0.6391\n"
     ]
    }
   ],
   "source": [
    "from sklearn.metrics import precision_recall_fscore_support\n",
    "\n",
    "\n",
    "# Calculate precision, recall, and F1-score\n",
    "precision, recall, f1_score, _ = precision_recall_fscore_support(y_test, y_pred_log, average='weighted',zero_division=1)\n",
    "\n",
    "print(\"Precision: {:.4f}\".format(precision))\n",
    "print(\"Recall: {:.4f}\".format(recall))\n",
    "print(\"F1-Score: {:.4f}\".format(f1_score))"
   ]
  },
  {
   "cell_type": "markdown",
   "metadata": {
    "id": "8iUwQ0LFpwnW"
   },
   "source": []
  },
  {
   "cell_type": "markdown",
   "metadata": {
    "id": "UfdOXznZo5_2"
   },
   "source": [
    "##CROSS VALIDATION\n"
   ]
  },
  {
   "cell_type": "code",
   "execution_count": 27,
   "metadata": {
    "colab": {
     "base_uri": "https://localhost:8080/"
    },
    "executionInfo": {
     "elapsed": 33931,
     "status": "ok",
     "timestamp": 1699020459676,
     "user": {
      "displayName": "sujina shahi",
      "userId": "07203097800516006223"
     },
     "user_tz": 0
    },
    "id": "nX0ll_YVHzML",
    "outputId": "67870d93-0745-4135-daae-ccd0180e5d59"
   },
   "outputs": [
    {
     "name": "stderr",
     "output_type": "stream",
     "text": [
      "/Users/manish/anaconda3/lib/python3.10/site-packages/sklearn/linear_model/_logistic.py:460: ConvergenceWarning: lbfgs failed to converge (status=1):\n",
      "STOP: TOTAL NO. of ITERATIONS REACHED LIMIT.\n",
      "\n",
      "Increase the number of iterations (max_iter) or scale the data as shown in:\n",
      "    https://scikit-learn.org/stable/modules/preprocessing.html\n",
      "Please also refer to the documentation for alternative solver options:\n",
      "    https://scikit-learn.org/stable/modules/linear_model.html#logistic-regression\n",
      "  n_iter_i = _check_optimize_result(\n",
      "/Users/manish/anaconda3/lib/python3.10/site-packages/sklearn/linear_model/_logistic.py:460: ConvergenceWarning: lbfgs failed to converge (status=1):\n",
      "STOP: TOTAL NO. of ITERATIONS REACHED LIMIT.\n",
      "\n",
      "Increase the number of iterations (max_iter) or scale the data as shown in:\n",
      "    https://scikit-learn.org/stable/modules/preprocessing.html\n",
      "Please also refer to the documentation for alternative solver options:\n",
      "    https://scikit-learn.org/stable/modules/linear_model.html#logistic-regression\n",
      "  n_iter_i = _check_optimize_result(\n"
     ]
    },
    {
     "name": "stdout",
     "output_type": "stream",
     "text": [
      "\n",
      "Logistic Regression F1 scores: [0.46182173 0.46726442 0.46061073 0.49235578 0.48250859]\n",
      "Mean F1 score for Logistic Regression: 0.47291224962382816\n"
     ]
    }
   ],
   "source": [
    "from sklearn.model_selection import cross_val_score\n",
    "from sklearn.linear_model import LogisticRegression\n",
    "from sklearn.multiclass import OneVsRestClassifier\n",
    "import numpy as np\n",
    "\n",
    "\n",
    "\n",
    "logreg_clf=LogisticRegression()\n",
    "logreg_clf = OneVsRestClassifier(logreg_clf)\n",
    "\n",
    "#y=np.argmax(y.values,axis=1)\n",
    "\n",
    "# Perform cross-validation\n",
    "scores_logreg = cross_val_score(logreg_clf, x, y, cv=5, scoring=\"f1_macro\")\n",
    "\n",
    "# Print the scores\n",
    "print(\"\\nLogistic Regression F1 scores:\", scores_logreg)\n",
    "print(\"Mean F1 score for Logistic Regression:\", scores_logreg.mean())"
   ]
  },
  {
   "cell_type": "code",
   "execution_count": null,
   "metadata": {
    "id": "iTrqjEzgYoIj"
   },
   "outputs": [],
   "source": []
  },
  {
   "cell_type": "code",
   "execution_count": null,
   "metadata": {
    "id": "t-2ZBp-lYoQU"
   },
   "outputs": [],
   "source": []
  },
  {
   "cell_type": "markdown",
   "metadata": {
    "id": "N61zG-8NiVLN"
   },
   "source": [
    "#Naive Bayes f1 score: [0.40626156 0.40971596 0.4152695  0.41759386 0.41105161]\n",
    "\n",
    "Mean f1 score for Naive Bayes:\n",
    "0.4119784950391997\n",
    "\n",
    "Logistic Regression F1 scores: [0.46182173 0.46726442 0.46061073 0.49231088 0.48250859]\n",
    "\n",
    "Mean F1 score for Logistic Regression: 0.47290326952627276\n",
    "\n",
    "\n",
    "##THIS MEANS THAT LOGISTIC REGRESSION PERFORMS SLIGHTLY BETTER THAN NAIVE BAYES CLASSIFIER"
   ]
  },
  {
   "cell_type": "markdown",
   "metadata": {
    "id": "UKzhQkN0i-qY"
   },
   "source": [
    "##GRID SEARCH CV FOR MODEL SELECTION"
   ]
  },
  {
   "cell_type": "code",
   "execution_count": 28,
   "metadata": {
    "colab": {
     "base_uri": "https://localhost:8080/"
    },
    "executionInfo": {
     "elapsed": 94072,
     "status": "ok",
     "timestamp": 1699023371856,
     "user": {
      "displayName": "sujina shahi",
      "userId": "07203097800516006223"
     },
     "user_tz": 0
    },
    "id": "dWjoqZmejago",
    "outputId": "4bc226a4-f3e3-4214-f8ba-12d3208a5a67"
   },
   "outputs": [
    {
     "name": "stdout",
     "output_type": "stream",
     "text": [
      "grid_search.best_params_: \n",
      "{'estimator__C': 2.0, 'estimator__penalty': 'l2'}\n",
      "grid_search.best_score_: \n",
      "0.4833254904484776\n"
     ]
    }
   ],
   "source": [
    "from sklearn.model_selection import GridSearchCV\n",
    "from sklearn.linear_model import LogisticRegression\n",
    "from sklearn.multiclass import OneVsRestClassifier\n",
    "\n",
    "# Create a logistic regression object\n",
    "logreg_clf = LogisticRegression(max_iter=1000)\n",
    "\n",
    "logreg_clf = OneVsRestClassifier(logreg_clf)\n",
    "\n",
    "# Define the parameter grid\n",
    "param_grid = {\n",
    "    \"estimator__C\": [0.1, 0.5, 1.0, 2.0,],\n",
    "    \"estimator__penalty\": [ 'l2'],\n",
    "}\n",
    "\n",
    "# Perform GridSearchCV\n",
    "grid_search = GridSearchCV(logreg_clf, param_grid, scoring=\"f1_macro\", cv=5)\n",
    "grid_search.fit(x_train, y_train)\n",
    "\n",
    "\n",
    "import sys\n",
    "# save all GridSearchCV results\n",
    "print(\"grid_search.best_params_: \", file=sys.stdout)\n",
    "print(grid_search.best_params_, file=sys.stdout)\n",
    "print(\"grid_search.best_score_: \", file=sys.stdout)\n",
    "print(grid_search.best_score_, file=sys.stdout)\n",
    "# Print the best parameters and the best score\n",
    "#print(\"Best parameters: \", grid_search.best_params_)\n",
    "#print(\"Best score: \", grid_search.best_score_)\n",
    "\n",
    "\n",
    "\n"
   ]
  },
  {
   "cell_type": "code",
   "execution_count": 29,
   "metadata": {
    "executionInfo": {
     "elapsed": 7223,
     "status": "ok",
     "timestamp": 1699023814858,
     "user": {
      "displayName": "sujina shahi",
      "userId": "07203097800516006223"
     },
     "user_tz": 0
    },
    "id": "fn_DvwlVol2w"
   },
   "outputs": [],
   "source": [
    "best_model = grid_search.best_estimator_\n",
    "logreg_clf = best_model.fit(x_train, y_train)"
   ]
  },
  {
   "cell_type": "code",
   "execution_count": null,
   "metadata": {
    "id": "bYNZHmGwsb3M"
   },
   "outputs": [],
   "source": []
  },
  {
   "cell_type": "markdown",
   "metadata": {
    "id": "HrJv9STCVp84"
   },
   "source": [
    "#TEST DATASET"
   ]
  },
  {
   "cell_type": "code",
   "execution_count": 30,
   "metadata": {
    "executionInfo": {
     "elapsed": 1700,
     "status": "ok",
     "timestamp": 1699023704330,
     "user": {
      "displayName": "sujina shahi",
      "userId": "07203097800516006223"
     },
     "user_tz": 0
    },
    "id": "XUtLy0hQVwba"
   },
   "outputs": [],
   "source": [
    "testdataset= pd.read_csv(\"test.csv\")"
   ]
  },
  {
   "cell_type": "code",
   "execution_count": 31,
   "metadata": {
    "colab": {
     "base_uri": "https://localhost:8080/",
     "height": 424
    },
    "executionInfo": {
     "elapsed": 13,
     "status": "ok",
     "timestamp": 1699023704331,
     "user": {
      "displayName": "sujina shahi",
      "userId": "07203097800516006223"
     },
     "user_tz": 0
    },
    "id": "CA0MEClhVwpX",
    "outputId": "b7dcc4c5-675d-4127-e2be-0522ad69c1c4"
   },
   "outputs": [
    {
     "data": {
      "text/html": [
       "<div>\n",
       "<style scoped>\n",
       "    .dataframe tbody tr th:only-of-type {\n",
       "        vertical-align: middle;\n",
       "    }\n",
       "\n",
       "    .dataframe tbody tr th {\n",
       "        vertical-align: top;\n",
       "    }\n",
       "\n",
       "    .dataframe thead th {\n",
       "        text-align: right;\n",
       "    }\n",
       "</style>\n",
       "<table border=\"1\" class=\"dataframe\">\n",
       "  <thead>\n",
       "    <tr style=\"text-align: right;\">\n",
       "      <th></th>\n",
       "      <th>id</th>\n",
       "      <th>comment_text</th>\n",
       "    </tr>\n",
       "  </thead>\n",
       "  <tbody>\n",
       "    <tr>\n",
       "      <th>0</th>\n",
       "      <td>00001cee341fdb12</td>\n",
       "      <td>Yo bitch Ja Rule is more succesful then you'll...</td>\n",
       "    </tr>\n",
       "    <tr>\n",
       "      <th>1</th>\n",
       "      <td>0000247867823ef7</td>\n",
       "      <td>== From RfC == \\n\\n The title is fine as it is...</td>\n",
       "    </tr>\n",
       "    <tr>\n",
       "      <th>2</th>\n",
       "      <td>00013b17ad220c46</td>\n",
       "      <td>\" \\n\\n == Sources == \\n\\n * Zawe Ashton on Lap...</td>\n",
       "    </tr>\n",
       "    <tr>\n",
       "      <th>3</th>\n",
       "      <td>00017563c3f7919a</td>\n",
       "      <td>:If you have a look back at the source, the in...</td>\n",
       "    </tr>\n",
       "    <tr>\n",
       "      <th>4</th>\n",
       "      <td>00017695ad8997eb</td>\n",
       "      <td>I don't anonymously edit articles at all.</td>\n",
       "    </tr>\n",
       "    <tr>\n",
       "      <th>...</th>\n",
       "      <td>...</td>\n",
       "      <td>...</td>\n",
       "    </tr>\n",
       "    <tr>\n",
       "      <th>153159</th>\n",
       "      <td>fffcd0960ee309b5</td>\n",
       "      <td>. \\n i totally agree, this stuff is nothing bu...</td>\n",
       "    </tr>\n",
       "    <tr>\n",
       "      <th>153160</th>\n",
       "      <td>fffd7a9a6eb32c16</td>\n",
       "      <td>== Throw from out field to home plate. == \\n\\n...</td>\n",
       "    </tr>\n",
       "    <tr>\n",
       "      <th>153161</th>\n",
       "      <td>fffda9e8d6fafa9e</td>\n",
       "      <td>\" \\n\\n == Okinotorishima categories == \\n\\n I ...</td>\n",
       "    </tr>\n",
       "    <tr>\n",
       "      <th>153162</th>\n",
       "      <td>fffe8f1340a79fc2</td>\n",
       "      <td>\" \\n\\n == \"\"One of the founding nations of the...</td>\n",
       "    </tr>\n",
       "    <tr>\n",
       "      <th>153163</th>\n",
       "      <td>ffffce3fb183ee80</td>\n",
       "      <td>\" \\n :::Stop already. Your bullshit is not wel...</td>\n",
       "    </tr>\n",
       "  </tbody>\n",
       "</table>\n",
       "<p>153164 rows × 2 columns</p>\n",
       "</div>"
      ],
      "text/plain": [
       "                      id                                       comment_text\n",
       "0       00001cee341fdb12  Yo bitch Ja Rule is more succesful then you'll...\n",
       "1       0000247867823ef7  == From RfC == \\n\\n The title is fine as it is...\n",
       "2       00013b17ad220c46  \" \\n\\n == Sources == \\n\\n * Zawe Ashton on Lap...\n",
       "3       00017563c3f7919a  :If you have a look back at the source, the in...\n",
       "4       00017695ad8997eb          I don't anonymously edit articles at all.\n",
       "...                  ...                                                ...\n",
       "153159  fffcd0960ee309b5  . \\n i totally agree, this stuff is nothing bu...\n",
       "153160  fffd7a9a6eb32c16  == Throw from out field to home plate. == \\n\\n...\n",
       "153161  fffda9e8d6fafa9e  \" \\n\\n == Okinotorishima categories == \\n\\n I ...\n",
       "153162  fffe8f1340a79fc2  \" \\n\\n == \"\"One of the founding nations of the...\n",
       "153163  ffffce3fb183ee80  \" \\n :::Stop already. Your bullshit is not wel...\n",
       "\n",
       "[153164 rows x 2 columns]"
      ]
     },
     "execution_count": 31,
     "metadata": {},
     "output_type": "execute_result"
    }
   ],
   "source": [
    "testdataset"
   ]
  },
  {
   "cell_type": "code",
   "execution_count": 32,
   "metadata": {
    "executionInfo": {
     "elapsed": 13900,
     "status": "ok",
     "timestamp": 1699023732529,
     "user": {
      "displayName": "sujina shahi",
      "userId": "07203097800516006223"
     },
     "user_tz": 0
    },
    "id": "Fj2ooVvuVwwd"
   },
   "outputs": [],
   "source": [
    "pptest_comments= preprocess(testdataset[\"comment_text\"]) #PREPROCESSING TEST DATASET"
   ]
  },
  {
   "cell_type": "code",
   "execution_count": 33,
   "metadata": {
    "executionInfo": {
     "elapsed": 6,
     "status": "ok",
     "timestamp": 1699023732530,
     "user": {
      "displayName": "sujina shahi",
      "userId": "07203097800516006223"
     },
     "user_tz": 0
    },
    "id": "5EbaEWDrVw3W"
   },
   "outputs": [],
   "source": [
    "from sklearn.feature_extraction.text import TfidfVectorizer\n",
    "vectorizer= TfidfVectorizer(max_features=1000, stop_words='english')\n"
   ]
  },
  {
   "cell_type": "code",
   "execution_count": 34,
   "metadata": {
    "executionInfo": {
     "elapsed": 13576,
     "status": "ok",
     "timestamp": 1699023747192,
     "user": {
      "displayName": "sujina shahi",
      "userId": "07203097800516006223"
     },
     "user_tz": 0
    },
    "id": "BusPF1GWVxYJ"
   },
   "outputs": [],
   "source": [
    "vectorizer.fit(pptest_comments)\n",
    "pptest_comments= vectorizer.transform(pptest_comments)\n"
   ]
  },
  {
   "cell_type": "code",
   "execution_count": 35,
   "metadata": {
    "colab": {
     "base_uri": "https://localhost:8080/"
    },
    "executionInfo": {
     "elapsed": 252,
     "status": "ok",
     "timestamp": 1699023934306,
     "user": {
      "displayName": "sujina shahi",
      "userId": "07203097800516006223"
     },
     "user_tz": 0
    },
    "id": "exF2r6g_tR3d",
    "outputId": "8afc4e61-8502-460f-8a67-09c0c3529b5d"
   },
   "outputs": [
    {
     "name": "stdout",
     "output_type": "stream",
     "text": [
      " Probability Predictions for the test dataset:\n",
      "[[0.01751817 0.00237908 0.00997018 0.00065537 0.00492418 0.00183632]\n",
      " [0.02116097 0.00275505 0.01014202 0.00251363 0.00673466 0.00152001]\n",
      " [0.02487368 0.00201781 0.01282432 0.00062005 0.01346455 0.00303986]\n",
      " ...\n",
      " [0.03596239 0.00435398 0.02820153 0.00185192 0.04262252 0.0053641 ]\n",
      " [0.01289482 0.00107765 0.00586469 0.00052595 0.0060165  0.00186549]\n",
      " [0.01546732 0.00207425 0.00558342 0.00026619 0.00613008 0.00464332]]\n"
     ]
    }
   ],
   "source": [
    "#MAKING PREDICTIONS ON THE TEST DATASET\n",
    "y_pred_test = best_model.predict_proba(pptest_comments)\n",
    "\n",
    "# Display the predictions\n",
    "print(\" Probability Predictions for the test dataset:\")\n",
    "print(y_pred_test)\n"
   ]
  },
  {
   "cell_type": "code",
   "execution_count": null,
   "metadata": {
    "id": "LgLHyXZPtR-_"
   },
   "outputs": [],
   "source": []
  },
  {
   "cell_type": "code",
   "execution_count": null,
   "metadata": {
    "id": "7dcvxn-XtSGr"
   },
   "outputs": [],
   "source": []
  },
  {
   "cell_type": "markdown",
   "metadata": {
    "id": "x1iHyKmkxLiB"
   },
   "source": [
    "##SAMPLE SUBMISSIONS"
   ]
  },
  {
   "cell_type": "code",
   "execution_count": 36,
   "metadata": {
    "executionInfo": {
     "elapsed": 617,
     "status": "ok",
     "timestamp": 1699026599827,
     "user": {
      "displayName": "sujina shahi",
      "userId": "07203097800516006223"
     },
     "user_tz": 0
    },
    "id": "JjxqPbP0xIQ_"
   },
   "outputs": [],
   "source": [
    "sample_submissions=pd.read_csv(\"sample_submission.csv\")"
   ]
  },
  {
   "cell_type": "code",
   "execution_count": 38,
   "metadata": {
    "colab": {
     "base_uri": "https://localhost:8080/"
    },
    "executionInfo": {
     "elapsed": 79830,
     "status": "ok",
     "timestamp": 1699026680667,
     "user": {
      "displayName": "sujina shahi",
      "userId": "07203097800516006223"
     },
     "user_tz": 0
    },
    "id": "AnbKDZdau6bU",
    "outputId": "5ce14e9e-8834-47be-ba35-a038d12f73fb"
   },
   "outputs": [],
   "source": [
    "\n",
    "\n",
    "for i in range(len(sample_submissions)):\n",
    "    for j in range(1, 7):  # Assuming there are 6 classes\n",
    "        sample_submissions.loc[i, f\"Class_{j}\"] = y_pred_test[i][j-1] \n"
   ]
  },
  {
   "cell_type": "code",
   "execution_count": 39,
   "metadata": {
    "scrolled": true
   },
   "outputs": [
    {
     "data": {
      "text/html": [
       "<div>\n",
       "<style scoped>\n",
       "    .dataframe tbody tr th:only-of-type {\n",
       "        vertical-align: middle;\n",
       "    }\n",
       "\n",
       "    .dataframe tbody tr th {\n",
       "        vertical-align: top;\n",
       "    }\n",
       "\n",
       "    .dataframe thead th {\n",
       "        text-align: right;\n",
       "    }\n",
       "</style>\n",
       "<table border=\"1\" class=\"dataframe\">\n",
       "  <thead>\n",
       "    <tr style=\"text-align: right;\">\n",
       "      <th></th>\n",
       "      <th>id</th>\n",
       "      <th>toxic</th>\n",
       "      <th>severe_toxic</th>\n",
       "      <th>obscene</th>\n",
       "      <th>threat</th>\n",
       "      <th>insult</th>\n",
       "      <th>identity_hate</th>\n",
       "      <th>Class_1</th>\n",
       "      <th>Class_2</th>\n",
       "      <th>Class_3</th>\n",
       "      <th>Class_4</th>\n",
       "      <th>Class_5</th>\n",
       "      <th>Class_6</th>\n",
       "    </tr>\n",
       "  </thead>\n",
       "  <tbody>\n",
       "    <tr>\n",
       "      <th>0</th>\n",
       "      <td>00001cee341fdb12</td>\n",
       "      <td>0.5</td>\n",
       "      <td>0.5</td>\n",
       "      <td>0.5</td>\n",
       "      <td>0.5</td>\n",
       "      <td>0.5</td>\n",
       "      <td>0.5</td>\n",
       "      <td>0.017518</td>\n",
       "      <td>0.002379</td>\n",
       "      <td>0.009970</td>\n",
       "      <td>0.000655</td>\n",
       "      <td>0.004924</td>\n",
       "      <td>0.001836</td>\n",
       "    </tr>\n",
       "    <tr>\n",
       "      <th>1</th>\n",
       "      <td>0000247867823ef7</td>\n",
       "      <td>0.5</td>\n",
       "      <td>0.5</td>\n",
       "      <td>0.5</td>\n",
       "      <td>0.5</td>\n",
       "      <td>0.5</td>\n",
       "      <td>0.5</td>\n",
       "      <td>0.021161</td>\n",
       "      <td>0.002755</td>\n",
       "      <td>0.010142</td>\n",
       "      <td>0.002514</td>\n",
       "      <td>0.006735</td>\n",
       "      <td>0.001520</td>\n",
       "    </tr>\n",
       "    <tr>\n",
       "      <th>2</th>\n",
       "      <td>00013b17ad220c46</td>\n",
       "      <td>0.5</td>\n",
       "      <td>0.5</td>\n",
       "      <td>0.5</td>\n",
       "      <td>0.5</td>\n",
       "      <td>0.5</td>\n",
       "      <td>0.5</td>\n",
       "      <td>0.024874</td>\n",
       "      <td>0.002018</td>\n",
       "      <td>0.012824</td>\n",
       "      <td>0.000620</td>\n",
       "      <td>0.013465</td>\n",
       "      <td>0.003040</td>\n",
       "    </tr>\n",
       "    <tr>\n",
       "      <th>3</th>\n",
       "      <td>00017563c3f7919a</td>\n",
       "      <td>0.5</td>\n",
       "      <td>0.5</td>\n",
       "      <td>0.5</td>\n",
       "      <td>0.5</td>\n",
       "      <td>0.5</td>\n",
       "      <td>0.5</td>\n",
       "      <td>0.019787</td>\n",
       "      <td>0.006392</td>\n",
       "      <td>0.019767</td>\n",
       "      <td>0.004733</td>\n",
       "      <td>0.009458</td>\n",
       "      <td>0.005038</td>\n",
       "    </tr>\n",
       "    <tr>\n",
       "      <th>4</th>\n",
       "      <td>00017695ad8997eb</td>\n",
       "      <td>0.5</td>\n",
       "      <td>0.5</td>\n",
       "      <td>0.5</td>\n",
       "      <td>0.5</td>\n",
       "      <td>0.5</td>\n",
       "      <td>0.5</td>\n",
       "      <td>0.351896</td>\n",
       "      <td>0.008198</td>\n",
       "      <td>0.104495</td>\n",
       "      <td>0.001247</td>\n",
       "      <td>0.059121</td>\n",
       "      <td>0.005339</td>\n",
       "    </tr>\n",
       "    <tr>\n",
       "      <th>...</th>\n",
       "      <td>...</td>\n",
       "      <td>...</td>\n",
       "      <td>...</td>\n",
       "      <td>...</td>\n",
       "      <td>...</td>\n",
       "      <td>...</td>\n",
       "      <td>...</td>\n",
       "      <td>...</td>\n",
       "      <td>...</td>\n",
       "      <td>...</td>\n",
       "      <td>...</td>\n",
       "      <td>...</td>\n",
       "      <td>...</td>\n",
       "    </tr>\n",
       "    <tr>\n",
       "      <th>153159</th>\n",
       "      <td>fffcd0960ee309b5</td>\n",
       "      <td>0.5</td>\n",
       "      <td>0.5</td>\n",
       "      <td>0.5</td>\n",
       "      <td>0.5</td>\n",
       "      <td>0.5</td>\n",
       "      <td>0.5</td>\n",
       "      <td>0.077724</td>\n",
       "      <td>0.004735</td>\n",
       "      <td>0.013756</td>\n",
       "      <td>0.001033</td>\n",
       "      <td>0.017239</td>\n",
       "      <td>0.004215</td>\n",
       "    </tr>\n",
       "    <tr>\n",
       "      <th>153160</th>\n",
       "      <td>fffd7a9a6eb32c16</td>\n",
       "      <td>0.5</td>\n",
       "      <td>0.5</td>\n",
       "      <td>0.5</td>\n",
       "      <td>0.5</td>\n",
       "      <td>0.5</td>\n",
       "      <td>0.5</td>\n",
       "      <td>0.030923</td>\n",
       "      <td>0.005970</td>\n",
       "      <td>0.025521</td>\n",
       "      <td>0.001009</td>\n",
       "      <td>0.031821</td>\n",
       "      <td>0.004103</td>\n",
       "    </tr>\n",
       "    <tr>\n",
       "      <th>153161</th>\n",
       "      <td>fffda9e8d6fafa9e</td>\n",
       "      <td>0.5</td>\n",
       "      <td>0.5</td>\n",
       "      <td>0.5</td>\n",
       "      <td>0.5</td>\n",
       "      <td>0.5</td>\n",
       "      <td>0.5</td>\n",
       "      <td>0.035962</td>\n",
       "      <td>0.004354</td>\n",
       "      <td>0.028202</td>\n",
       "      <td>0.001852</td>\n",
       "      <td>0.042623</td>\n",
       "      <td>0.005364</td>\n",
       "    </tr>\n",
       "    <tr>\n",
       "      <th>153162</th>\n",
       "      <td>fffe8f1340a79fc2</td>\n",
       "      <td>0.5</td>\n",
       "      <td>0.5</td>\n",
       "      <td>0.5</td>\n",
       "      <td>0.5</td>\n",
       "      <td>0.5</td>\n",
       "      <td>0.5</td>\n",
       "      <td>0.012895</td>\n",
       "      <td>0.001078</td>\n",
       "      <td>0.005865</td>\n",
       "      <td>0.000526</td>\n",
       "      <td>0.006017</td>\n",
       "      <td>0.001865</td>\n",
       "    </tr>\n",
       "    <tr>\n",
       "      <th>153163</th>\n",
       "      <td>ffffce3fb183ee80</td>\n",
       "      <td>0.5</td>\n",
       "      <td>0.5</td>\n",
       "      <td>0.5</td>\n",
       "      <td>0.5</td>\n",
       "      <td>0.5</td>\n",
       "      <td>0.5</td>\n",
       "      <td>0.015467</td>\n",
       "      <td>0.002074</td>\n",
       "      <td>0.005583</td>\n",
       "      <td>0.000266</td>\n",
       "      <td>0.006130</td>\n",
       "      <td>0.004643</td>\n",
       "    </tr>\n",
       "  </tbody>\n",
       "</table>\n",
       "<p>153164 rows × 13 columns</p>\n",
       "</div>"
      ],
      "text/plain": [
       "                      id  toxic  severe_toxic  obscene  threat  insult  \\\n",
       "0       00001cee341fdb12    0.5           0.5      0.5     0.5     0.5   \n",
       "1       0000247867823ef7    0.5           0.5      0.5     0.5     0.5   \n",
       "2       00013b17ad220c46    0.5           0.5      0.5     0.5     0.5   \n",
       "3       00017563c3f7919a    0.5           0.5      0.5     0.5     0.5   \n",
       "4       00017695ad8997eb    0.5           0.5      0.5     0.5     0.5   \n",
       "...                  ...    ...           ...      ...     ...     ...   \n",
       "153159  fffcd0960ee309b5    0.5           0.5      0.5     0.5     0.5   \n",
       "153160  fffd7a9a6eb32c16    0.5           0.5      0.5     0.5     0.5   \n",
       "153161  fffda9e8d6fafa9e    0.5           0.5      0.5     0.5     0.5   \n",
       "153162  fffe8f1340a79fc2    0.5           0.5      0.5     0.5     0.5   \n",
       "153163  ffffce3fb183ee80    0.5           0.5      0.5     0.5     0.5   \n",
       "\n",
       "        identity_hate   Class_1   Class_2   Class_3   Class_4   Class_5  \\\n",
       "0                 0.5  0.017518  0.002379  0.009970  0.000655  0.004924   \n",
       "1                 0.5  0.021161  0.002755  0.010142  0.002514  0.006735   \n",
       "2                 0.5  0.024874  0.002018  0.012824  0.000620  0.013465   \n",
       "3                 0.5  0.019787  0.006392  0.019767  0.004733  0.009458   \n",
       "4                 0.5  0.351896  0.008198  0.104495  0.001247  0.059121   \n",
       "...               ...       ...       ...       ...       ...       ...   \n",
       "153159            0.5  0.077724  0.004735  0.013756  0.001033  0.017239   \n",
       "153160            0.5  0.030923  0.005970  0.025521  0.001009  0.031821   \n",
       "153161            0.5  0.035962  0.004354  0.028202  0.001852  0.042623   \n",
       "153162            0.5  0.012895  0.001078  0.005865  0.000526  0.006017   \n",
       "153163            0.5  0.015467  0.002074  0.005583  0.000266  0.006130   \n",
       "\n",
       "         Class_6  \n",
       "0       0.001836  \n",
       "1       0.001520  \n",
       "2       0.003040  \n",
       "3       0.005038  \n",
       "4       0.005339  \n",
       "...          ...  \n",
       "153159  0.004215  \n",
       "153160  0.004103  \n",
       "153161  0.005364  \n",
       "153162  0.001865  \n",
       "153163  0.004643  \n",
       "\n",
       "[153164 rows x 13 columns]"
      ]
     },
     "execution_count": 39,
     "metadata": {},
     "output_type": "execute_result"
    }
   ],
   "source": [
    "sample_submissions"
   ]
  },
  {
   "cell_type": "code",
   "execution_count": 40,
   "metadata": {
    "colab": {
     "base_uri": "https://localhost:8080/",
     "height": 226
    },
    "executionInfo": {
     "elapsed": 249,
     "status": "ok",
     "timestamp": 1699027338097,
     "user": {
      "displayName": "sujina shahi",
      "userId": "07203097800516006223"
     },
     "user_tz": 0
    },
    "id": "Hv9i3rHwvbg6",
    "outputId": "7a2a2272-9a6c-4f2d-a16e-9f80e255b4a4"
   },
   "outputs": [
    {
     "data": {
      "text/html": [
       "<div>\n",
       "<style scoped>\n",
       "    .dataframe tbody tr th:only-of-type {\n",
       "        vertical-align: middle;\n",
       "    }\n",
       "\n",
       "    .dataframe tbody tr th {\n",
       "        vertical-align: top;\n",
       "    }\n",
       "\n",
       "    .dataframe thead th {\n",
       "        text-align: right;\n",
       "    }\n",
       "</style>\n",
       "<table border=\"1\" class=\"dataframe\">\n",
       "  <thead>\n",
       "    <tr style=\"text-align: right;\">\n",
       "      <th></th>\n",
       "      <th>id</th>\n",
       "      <th>toxic</th>\n",
       "      <th>severe_toxic</th>\n",
       "      <th>obscene</th>\n",
       "      <th>threat</th>\n",
       "      <th>insult</th>\n",
       "      <th>identity_hate</th>\n",
       "      <th>Class_1</th>\n",
       "      <th>Class_2</th>\n",
       "      <th>Class_3</th>\n",
       "      <th>Class_4</th>\n",
       "      <th>Class_5</th>\n",
       "      <th>Class_6</th>\n",
       "    </tr>\n",
       "  </thead>\n",
       "  <tbody>\n",
       "    <tr>\n",
       "      <th>0</th>\n",
       "      <td>00001cee341fdb12</td>\n",
       "      <td>0.5</td>\n",
       "      <td>0.5</td>\n",
       "      <td>0.5</td>\n",
       "      <td>0.5</td>\n",
       "      <td>0.5</td>\n",
       "      <td>0.5</td>\n",
       "      <td>0.017518</td>\n",
       "      <td>0.002379</td>\n",
       "      <td>0.009970</td>\n",
       "      <td>0.000655</td>\n",
       "      <td>0.004924</td>\n",
       "      <td>0.001836</td>\n",
       "    </tr>\n",
       "    <tr>\n",
       "      <th>1</th>\n",
       "      <td>0000247867823ef7</td>\n",
       "      <td>0.5</td>\n",
       "      <td>0.5</td>\n",
       "      <td>0.5</td>\n",
       "      <td>0.5</td>\n",
       "      <td>0.5</td>\n",
       "      <td>0.5</td>\n",
       "      <td>0.021161</td>\n",
       "      <td>0.002755</td>\n",
       "      <td>0.010142</td>\n",
       "      <td>0.002514</td>\n",
       "      <td>0.006735</td>\n",
       "      <td>0.001520</td>\n",
       "    </tr>\n",
       "    <tr>\n",
       "      <th>2</th>\n",
       "      <td>00013b17ad220c46</td>\n",
       "      <td>0.5</td>\n",
       "      <td>0.5</td>\n",
       "      <td>0.5</td>\n",
       "      <td>0.5</td>\n",
       "      <td>0.5</td>\n",
       "      <td>0.5</td>\n",
       "      <td>0.024874</td>\n",
       "      <td>0.002018</td>\n",
       "      <td>0.012824</td>\n",
       "      <td>0.000620</td>\n",
       "      <td>0.013465</td>\n",
       "      <td>0.003040</td>\n",
       "    </tr>\n",
       "    <tr>\n",
       "      <th>3</th>\n",
       "      <td>00017563c3f7919a</td>\n",
       "      <td>0.5</td>\n",
       "      <td>0.5</td>\n",
       "      <td>0.5</td>\n",
       "      <td>0.5</td>\n",
       "      <td>0.5</td>\n",
       "      <td>0.5</td>\n",
       "      <td>0.019787</td>\n",
       "      <td>0.006392</td>\n",
       "      <td>0.019767</td>\n",
       "      <td>0.004733</td>\n",
       "      <td>0.009458</td>\n",
       "      <td>0.005038</td>\n",
       "    </tr>\n",
       "    <tr>\n",
       "      <th>4</th>\n",
       "      <td>00017695ad8997eb</td>\n",
       "      <td>0.5</td>\n",
       "      <td>0.5</td>\n",
       "      <td>0.5</td>\n",
       "      <td>0.5</td>\n",
       "      <td>0.5</td>\n",
       "      <td>0.5</td>\n",
       "      <td>0.351896</td>\n",
       "      <td>0.008198</td>\n",
       "      <td>0.104495</td>\n",
       "      <td>0.001247</td>\n",
       "      <td>0.059121</td>\n",
       "      <td>0.005339</td>\n",
       "    </tr>\n",
       "  </tbody>\n",
       "</table>\n",
       "</div>"
      ],
      "text/plain": [
       "                 id  toxic  severe_toxic  obscene  threat  insult  \\\n",
       "0  00001cee341fdb12    0.5           0.5      0.5     0.5     0.5   \n",
       "1  0000247867823ef7    0.5           0.5      0.5     0.5     0.5   \n",
       "2  00013b17ad220c46    0.5           0.5      0.5     0.5     0.5   \n",
       "3  00017563c3f7919a    0.5           0.5      0.5     0.5     0.5   \n",
       "4  00017695ad8997eb    0.5           0.5      0.5     0.5     0.5   \n",
       "\n",
       "   identity_hate   Class_1   Class_2   Class_3   Class_4   Class_5   Class_6  \n",
       "0            0.5  0.017518  0.002379  0.009970  0.000655  0.004924  0.001836  \n",
       "1            0.5  0.021161  0.002755  0.010142  0.002514  0.006735  0.001520  \n",
       "2            0.5  0.024874  0.002018  0.012824  0.000620  0.013465  0.003040  \n",
       "3            0.5  0.019787  0.006392  0.019767  0.004733  0.009458  0.005038  \n",
       "4            0.5  0.351896  0.008198  0.104495  0.001247  0.059121  0.005339  "
      ]
     },
     "execution_count": 40,
     "metadata": {},
     "output_type": "execute_result"
    }
   ],
   "source": [
    "sample_submissions.head()"
   ]
  },
  {
   "cell_type": "code",
   "execution_count": 41,
   "metadata": {
    "colab": {
     "base_uri": "https://localhost:8080/",
     "height": 444
    },
    "executionInfo": {
     "elapsed": 381,
     "status": "ok",
     "timestamp": 1699027340050,
     "user": {
      "displayName": "sujina shahi",
      "userId": "07203097800516006223"
     },
     "user_tz": 0
    },
    "id": "MoCu7knN2kFb",
    "outputId": "f0a942fd-721a-4960-e0ab-ec7d52706b42"
   },
   "outputs": [
    {
     "data": {
      "text/html": [
       "<div>\n",
       "<style scoped>\n",
       "    .dataframe tbody tr th:only-of-type {\n",
       "        vertical-align: middle;\n",
       "    }\n",
       "\n",
       "    .dataframe tbody tr th {\n",
       "        vertical-align: top;\n",
       "    }\n",
       "\n",
       "    .dataframe thead th {\n",
       "        text-align: right;\n",
       "    }\n",
       "</style>\n",
       "<table border=\"1\" class=\"dataframe\">\n",
       "  <thead>\n",
       "    <tr style=\"text-align: right;\">\n",
       "      <th></th>\n",
       "      <th>id</th>\n",
       "      <th>toxic</th>\n",
       "      <th>severe_toxic</th>\n",
       "      <th>obscene</th>\n",
       "      <th>threat</th>\n",
       "      <th>insult</th>\n",
       "      <th>identity_hate</th>\n",
       "      <th>prob_toxic</th>\n",
       "      <th>prob_severe_toxic</th>\n",
       "      <th>prob_obscene</th>\n",
       "      <th>prob_threat</th>\n",
       "      <th>prob_insult</th>\n",
       "      <th>prob_identity_hate</th>\n",
       "    </tr>\n",
       "  </thead>\n",
       "  <tbody>\n",
       "    <tr>\n",
       "      <th>0</th>\n",
       "      <td>00001cee341fdb12</td>\n",
       "      <td>0.5</td>\n",
       "      <td>0.5</td>\n",
       "      <td>0.5</td>\n",
       "      <td>0.5</td>\n",
       "      <td>0.5</td>\n",
       "      <td>0.5</td>\n",
       "      <td>0.017518</td>\n",
       "      <td>0.002379</td>\n",
       "      <td>0.009970</td>\n",
       "      <td>0.000655</td>\n",
       "      <td>0.004924</td>\n",
       "      <td>0.001836</td>\n",
       "    </tr>\n",
       "    <tr>\n",
       "      <th>1</th>\n",
       "      <td>0000247867823ef7</td>\n",
       "      <td>0.5</td>\n",
       "      <td>0.5</td>\n",
       "      <td>0.5</td>\n",
       "      <td>0.5</td>\n",
       "      <td>0.5</td>\n",
       "      <td>0.5</td>\n",
       "      <td>0.021161</td>\n",
       "      <td>0.002755</td>\n",
       "      <td>0.010142</td>\n",
       "      <td>0.002514</td>\n",
       "      <td>0.006735</td>\n",
       "      <td>0.001520</td>\n",
       "    </tr>\n",
       "    <tr>\n",
       "      <th>2</th>\n",
       "      <td>00013b17ad220c46</td>\n",
       "      <td>0.5</td>\n",
       "      <td>0.5</td>\n",
       "      <td>0.5</td>\n",
       "      <td>0.5</td>\n",
       "      <td>0.5</td>\n",
       "      <td>0.5</td>\n",
       "      <td>0.024874</td>\n",
       "      <td>0.002018</td>\n",
       "      <td>0.012824</td>\n",
       "      <td>0.000620</td>\n",
       "      <td>0.013465</td>\n",
       "      <td>0.003040</td>\n",
       "    </tr>\n",
       "    <tr>\n",
       "      <th>3</th>\n",
       "      <td>00017563c3f7919a</td>\n",
       "      <td>0.5</td>\n",
       "      <td>0.5</td>\n",
       "      <td>0.5</td>\n",
       "      <td>0.5</td>\n",
       "      <td>0.5</td>\n",
       "      <td>0.5</td>\n",
       "      <td>0.019787</td>\n",
       "      <td>0.006392</td>\n",
       "      <td>0.019767</td>\n",
       "      <td>0.004733</td>\n",
       "      <td>0.009458</td>\n",
       "      <td>0.005038</td>\n",
       "    </tr>\n",
       "    <tr>\n",
       "      <th>4</th>\n",
       "      <td>00017695ad8997eb</td>\n",
       "      <td>0.5</td>\n",
       "      <td>0.5</td>\n",
       "      <td>0.5</td>\n",
       "      <td>0.5</td>\n",
       "      <td>0.5</td>\n",
       "      <td>0.5</td>\n",
       "      <td>0.351896</td>\n",
       "      <td>0.008198</td>\n",
       "      <td>0.104495</td>\n",
       "      <td>0.001247</td>\n",
       "      <td>0.059121</td>\n",
       "      <td>0.005339</td>\n",
       "    </tr>\n",
       "    <tr>\n",
       "      <th>...</th>\n",
       "      <td>...</td>\n",
       "      <td>...</td>\n",
       "      <td>...</td>\n",
       "      <td>...</td>\n",
       "      <td>...</td>\n",
       "      <td>...</td>\n",
       "      <td>...</td>\n",
       "      <td>...</td>\n",
       "      <td>...</td>\n",
       "      <td>...</td>\n",
       "      <td>...</td>\n",
       "      <td>...</td>\n",
       "      <td>...</td>\n",
       "    </tr>\n",
       "    <tr>\n",
       "      <th>153159</th>\n",
       "      <td>fffcd0960ee309b5</td>\n",
       "      <td>0.5</td>\n",
       "      <td>0.5</td>\n",
       "      <td>0.5</td>\n",
       "      <td>0.5</td>\n",
       "      <td>0.5</td>\n",
       "      <td>0.5</td>\n",
       "      <td>0.077724</td>\n",
       "      <td>0.004735</td>\n",
       "      <td>0.013756</td>\n",
       "      <td>0.001033</td>\n",
       "      <td>0.017239</td>\n",
       "      <td>0.004215</td>\n",
       "    </tr>\n",
       "    <tr>\n",
       "      <th>153160</th>\n",
       "      <td>fffd7a9a6eb32c16</td>\n",
       "      <td>0.5</td>\n",
       "      <td>0.5</td>\n",
       "      <td>0.5</td>\n",
       "      <td>0.5</td>\n",
       "      <td>0.5</td>\n",
       "      <td>0.5</td>\n",
       "      <td>0.030923</td>\n",
       "      <td>0.005970</td>\n",
       "      <td>0.025521</td>\n",
       "      <td>0.001009</td>\n",
       "      <td>0.031821</td>\n",
       "      <td>0.004103</td>\n",
       "    </tr>\n",
       "    <tr>\n",
       "      <th>153161</th>\n",
       "      <td>fffda9e8d6fafa9e</td>\n",
       "      <td>0.5</td>\n",
       "      <td>0.5</td>\n",
       "      <td>0.5</td>\n",
       "      <td>0.5</td>\n",
       "      <td>0.5</td>\n",
       "      <td>0.5</td>\n",
       "      <td>0.035962</td>\n",
       "      <td>0.004354</td>\n",
       "      <td>0.028202</td>\n",
       "      <td>0.001852</td>\n",
       "      <td>0.042623</td>\n",
       "      <td>0.005364</td>\n",
       "    </tr>\n",
       "    <tr>\n",
       "      <th>153162</th>\n",
       "      <td>fffe8f1340a79fc2</td>\n",
       "      <td>0.5</td>\n",
       "      <td>0.5</td>\n",
       "      <td>0.5</td>\n",
       "      <td>0.5</td>\n",
       "      <td>0.5</td>\n",
       "      <td>0.5</td>\n",
       "      <td>0.012895</td>\n",
       "      <td>0.001078</td>\n",
       "      <td>0.005865</td>\n",
       "      <td>0.000526</td>\n",
       "      <td>0.006017</td>\n",
       "      <td>0.001865</td>\n",
       "    </tr>\n",
       "    <tr>\n",
       "      <th>153163</th>\n",
       "      <td>ffffce3fb183ee80</td>\n",
       "      <td>0.5</td>\n",
       "      <td>0.5</td>\n",
       "      <td>0.5</td>\n",
       "      <td>0.5</td>\n",
       "      <td>0.5</td>\n",
       "      <td>0.5</td>\n",
       "      <td>0.015467</td>\n",
       "      <td>0.002074</td>\n",
       "      <td>0.005583</td>\n",
       "      <td>0.000266</td>\n",
       "      <td>0.006130</td>\n",
       "      <td>0.004643</td>\n",
       "    </tr>\n",
       "  </tbody>\n",
       "</table>\n",
       "<p>153164 rows × 13 columns</p>\n",
       "</div>"
      ],
      "text/plain": [
       "                      id  toxic  severe_toxic  obscene  threat  insult  \\\n",
       "0       00001cee341fdb12    0.5           0.5      0.5     0.5     0.5   \n",
       "1       0000247867823ef7    0.5           0.5      0.5     0.5     0.5   \n",
       "2       00013b17ad220c46    0.5           0.5      0.5     0.5     0.5   \n",
       "3       00017563c3f7919a    0.5           0.5      0.5     0.5     0.5   \n",
       "4       00017695ad8997eb    0.5           0.5      0.5     0.5     0.5   \n",
       "...                  ...    ...           ...      ...     ...     ...   \n",
       "153159  fffcd0960ee309b5    0.5           0.5      0.5     0.5     0.5   \n",
       "153160  fffd7a9a6eb32c16    0.5           0.5      0.5     0.5     0.5   \n",
       "153161  fffda9e8d6fafa9e    0.5           0.5      0.5     0.5     0.5   \n",
       "153162  fffe8f1340a79fc2    0.5           0.5      0.5     0.5     0.5   \n",
       "153163  ffffce3fb183ee80    0.5           0.5      0.5     0.5     0.5   \n",
       "\n",
       "        identity_hate  prob_toxic  prob_severe_toxic  prob_obscene  \\\n",
       "0                 0.5    0.017518           0.002379      0.009970   \n",
       "1                 0.5    0.021161           0.002755      0.010142   \n",
       "2                 0.5    0.024874           0.002018      0.012824   \n",
       "3                 0.5    0.019787           0.006392      0.019767   \n",
       "4                 0.5    0.351896           0.008198      0.104495   \n",
       "...               ...         ...                ...           ...   \n",
       "153159            0.5    0.077724           0.004735      0.013756   \n",
       "153160            0.5    0.030923           0.005970      0.025521   \n",
       "153161            0.5    0.035962           0.004354      0.028202   \n",
       "153162            0.5    0.012895           0.001078      0.005865   \n",
       "153163            0.5    0.015467           0.002074      0.005583   \n",
       "\n",
       "        prob_threat  prob_insult  prob_identity_hate  \n",
       "0          0.000655     0.004924            0.001836  \n",
       "1          0.002514     0.006735            0.001520  \n",
       "2          0.000620     0.013465            0.003040  \n",
       "3          0.004733     0.009458            0.005038  \n",
       "4          0.001247     0.059121            0.005339  \n",
       "...             ...          ...                 ...  \n",
       "153159     0.001033     0.017239            0.004215  \n",
       "153160     0.001009     0.031821            0.004103  \n",
       "153161     0.001852     0.042623            0.005364  \n",
       "153162     0.000526     0.006017            0.001865  \n",
       "153163     0.000266     0.006130            0.004643  \n",
       "\n",
       "[153164 rows x 13 columns]"
      ]
     },
     "execution_count": 41,
     "metadata": {},
     "output_type": "execute_result"
    }
   ],
   "source": [
    "labels= {\n",
    "    \"Class_1\": \"prob_toxic\",\n",
    "    \"Class_2\": \"prob_severe_toxic\",\n",
    "    \"Class_3\":\"prob_obscene\",\n",
    "    \"Class_4\":\"prob_threat\",\n",
    "    \"Class_5\":\"prob_insult\",\n",
    "    \"Class_6\":\"prob_identity_hate\"\n",
    "}\n",
    "\n",
    "sample_submissions=sample_submissions.rename(columns=labels)\n",
    "sample_submissions"
   ]
  },
  {
   "cell_type": "code",
   "execution_count": 43,
   "metadata": {
    "colab": {
     "base_uri": "https://localhost:8080/",
     "height": 675
    },
    "executionInfo": {
     "elapsed": 417,
     "status": "ok",
     "timestamp": 1699027363966,
     "user": {
      "displayName": "sujina shahi",
      "userId": "07203097800516006223"
     },
     "user_tz": 0
    },
    "id": "R2pgewTky482",
    "outputId": "f246248e-460e-4efc-c83e-72ce380a8b4d"
   },
   "outputs": [
    {
     "data": {
      "image/png": "[encoded data removed]",
      "text/plain": [
       "<Figure size 800x800 with 1 Axes>"
      ]
     },
     "metadata": {},
     "output_type": "display_data"
    }
   ],
   "source": [
    "import matplotlib.pyplot as plt\n",
    "\n",
    "probabilities = sample_submissions[['prob_toxic','prob_severe_toxic' , 'prob_obscene', 'prob_threat','prob_insult','prob_identity_hate']]\n",
    "\n",
    "colors = ['gold', 'yellowgreen', 'lightcoral', 'lightskyblue', 'lightgreen', 'pink']\n",
    "plt.figure(figsize=(8,8))\n",
    "plt.pie(probabilities.iloc[0], labels=probabilities.columns, colors=colors, autopct='%1.1f%%', startangle=140)\n",
    "plt.title('Probability Percentage for Each Class Label')\n",
    "plt.show()\n"
   ]
  },
  {
   "cell_type": "code",
   "execution_count": null,
   "metadata": {
    "id": "i55_wvo_3T4u"
   },
   "outputs": [],
   "source": []
  },
  {
   "cell_type": "code",
   "execution_count": null,
   "metadata": {
    "id": "1E04rBPx3UAi"
   },
   "outputs": [],
   "source": []
  }
 ],
 "metadata": {
  "accelerator": "GPU",
  "colab": {
   "authorship_tag": "ABX9TyMfrzA7qSIvY6oVPDyTC74+",
   "gpuType": "T4",
   "provenance": [
    {
     "file_id": "12xF1sAmdAN5srh-mIdVLlIOZzTfq-L36",
     "timestamp": 1698959371977
    }
   ],
   "toc_visible": true
  },
  "kernelspec": {
   "display_name": "Python 3 (ipykernel)",
   "language": "python",
   "name": "python3"
  },
  "language_info": {
   "codemirror_mode": {
    "name": "ipython",
    "version": 3
   },
   "file_extension": ".py",
   "mimetype": "text/x-python",
   "name": "python",
   "nbconvert_exporter": "python",
   "pygments_lexer": "ipython3",
   "version": "3.10.9"
  }
 },
 "nbformat": 4,
 "nbformat_minor": 1
}
